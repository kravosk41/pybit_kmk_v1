{
 "cells": [
  {
   "cell_type": "markdown",
   "id": "b4d81d9f-199b-456a-a5a4-e374a3fc16fa",
   "metadata": {},
   "source": [
    "###  Managed Care Sales Performance"
   ]
  },
  {
   "cell_type": "code",
   "execution_count": 32,
   "id": "3dda1585-f3f7-4cf5-9c64-678e00cff912",
   "metadata": {
    "jupyter": {
     "source_hidden": true
    }
   },
   "outputs": [],
   "source": [
    "import polars as pl\n",
    "import gc\n",
    "import pandas as pd\n",
    "from datetime import datetime, timedelta,date\n",
    "import json\n",
    "import numpy as np"
   ]
  },
  {
   "cell_type": "code",
   "execution_count": 33,
   "id": "e1440ad3-fd57-4930-b02c-efbe139c0e15",
   "metadata": {
    "jupyter": {
     "source_hidden": true
    }
   },
   "outputs": [],
   "source": [
    "# load variables from JSON\n",
    "with open('vars_wk.json', 'r') as json_file:\n",
    "    js = json.load(json_file)\n",
    "\n",
    "bucket = js['bucket']\n",
    "# data_date = js['data_date']\n",
    "# monthly_data_date = js['monthly_data_date']\n",
    "data_date = '20240712'\n",
    "monthly_data_date = '202406'\n",
    "QTD = 3\n",
    "YTD = 6 \n",
    "#TODO: CONNECT TO JSON LATER\n",
    "\n",
    "dflib = f's3://{bucket}/BIT/dataframes/'\n",
    "pln = f's3://{bucket}/PYADM/weekly/archive/{data_date}/plantrak/' \n",
    "mpln = f's3://{bucket}/PYADM/monthly/archive/{monthly_data_date}/plantrak/'"
   ]
  },
  {
   "cell_type": "code",
   "execution_count": 34,
   "id": "89615e97-64e1-4aaa-ba59-49eedd188d58",
   "metadata": {
    "jupyter": {
     "source_hidden": true
    }
   },
   "outputs": [],
   "source": [
    "# Utility Functions -\n",
    "def load(df, lib=dflib):\n",
    "    globals()[df] = pl.read_parquet(f'{lib}{df}.parquet')"
   ]
  },
  {
   "cell_type": "code",
   "execution_count": 35,
   "id": "a2169c1c-2cbf-471a-8f5c-d25f9a099535",
   "metadata": {
    "jupyter": {
     "source_hidden": true
    }
   },
   "outputs": [],
   "source": [
    "# Imporing Dependencies\n",
    "prod_mapping = pl.read_csv(f's3://{bucket}/BIT/docs/productmapping_pybit.txt',separator='|')\n",
    "geo_code_mapper = pl.from_pandas(pd.read_excel(f's3://{bucket}/BIT/docs/geo_id_full.xlsx'))\n",
    "load('mp_spec_seg_dec')\n",
    "load('MASTER_UNI')\n",
    "fetch_products = ['LI1','LI2','LI3','TRU','AMT','LAC','MOT','LUB','IRL']"
   ]
  },
  {
   "cell_type": "markdown",
   "id": "d3146e33-0840-4437-81ad-8a1ac5357a1f",
   "metadata": {},
   "source": [
    "---"
   ]
  },
  {
   "cell_type": "markdown",
   "id": "0040fca0-d27c-493a-9e66-042a4e084560",
   "metadata": {},
   "source": [
    "Formulary"
   ]
  },
  {
   "cell_type": "code",
   "execution_count": 36,
   "id": "3d6f4776-c5b0-4002-bf08-60a6d4279a70",
   "metadata": {
    "jupyter": {
     "source_hidden": true
    }
   },
   "outputs": [],
   "source": [
    "# import forumlary -\n",
    "fm_monthly = pl.read_parquet(mpln+'FORMULARY.parquet',columns = ['IMS_PLAN_ID','GROUP_TYPE','FORMULARY_GROUP_STATUS','PFAM_CD','PFAM_NAME','IRWD_FGN_NAME','BRAND'])\n",
    "fm_weekly = pl.read_parquet(pln+'FORMULARY.parquet',columns = ['IMS_PLAN_ID','GROUP_TYPE','FORMULARY_GROUP_STATUS','PFAM_CD','PFAM_NAME','IRWD_FGN_NAME','BRAND'])\n",
    "payer_names = (\n",
    "    fm_monthly.select('IRWD_FGN_NAME')\n",
    "    .vstack(fm_weekly.select('IRWD_FGN_NAME'))\n",
    "    .unique()\n",
    "    .sort('IRWD_FGN_NAME')\n",
    "    .with_row_index(offset=1)\n",
    "    .rename({'index':'payer_id'})\n",
    ")\n",
    "#FORMULARY\n",
    "group_type_mapping = {\n",
    "    'HIX' : 'Commercial','Com' : 'Commercial','Cash' : 'Cash','Voucher':'Voucher',\n",
    "    'FFS' : 'FFS','Mgd Medicaid' : 'Mgd Medicaid','Part D' : 'Part D','MAC A' : 'Others',\n",
    "}\n",
    "\n",
    "def classify_plan_class(status):\n",
    "    status = status.upper()\n",
    "    if status[:7] == \"COVERED\" or status[:6] == \"ON PDL\":\n",
    "        return \"COVERED\"\n",
    "    elif status[:9] == \"PREFERRED\":\n",
    "        return \"PREFERRED\"\n",
    "    elif status[:13] == \"NON-PREFERRED\":\n",
    "        return \"NON PREFERRED\"\n",
    "    elif status[:7] == \"NON-PDL\" or status[:11] == \"NOT COVERED\":\n",
    "        return \"NOT COVERED\"\n",
    "    else:\n",
    "        return \"N_A\"\n",
    "\n",
    "# Reading \n",
    "fm = fm_monthly.with_columns(\n",
    "        pl.when(pl.col('BRAND')=='IBR')\n",
    "        .then(pl.lit('IRL'))\n",
    "        .otherwise(pl.col('BRAND'))\n",
    "        .alias('BRAND')\n",
    ")\n",
    "fm = fm.filter((pl.col('PFAM_CD')==(pl.col('BRAND'))) | (pl.col('BRAND')==''))\n",
    "fm = (\n",
    "    fm\n",
    "    .with_columns(\n",
    "        pl.col('GROUP_TYPE').map_elements(lambda x: group_type_mapping.get(x,'Others'), return_dtype=pl.Utf8) #NOTE : IF new plan types flow , they will go to Others by default\n",
    "        .fill_null('Others')\n",
    "        .alias('plan_type'),\n",
    "        pl.col('IMS_PLAN_ID').cast(pl.Int64)\n",
    "    )\n",
    "    .rename({'IMS_PLAN_ID':'PlanID'})\n",
    "    .drop('GROUP_TYPE')\n",
    "    .with_columns(pl.col('FORMULARY_GROUP_STATUS').fill_null(pl.lit('N_A')))\n",
    "    .with_columns(pl.col('FORMULARY_GROUP_STATUS').map_elements(classify_plan_class,return_dtype=pl.String).alias('plan_class'))\n",
    "    .drop('FORMULARY_GROUP_STATUS')\n",
    "    .unique()\n",
    ")\n",
    "\n",
    "###############\n",
    "# HARD CODED - \n",
    "fm = fm.with_columns(pl.when(pl.col(\"PlanID\") == 13670614).then(pl.lit('Others')).otherwise(pl.col(\"plan_type\")).alias(\"plan_type\"))\n",
    "###############\n",
    "fm2 = (\n",
    "    fm\n",
    "    .select('PFAM_CD','IRWD_FGN_NAME','plan_class').unique()\n",
    "    .group_by(['IRWD_FGN_NAME','PFAM_CD'])\n",
    "    .agg(\n",
    "        pl.col('plan_class').unique().str.concat(' / ').alias('plan_class')\n",
    "    )\n",
    "    .with_columns(pl.col('plan_class').str.to_titlecase())\n",
    ")"
   ]
  },
  {
   "cell_type": "markdown",
   "id": "ca0ca419-d34f-414f-a587-45b59fc8a56c",
   "metadata": {},
   "source": [
    "Plantrak"
   ]
  },
  {
   "cell_type": "code",
   "execution_count": 37,
   "id": "06149e09-c89a-44f3-9048-7ce479bc0e9e",
   "metadata": {
    "jupyter": {
     "source_hidden": true
    }
   },
   "outputs": [],
   "source": [
    "# Import and prepare Raw data - \n",
    "ln = (\n",
    "    pl.read_parquet(mpln+'LAX_N.parquet',columns=['IID','MonthKey','PFAM_CD','PROD_CD','PlanID','TUF']) #read req cols only\n",
    "    .rename({'MonthKey':'PeriodKey'})\n",
    "    .filter(pl.col('PROD_CD').is_in(fetch_products)) #only keep data for BIT products\n",
    "    .with_columns(pl.col('PeriodKey').cast(pl.Utf8).str.to_date(\"%Y%m%d\")) #Convert Categorical column Back to date\n",
    ")\n",
    "date_list = ln['PeriodKey'].unique().sort(descending=True)\n",
    "# Any PlanIds startign with -0000002 should be excluded\n",
    "ln = (\n",
    "    ln\n",
    "    .with_columns(pl.col('PlanID').cast(pl.Utf8).str.zfill(10).alias('planid_chr'))\n",
    "    .filter(~pl.col('planid_chr').str.starts_with('000002'))\n",
    "    .drop('planid_chr')\n",
    ")\n",
    "\n",
    "ln = ln.join(\n",
    "    (pl.DataFrame(date_list).with_row_index(offset = 1).rename({'index':'num_month'})),\n",
    "    on = 'PeriodKey', how = 'left'\n",
    ")\n",
    "\n",
    "ln = (\n",
    "    ln\n",
    "    .join(fm.select(['PlanID','IRWD_FGN_NAME']).unique(),on='PlanID',how='left')\n",
    ")"
   ]
  },
  {
   "cell_type": "code",
   "execution_count": 38,
   "id": "74b83613-0179-485a-abc0-7baa480d2f97",
   "metadata": {
    "jupyter": {
     "source_hidden": true
    }
   },
   "outputs": [],
   "source": [
    "# Function That Gets Data for each data cut - INPUT ln\n",
    "filter_cond_dict = {\n",
    "    '1c' : pl.col('num_month')==1,'1p' : pl.col('num_month')==2,\n",
    "    '3c' : pl.col('num_month').is_in([1,2,3]),'3p' : pl.col('num_month').is_in([4,5,6]),\n",
    "    '6c' : pl.col('num_month').is_in([1,2,3,4,5,6]),'6p' : pl.col('num_month').is_in([7,8,9,10,11,12]),\n",
    "    '12c' : pl.col('num_month').is_in([i for i in range(1,13)]),'12p' : pl.col('num_month').is_in([i for i in range(13,25)]),\n",
    "    'qtdc' : pl.col('num_month').is_in([i for i in range(1,QTD+1)]),'qtdp' : pl.col('num_month').is_in([i for i in range(4,4+QTD)]),\n",
    "    'ytdc' : pl.col('num_month').is_in([i for i in range(1,YTD+1)]),'ytdp' : pl.col('num_month').is_in([i for i in range(13,13+YTD)])\n",
    "}\n",
    "def get_data_cuts(df):\n",
    "    result = pl.DataFrame()\n",
    "    for period,cond in filter_cond_dict.items():\n",
    "        df_filter = df.filter(cond)\n",
    "        df_filter = (\n",
    "            df_filter\n",
    "            .group_by(['IID','IRWD_FGN_NAME','PFAM_CD','PROD_CD']).agg(pl.col('TUF').sum().alias(f'TUF_{period}'))\n",
    "        )\n",
    "\n",
    "        if period == '1c':\n",
    "            result = df_filter\n",
    "        else:\n",
    "            result = result.join(df_filter,on =['IID','IRWD_FGN_NAME','PFAM_CD','PROD_CD'],how = 'outer_coalesce')\n",
    "\n",
    "    # Pulling in Plan Type -\n",
    "    result = (\n",
    "        result\n",
    "        .join(\n",
    "            fm.select(['IRWD_FGN_NAME','PFAM_CD','plan_type']).unique(),\n",
    "            on = ['IRWD_FGN_NAME', 'PFAM_CD'], how = 'left'\n",
    "        )\n",
    "        .with_columns(\n",
    "            pl.col('plan_type').fill_null(pl.lit('Others')),\n",
    "        )\n",
    "    )\n",
    "\n",
    "    # Pulling in Plan Class\n",
    "    result = (\n",
    "        result.join(fm2, on=['IRWD_FGN_NAME', 'PFAM_CD'], how='left')\n",
    "        .with_columns(\n",
    "            pl.col('plan_class').fill_null(pl.lit('N_a'))\n",
    "        )\n",
    "    )\n",
    "\n",
    "    # Dropping Records with Voucher , FFS , Medicaid\n",
    "    result = result.filter(\n",
    "        ~(pl.col('plan_type').is_in(['Voucher','Mgd Medicaid','FFS']))\n",
    "    )\n",
    "\n",
    "    #Joining Payer ID-\n",
    "    result = result.join(payer_names, on ='IRWD_FGN_NAME', how = 'left')\n",
    "    \n",
    "    return(result)\n",
    "\n",
    "ln1 = get_data_cuts(ln)\n",
    "\n",
    "# adding product_id\n",
    "ln1 = (\n",
    "    ln1\n",
    "    .join(\n",
    "        prod_mapping.select(['code','product_id','parent_product_id']),\n",
    "        left_on = 'PROD_CD', right_on='code', how = 'left'\n",
    "    )\n",
    ")"
   ]
  },
  {
   "cell_type": "code",
   "execution_count": 39,
   "id": "49126ac6-0fff-4a4f-af3d-c0b36bc7552b",
   "metadata": {
    "jupyter": {
     "source_hidden": true
    }
   },
   "outputs": [],
   "source": [
    "# Parent Product Rows - OUTPUT ln2\n",
    "prod_agg_expn_list = {col : pl.col(col).sum() for col in [f'TUF_{p}' for p in filter_cond_dict.keys()]}\n",
    "prod_agg_expn_list.update({'plan_type':pl.col('plan_type').first()})\n",
    "\n",
    "#lin and amt-\n",
    "\n",
    "ln1_235 = (\n",
    "    ln1\n",
    "    .filter(pl.col('parent_product_id').is_in([2,35]))\n",
    "    .group_by(['IID','IRWD_FGN_NAME','payer_id','parent_product_id'])\n",
    "    .agg(\n",
    "        **{**prod_agg_expn_list,'plan_class':pl.col('plan_class').first()}\n",
    "    )\n",
    "    .rename({'parent_product_id':'product_id'})\n",
    ")\n",
    "\n",
    "\n",
    "#for lax mkt - \n",
    "ln1_1 = (\n",
    "    ln1\n",
    "    .group_by(['IID','IRWD_FGN_NAME','payer_id'])\n",
    "    .agg(**prod_agg_expn_list)\n",
    "    .with_columns(pl.lit(1).alias('product_id').cast(pl.Int64),pl.lit('N_a').alias('plan_class'))\n",
    "    .select(ln1_235.columns)\n",
    ")\n",
    "\n",
    "ln2 = (\n",
    "    ln1.select(ln1_235.columns)\n",
    "    .vstack(ln1_235)\n",
    "    .vstack(ln1_1)\n",
    ")"
   ]
  },
  {
   "cell_type": "markdown",
   "id": "45f500d3-2f2e-45b8-82e6-eb60d05816f6",
   "metadata": {},
   "source": [
    "RANKING -"
   ]
  },
  {
   "cell_type": "code",
   "execution_count": 40,
   "id": "ae04e747-53b7-4c9a-99b5-f4d890dbb533",
   "metadata": {},
   "outputs": [],
   "source": [
    "# Adding Geo information -\n",
    "ln2 = ln2.join(mp_spec_seg_dec[['IID','geography_id']],on='IID',how='left').join(geo_code_mapper,on = 'geography_id', how = 'left')"
   ]
  },
  {
   "cell_type": "code",
   "execution_count": 41,
   "id": "cfa36b24-2461-4e18-af2d-77a40d2cbb6a",
   "metadata": {},
   "outputs": [],
   "source": [
    "ln2 = ln2.filter(pl.col('payer_id').is_not_null())"
   ]
  },
  {
   "cell_type": "code",
   "execution_count": 42,
   "id": "a0e2a2b3-7771-462b-a888-1dccec30264c",
   "metadata": {},
   "outputs": [],
   "source": [
    "# # for top 10 payers ? \n",
    "\n",
    "# t1 = ln2.filter(region_geography_id = 5).filter(plan_type = 'Commerical').filter(product_id = 1)\n",
    "\n",
    "# (\n",
    "#     t1\n",
    "#     .group_by('payer_id')\n",
    "#     .agg(TUF = pl.col('TUF_1c').sum())\n",
    "#     .with_columns(pl.col(\"TUF\").rank(\"ordinal\",descending=True).alias(\"rank\"))   \n",
    "#     .filter(pl.col('rank') <= 10)\n",
    "# )"
   ]
  },
  {
   "cell_type": "markdown",
   "id": "0a8da137-06b7-4b0f-8237-a50bbeed5e8d",
   "metadata": {},
   "source": [
    "NOTES ->"
   ]
  },
  {
   "cell_type": "markdown",
   "id": "ea5d097c-efe3-4fef-a453-a42782176bcd",
   "metadata": {},
   "source": [
    "- For a given Product\n",
    "- and a given Geography_ID (can be any terr , region , area nation)\n",
    "- - I have 7 ROWS\n",
    "  - One For Each Payer Type : CASH , COMMERCIAL , OTHERS, PART D, PART D and COM, TOTAL and a row with slash N"
   ]
  },
  {
   "cell_type": "code",
   "execution_count": 43,
   "id": "eae96257-fe3e-4013-8378-0148ecba9537",
   "metadata": {},
   "outputs": [
    {
     "data": {
      "text/html": [
       "<div><style>\n",
       ".dataframe > thead > tr,\n",
       ".dataframe > tbody > tr {\n",
       "  text-align: right;\n",
       "  white-space: pre-wrap;\n",
       "}\n",
       "</style>\n",
       "<small>shape: (6_940_699, 22)</small><table border=\"1\" class=\"dataframe\"><thead><tr><th>IID</th><th>IRWD_FGN_NAME</th><th>payer_id</th><th>product_id</th><th>TUF_1c</th><th>TUF_1p</th><th>TUF_3c</th><th>TUF_3p</th><th>TUF_6c</th><th>TUF_6p</th><th>TUF_12c</th><th>TUF_12p</th><th>TUF_qtdc</th><th>TUF_qtdp</th><th>TUF_ytdc</th><th>TUF_ytdp</th><th>plan_type</th><th>plan_class</th><th>geography_id</th><th>region_geography_id</th><th>area_geography_id</th><th>nation_geography_id</th></tr><tr><td>i64</td><td>str</td><td>u32</td><td>i64</td><td>f64</td><td>f64</td><td>f64</td><td>f64</td><td>f64</td><td>f64</td><td>f64</td><td>f64</td><td>f64</td><td>f64</td><td>f64</td><td>f64</td><td>str</td><td>str</td><td>i64</td><td>i64</td><td>i64</td><td>i64</td></tr></thead><tbody><tr><td>3613316</td><td>&quot;Magellan Rx Mgt Unspec  (Com)&quot;</td><td>1880</td><td>4</td><td>null</td><td>1.001</td><td>1.001</td><td>null</td><td>1.001</td><td>null</td><td>1.001</td><td>null</td><td>1.001</td><td>null</td><td>1.001</td><td>null</td><td>&quot;Commercial&quot;</td><td>&quot;N_a / Preferred&quot;</td><td>85</td><td>13</td><td>3</td><td>1</td></tr><tr><td>2527959</td><td>&quot;Uhc/Pacificare/Aarp Med D  (Pa…</td><td>3076</td><td>8</td><td>0.342</td><td>1.222</td><td>1.564</td><td>null</td><td>1.564</td><td>null</td><td>1.564</td><td>1.397</td><td>1.564</td><td>null</td><td>1.564</td><td>null</td><td>&quot;Part D&quot;</td><td>&quot;N_a&quot;</td><td>null</td><td>null</td><td>null</td><td>null</td></tr><tr><td>2106113</td><td>&quot;Bcbs Alabama  (Part D)&quot;</td><td>369</td><td>8</td><td>2.68</td><td>null</td><td>2.68</td><td>null</td><td>2.68</td><td>null</td><td>2.68</td><td>null</td><td>2.68</td><td>null</td><td>2.68</td><td>null</td><td>&quot;Part D&quot;</td><td>&quot;N_a&quot;</td><td>85</td><td>13</td><td>3</td><td>1</td></tr><tr><td>18175778</td><td>&quot;Caremark Unspec  (Com)&quot;</td><td>661</td><td>8</td><td>5.37</td><td>null</td><td>5.37</td><td>null</td><td>5.37</td><td>null</td><td>5.37</td><td>null</td><td>5.37</td><td>null</td><td>5.37</td><td>null</td><td>&quot;Commercial&quot;</td><td>&quot;N_a&quot;</td><td>39</td><td>7</td><td>2</td><td>1</td></tr><tr><td>226106</td><td>&quot;State Of Mississippi Ees (Ms) …</td><td>2860</td><td>4</td><td>null</td><td>1.005</td><td>1.005</td><td>2.161</td><td>3.166</td><td>1.023</td><td>4.189</td><td>6.152</td><td>1.005</td><td>2.161</td><td>3.166</td><td>4.095</td><td>&quot;Commercial&quot;</td><td>&quot;Preferred&quot;</td><td>null</td><td>null</td><td>null</td><td>null</td></tr><tr><td>&hellip;</td><td>&hellip;</td><td>&hellip;</td><td>&hellip;</td><td>&hellip;</td><td>&hellip;</td><td>&hellip;</td><td>&hellip;</td><td>&hellip;</td><td>&hellip;</td><td>&hellip;</td><td>&hellip;</td><td>&hellip;</td><td>&hellip;</td><td>&hellip;</td><td>&hellip;</td><td>&hellip;</td><td>&hellip;</td><td>&hellip;</td><td>&hellip;</td><td>&hellip;</td><td>&hellip;</td></tr><tr><td>2756686</td><td>&quot;Elixir Rx Insurance Company  (…</td><td>1154</td><td>1</td><td>0.0</td><td>0.0</td><td>0.0</td><td>0.0</td><td>0.0</td><td>0.0</td><td>0.0</td><td>2.688</td><td>0.0</td><td>0.0</td><td>0.0</td><td>0.0</td><td>&quot;Part D&quot;</td><td>&quot;N_a&quot;</td><td>null</td><td>null</td><td>null</td><td>null</td></tr><tr><td>240840</td><td>&quot;Federal Employees/ Fehbp  (Com…</td><td>1255</td><td>1</td><td>0.0</td><td>0.0</td><td>0.0</td><td>0.0</td><td>0.0</td><td>5.874</td><td>5.874</td><td>4.8</td><td>0.0</td><td>0.0</td><td>0.0</td><td>4.8</td><td>&quot;Commercial&quot;</td><td>&quot;N_a&quot;</td><td>null</td><td>null</td><td>null</td><td>null</td></tr><tr><td>292420</td><td>&quot;Caremark Unspec  (Com)&quot;</td><td>661</td><td>1</td><td>0.0</td><td>0.0</td><td>0.0</td><td>0.0</td><td>0.0</td><td>0.0</td><td>0.0</td><td>0.0</td><td>0.0</td><td>0.0</td><td>0.0</td><td>0.0</td><td>&quot;Commercial&quot;</td><td>&quot;N_a&quot;</td><td>null</td><td>null</td><td>null</td><td>null</td></tr><tr><td>3788902</td><td>&quot;Blue Cross Capital/Cbc  (Part …</td><td>481</td><td>1</td><td>0.0</td><td>0.0</td><td>0.0</td><td>0.0</td><td>0.0</td><td>0.0</td><td>0.0</td><td>4.784</td><td>0.0</td><td>0.0</td><td>0.0</td><td>0.0</td><td>&quot;Part D&quot;</td><td>&quot;N_a&quot;</td><td>40</td><td>7</td><td>2</td><td>1</td></tr><tr><td>1636103</td><td>&quot;Aetna Inc  (Part D)&quot;</td><td>89</td><td>1</td><td>0.0</td><td>0.0</td><td>0.0</td><td>0.0</td><td>0.0</td><td>0.0</td><td>0.0</td><td>0.6</td><td>0.0</td><td>0.0</td><td>0.0</td><td>0.6</td><td>&quot;Part D&quot;</td><td>&quot;N_a&quot;</td><td>null</td><td>null</td><td>null</td><td>null</td></tr></tbody></table></div>"
      ],
      "text/plain": [
       "shape: (6_940_699, 22)\n",
       "┌──────────┬────────────┬──────────┬───────────┬───┬───────────┬───────────┬───────────┬───────────┐\n",
       "│ IID      ┆ IRWD_FGN_N ┆ payer_id ┆ product_i ┆ … ┆ geography ┆ region_ge ┆ area_geog ┆ nation_ge │\n",
       "│ ---      ┆ AME        ┆ ---      ┆ d         ┆   ┆ _id       ┆ ography_i ┆ raphy_id  ┆ ography_i │\n",
       "│ i64      ┆ ---        ┆ u32      ┆ ---       ┆   ┆ ---       ┆ d         ┆ ---       ┆ d         │\n",
       "│          ┆ str        ┆          ┆ i64       ┆   ┆ i64       ┆ ---       ┆ i64       ┆ ---       │\n",
       "│          ┆            ┆          ┆           ┆   ┆           ┆ i64       ┆           ┆ i64       │\n",
       "╞══════════╪════════════╪══════════╪═══════════╪═══╪═══════════╪═══════════╪═══════════╪═══════════╡\n",
       "│ 3613316  ┆ Magellan   ┆ 1880     ┆ 4         ┆ … ┆ 85        ┆ 13        ┆ 3         ┆ 1         │\n",
       "│          ┆ Rx Mgt     ┆          ┆           ┆   ┆           ┆           ┆           ┆           │\n",
       "│          ┆ Unspec     ┆          ┆           ┆   ┆           ┆           ┆           ┆           │\n",
       "│          ┆ (Com)      ┆          ┆           ┆   ┆           ┆           ┆           ┆           │\n",
       "│ 2527959  ┆ Uhc/Pacifi ┆ 3076     ┆ 8         ┆ … ┆ null      ┆ null      ┆ null      ┆ null      │\n",
       "│          ┆ care/Aarp  ┆          ┆           ┆   ┆           ┆           ┆           ┆           │\n",
       "│          ┆ Med D      ┆          ┆           ┆   ┆           ┆           ┆           ┆           │\n",
       "│          ┆ (Pa…       ┆          ┆           ┆   ┆           ┆           ┆           ┆           │\n",
       "│ 2106113  ┆ Bcbs       ┆ 369      ┆ 8         ┆ … ┆ 85        ┆ 13        ┆ 3         ┆ 1         │\n",
       "│          ┆ Alabama    ┆          ┆           ┆   ┆           ┆           ┆           ┆           │\n",
       "│          ┆ (Part D)   ┆          ┆           ┆   ┆           ┆           ┆           ┆           │\n",
       "│ 18175778 ┆ Caremark   ┆ 661      ┆ 8         ┆ … ┆ 39        ┆ 7         ┆ 2         ┆ 1         │\n",
       "│          ┆ Unspec     ┆          ┆           ┆   ┆           ┆           ┆           ┆           │\n",
       "│          ┆ (Com)      ┆          ┆           ┆   ┆           ┆           ┆           ┆           │\n",
       "│ 226106   ┆ State Of   ┆ 2860     ┆ 4         ┆ … ┆ null      ┆ null      ┆ null      ┆ null      │\n",
       "│          ┆ Mississipp ┆          ┆           ┆   ┆           ┆           ┆           ┆           │\n",
       "│          ┆ i Ees (Ms) ┆          ┆           ┆   ┆           ┆           ┆           ┆           │\n",
       "│          ┆ …          ┆          ┆           ┆   ┆           ┆           ┆           ┆           │\n",
       "│ …        ┆ …          ┆ …        ┆ …         ┆ … ┆ …         ┆ …         ┆ …         ┆ …         │\n",
       "│ 2756686  ┆ Elixir Rx  ┆ 1154     ┆ 1         ┆ … ┆ null      ┆ null      ┆ null      ┆ null      │\n",
       "│          ┆ Insurance  ┆          ┆           ┆   ┆           ┆           ┆           ┆           │\n",
       "│          ┆ Company    ┆          ┆           ┆   ┆           ┆           ┆           ┆           │\n",
       "│          ┆ (…         ┆          ┆           ┆   ┆           ┆           ┆           ┆           │\n",
       "│ 240840   ┆ Federal    ┆ 1255     ┆ 1         ┆ … ┆ null      ┆ null      ┆ null      ┆ null      │\n",
       "│          ┆ Employees/ ┆          ┆           ┆   ┆           ┆           ┆           ┆           │\n",
       "│          ┆ Fehbp      ┆          ┆           ┆   ┆           ┆           ┆           ┆           │\n",
       "│          ┆ (Com…      ┆          ┆           ┆   ┆           ┆           ┆           ┆           │\n",
       "│ 292420   ┆ Caremark   ┆ 661      ┆ 1         ┆ … ┆ null      ┆ null      ┆ null      ┆ null      │\n",
       "│          ┆ Unspec     ┆          ┆           ┆   ┆           ┆           ┆           ┆           │\n",
       "│          ┆ (Com)      ┆          ┆           ┆   ┆           ┆           ┆           ┆           │\n",
       "│ 3788902  ┆ Blue Cross ┆ 481      ┆ 1         ┆ … ┆ 40        ┆ 7         ┆ 2         ┆ 1         │\n",
       "│          ┆ Capital/Cb ┆          ┆           ┆   ┆           ┆           ┆           ┆           │\n",
       "│          ┆ c  (Part … ┆          ┆           ┆   ┆           ┆           ┆           ┆           │\n",
       "│ 1636103  ┆ Aetna Inc  ┆ 89       ┆ 1         ┆ … ┆ null      ┆ null      ┆ null      ┆ null      │\n",
       "│          ┆ (Part D)   ┆          ┆           ┆   ┆           ┆           ┆           ┆           │\n",
       "└──────────┴────────────┴──────────┴───────────┴───┴───────────┴───────────┴───────────┴───────────┘"
      ]
     },
     "execution_count": 43,
     "metadata": {},
     "output_type": "execute_result"
    }
   ],
   "source": [
    "ln2"
   ]
  },
  {
   "cell_type": "markdown",
   "id": "77ffa432-9c87-48fe-b61a-6f8e15fb9645",
   "metadata": {},
   "source": [
    "# Logic to Follow for Creating Drill Down (Geo to -> Payer Types)"
   ]
  },
  {
   "cell_type": "code",
   "execution_count": 23,
   "id": "9d05209b-b219-4c1f-844b-a8334a75be19",
   "metadata": {},
   "outputs": [],
   "source": [
    "# group it by ->\n",
    "t1 = ln2.group_by(['geography_id', 'product_id', 'plan_type']).agg(TUF = pl.col('TUF_6c').sum())\n",
    "t1_total = ln2.group_by(['geography_id', 'product_id']).agg(TUF = pl.col('TUF_6c').sum(),plan_type = pl.lit('Total')).select(t1.columns)\n",
    "t1_total2 = ln2.filter(pl.col('plan_type').is_in(['Commerical','Part D'])).group_by(['geography_id', 'product_id']).agg(TUF = pl.col('TUF_6c').sum(),plan_type = pl.lit('Part D and Commercial')).select(t1.columns)\n",
    "\n",
    "t1 = t1.vstack(t1_total).vstack(t1_total2)"
   ]
  },
  {
   "cell_type": "markdown",
   "id": "c01b25d5-9c2a-49db-b00a-d2bdaf6fb9ce",
   "metadata": {},
   "source": [
    "# Logic to follow for Creating Second Drill Down (Payer Type -> top 10 Plans)"
   ]
  },
  {
   "cell_type": "code",
   "execution_count": 57,
   "id": "6dc41017-3d62-4d7c-8af9-701e96c9e539",
   "metadata": {},
   "outputs": [],
   "source": [
    "t1 = (\n",
    "    ln2\n",
    "    .group_by(['geography_id', 'product_id', 'plan_type','payer_id','IRWD_FGN_NAME'])\n",
    "    .agg(TUF = pl.col('TUF_6c').sum())\n",
    "    .with_columns(\n",
    "        pl.col(\"TUF\")\n",
    "        .rank(\"ordinal\",descending=True)\n",
    "        .over(['geography_id', 'product_id', 'plan_type'])\n",
    "        .alias(\"rank\")\n",
    "    )\n",
    "    .filter(pl.col('rank')<=5)\n",
    ")"
   ]
  },
  {
   "cell_type": "code",
   "execution_count": 59,
   "id": "e2c66087-5602-4862-9de6-e0158728f2b4",
   "metadata": {},
   "outputs": [],
   "source": [
    "check = (\n",
    "    t1\n",
    "    .filter(geography_id = 98)\n",
    "    .filter(product_id = 1)\n",
    "    .filter(plan_type = 'Commerical')\n",
    ")"
   ]
  },
  {
   "cell_type": "code",
   "execution_count": 61,
   "id": "845e4737-59fb-499c-a863-edeae355fad3",
   "metadata": {},
   "outputs": [
    {
     "data": {
      "text/html": [
       "<div><style>\n",
       ".dataframe > thead > tr,\n",
       ".dataframe > tbody > tr {\n",
       "  text-align: right;\n",
       "  white-space: pre-wrap;\n",
       "}\n",
       "</style>\n",
       "<small>shape: (4_940, 25)</small><table border=\"1\" class=\"dataframe\"><thead><tr><th>geography_id</th><th>product_id</th><th>plan_type</th><th>payer_id</th><th>IRWD_FGN_NAME</th><th>TUF</th><th>rank</th><th>IID</th><th>IRWD_FGN_NAME_right</th><th>TUF_1c</th><th>TUF_1p</th><th>TUF_3c</th><th>TUF_3p</th><th>TUF_6c</th><th>TUF_6p</th><th>TUF_12c</th><th>TUF_12p</th><th>TUF_qtdc</th><th>TUF_qtdp</th><th>TUF_ytdc</th><th>TUF_ytdp</th><th>plan_class</th><th>region_geography_id</th><th>area_geography_id</th><th>nation_geography_id</th></tr><tr><td>i64</td><td>i64</td><td>str</td><td>u32</td><td>str</td><td>f64</td><td>u32</td><td>i64</td><td>str</td><td>f64</td><td>f64</td><td>f64</td><td>f64</td><td>f64</td><td>f64</td><td>f64</td><td>f64</td><td>f64</td><td>f64</td><td>f64</td><td>f64</td><td>str</td><td>i64</td><td>i64</td><td>i64</td></tr></thead><tbody><tr><td>98</td><td>1</td><td>&quot;Commerical&quot;</td><td>87</td><td>&quot;Aetna Inc  (Com)&quot;</td><td>1805.268</td><td>4</td><td>2542469</td><td>&quot;Aetna Inc  (Com)&quot;</td><td>0.0</td><td>0.0</td><td>0.322</td><td>0.0</td><td>0.322</td><td>0.322</td><td>0.644</td><td>0.0</td><td>0.322</td><td>0.0</td><td>0.322</td><td>0.0</td><td>&quot;N_a&quot;</td><td>14</td><td>3</td><td>1</td></tr><tr><td>98</td><td>1</td><td>&quot;Commerical&quot;</td><td>87</td><td>&quot;Aetna Inc  (Com)&quot;</td><td>1805.268</td><td>4</td><td>1619397</td><td>&quot;Aetna Inc  (Com)&quot;</td><td>0.0</td><td>0.0</td><td>0.0</td><td>0.0</td><td>0.0</td><td>0.0</td><td>0.0</td><td>10.488</td><td>0.0</td><td>0.0</td><td>0.0</td><td>0.556</td><td>&quot;N_a&quot;</td><td>14</td><td>3</td><td>1</td></tr><tr><td>98</td><td>1</td><td>&quot;Commerical&quot;</td><td>87</td><td>&quot;Aetna Inc  (Com)&quot;</td><td>1805.268</td><td>4</td><td>261801</td><td>&quot;Aetna Inc  (Com)&quot;</td><td>0.0</td><td>0.0</td><td>0.0</td><td>0.0</td><td>0.0</td><td>0.0</td><td>0.0</td><td>14.464</td><td>0.0</td><td>0.0</td><td>0.0</td><td>11.42</td><td>&quot;N_a&quot;</td><td>14</td><td>3</td><td>1</td></tr><tr><td>98</td><td>1</td><td>&quot;Commerical&quot;</td><td>87</td><td>&quot;Aetna Inc  (Com)&quot;</td><td>1805.268</td><td>4</td><td>127412</td><td>&quot;Aetna Inc  (Com)&quot;</td><td>6.229</td><td>3.585</td><td>10.815</td><td>20.501</td><td>31.316</td><td>8.334</td><td>39.65</td><td>21.613</td><td>10.815</td><td>20.501</td><td>31.316</td><td>18.503</td><td>&quot;N_a&quot;</td><td>14</td><td>3</td><td>1</td></tr><tr><td>98</td><td>1</td><td>&quot;Commerical&quot;</td><td>87</td><td>&quot;Aetna Inc  (Com)&quot;</td><td>1805.268</td><td>4</td><td>2360509</td><td>&quot;Aetna Inc  (Com)&quot;</td><td>0.0</td><td>0.0</td><td>0.0</td><td>0.0</td><td>0.0</td><td>1.0</td><td>1.0</td><td>0.0</td><td>0.0</td><td>0.0</td><td>0.0</td><td>0.0</td><td>&quot;N_a&quot;</td><td>14</td><td>3</td><td>1</td></tr><tr><td>&hellip;</td><td>&hellip;</td><td>&hellip;</td><td>&hellip;</td><td>&hellip;</td><td>&hellip;</td><td>&hellip;</td><td>&hellip;</td><td>&hellip;</td><td>&hellip;</td><td>&hellip;</td><td>&hellip;</td><td>&hellip;</td><td>&hellip;</td><td>&hellip;</td><td>&hellip;</td><td>&hellip;</td><td>&hellip;</td><td>&hellip;</td><td>&hellip;</td><td>&hellip;</td><td>&hellip;</td><td>&hellip;</td><td>&hellip;</td><td>&hellip;</td></tr><tr><td>98</td><td>1</td><td>&quot;Commerical&quot;</td><td>125</td><td>&quot;All Other Third Party  (Com)&quot;</td><td>1796.554</td><td>5</td><td>2058963</td><td>&quot;All Other Third Party  (Com)&quot;</td><td>0.0</td><td>0.0</td><td>0.0</td><td>0.0</td><td>0.0</td><td>0.0</td><td>0.0</td><td>0.3</td><td>0.0</td><td>0.0</td><td>0.0</td><td>0.3</td><td>&quot;N_a&quot;</td><td>14</td><td>3</td><td>1</td></tr><tr><td>98</td><td>1</td><td>&quot;Commerical&quot;</td><td>125</td><td>&quot;All Other Third Party  (Com)&quot;</td><td>1796.554</td><td>5</td><td>476038</td><td>&quot;All Other Third Party  (Com)&quot;</td><td>0.0</td><td>0.0</td><td>0.0</td><td>0.0</td><td>0.0</td><td>0.0</td><td>0.0</td><td>1.01</td><td>0.0</td><td>0.0</td><td>0.0</td><td>1.01</td><td>&quot;N_a&quot;</td><td>14</td><td>3</td><td>1</td></tr><tr><td>98</td><td>1</td><td>&quot;Commerical&quot;</td><td>125</td><td>&quot;All Other Third Party  (Com)&quot;</td><td>1796.554</td><td>5</td><td>19188</td><td>&quot;All Other Third Party  (Com)&quot;</td><td>0.0</td><td>0.0</td><td>0.0</td><td>0.0</td><td>0.0</td><td>0.0</td><td>0.0</td><td>3.0</td><td>0.0</td><td>0.0</td><td>0.0</td><td>0.0</td><td>&quot;N_a&quot;</td><td>14</td><td>3</td><td>1</td></tr><tr><td>98</td><td>1</td><td>&quot;Commerical&quot;</td><td>125</td><td>&quot;All Other Third Party  (Com)&quot;</td><td>1796.554</td><td>5</td><td>3694641</td><td>&quot;All Other Third Party  (Com)&quot;</td><td>0.0</td><td>0.0</td><td>0.0</td><td>0.444</td><td>0.444</td><td>0.0</td><td>0.444</td><td>0.0</td><td>0.0</td><td>0.444</td><td>0.444</td><td>0.0</td><td>&quot;N_a&quot;</td><td>14</td><td>3</td><td>1</td></tr><tr><td>98</td><td>1</td><td>&quot;Commerical&quot;</td><td>125</td><td>&quot;All Other Third Party  (Com)&quot;</td><td>1796.554</td><td>5</td><td>2411562</td><td>&quot;All Other Third Party  (Com)&quot;</td><td>3.0</td><td>0.0</td><td>3.0</td><td>0.0</td><td>3.0</td><td>0.0</td><td>3.0</td><td>0.0</td><td>3.0</td><td>0.0</td><td>3.0</td><td>0.0</td><td>&quot;N_a&quot;</td><td>14</td><td>3</td><td>1</td></tr></tbody></table></div>"
      ],
      "text/plain": [
       "shape: (4_940, 25)\n",
       "┌───────────┬───────────┬───────────┬──────────┬───┬───────────┬───────────┬───────────┬───────────┐\n",
       "│ geography ┆ product_i ┆ plan_type ┆ payer_id ┆ … ┆ plan_clas ┆ region_ge ┆ area_geog ┆ nation_ge │\n",
       "│ _id       ┆ d         ┆ ---       ┆ ---      ┆   ┆ s         ┆ ography_i ┆ raphy_id  ┆ ography_i │\n",
       "│ ---       ┆ ---       ┆ str       ┆ u32      ┆   ┆ ---       ┆ d         ┆ ---       ┆ d         │\n",
       "│ i64       ┆ i64       ┆           ┆          ┆   ┆ str       ┆ ---       ┆ i64       ┆ ---       │\n",
       "│           ┆           ┆           ┆          ┆   ┆           ┆ i64       ┆           ┆ i64       │\n",
       "╞═══════════╪═══════════╪═══════════╪══════════╪═══╪═══════════╪═══════════╪═══════════╪═══════════╡\n",
       "│ 98        ┆ 1         ┆ Commerica ┆ 87       ┆ … ┆ N_a       ┆ 14        ┆ 3         ┆ 1         │\n",
       "│           ┆           ┆ l         ┆          ┆   ┆           ┆           ┆           ┆           │\n",
       "│ 98        ┆ 1         ┆ Commerica ┆ 87       ┆ … ┆ N_a       ┆ 14        ┆ 3         ┆ 1         │\n",
       "│           ┆           ┆ l         ┆          ┆   ┆           ┆           ┆           ┆           │\n",
       "│ 98        ┆ 1         ┆ Commerica ┆ 87       ┆ … ┆ N_a       ┆ 14        ┆ 3         ┆ 1         │\n",
       "│           ┆           ┆ l         ┆          ┆   ┆           ┆           ┆           ┆           │\n",
       "│ 98        ┆ 1         ┆ Commerica ┆ 87       ┆ … ┆ N_a       ┆ 14        ┆ 3         ┆ 1         │\n",
       "│           ┆           ┆ l         ┆          ┆   ┆           ┆           ┆           ┆           │\n",
       "│ 98        ┆ 1         ┆ Commerica ┆ 87       ┆ … ┆ N_a       ┆ 14        ┆ 3         ┆ 1         │\n",
       "│           ┆           ┆ l         ┆          ┆   ┆           ┆           ┆           ┆           │\n",
       "│ …         ┆ …         ┆ …         ┆ …        ┆ … ┆ …         ┆ …         ┆ …         ┆ …         │\n",
       "│ 98        ┆ 1         ┆ Commerica ┆ 125      ┆ … ┆ N_a       ┆ 14        ┆ 3         ┆ 1         │\n",
       "│           ┆           ┆ l         ┆          ┆   ┆           ┆           ┆           ┆           │\n",
       "│ 98        ┆ 1         ┆ Commerica ┆ 125      ┆ … ┆ N_a       ┆ 14        ┆ 3         ┆ 1         │\n",
       "│           ┆           ┆ l         ┆          ┆   ┆           ┆           ┆           ┆           │\n",
       "│ 98        ┆ 1         ┆ Commerica ┆ 125      ┆ … ┆ N_a       ┆ 14        ┆ 3         ┆ 1         │\n",
       "│           ┆           ┆ l         ┆          ┆   ┆           ┆           ┆           ┆           │\n",
       "│ 98        ┆ 1         ┆ Commerica ┆ 125      ┆ … ┆ N_a       ┆ 14        ┆ 3         ┆ 1         │\n",
       "│           ┆           ┆ l         ┆          ┆   ┆           ┆           ┆           ┆           │\n",
       "│ 98        ┆ 1         ┆ Commerica ┆ 125      ┆ … ┆ N_a       ┆ 14        ┆ 3         ┆ 1         │\n",
       "│           ┆           ┆ l         ┆          ┆   ┆           ┆           ┆           ┆           │\n",
       "└───────────┴───────────┴───────────┴──────────┴───┴───────────┴───────────┴───────────┴───────────┘"
      ]
     },
     "execution_count": 61,
     "metadata": {},
     "output_type": "execute_result"
    }
   ],
   "source": [
    "check.join(ln2, on = ['geography_id',\t'product_id'\t,'plan_type',\t'payer_id'],how = 'left')"
   ]
  },
  {
   "cell_type": "code",
   "execution_count": null,
   "id": "34214f78-2daf-4d45-9cbe-ae56044d3b0b",
   "metadata": {},
   "outputs": [],
   "source": []
  }
 ],
 "metadata": {
  "kernelspec": {
   "display_name": "Python 3 (ipykernel)",
   "language": "python",
   "name": "python3"
  },
  "language_info": {
   "codemirror_mode": {
    "name": "ipython",
    "version": 3
   },
   "file_extension": ".py",
   "mimetype": "text/x-python",
   "name": "python",
   "nbconvert_exporter": "python",
   "pygments_lexer": "ipython3",
   "version": "3.10.14"
  }
 },
 "nbformat": 4,
 "nbformat_minor": 5
}
