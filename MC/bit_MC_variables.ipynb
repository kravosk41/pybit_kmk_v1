{
 "cells": [
  {
   "cell_type": "code",
   "execution_count": 1,
   "id": "b26252e5-ac7c-43c7-a41e-27384d750f24",
   "metadata": {
    "jupyter": {
     "source_hidden": true
    }
   },
   "outputs": [],
   "source": [
    "import json"
   ]
  },
  {
   "cell_type": "markdown",
   "id": "2eb5da7f-dfd9-411a-93ce-6b7249828516",
   "metadata": {},
   "source": [
    "#### Variables - \n",
    "(add more as needed , make sure all have a unique name)"
   ]
  },
  {
   "cell_type": "code",
   "execution_count": 2,
   "id": "4e03bbc4-987d-45b0-b801-0245db0653b2",
   "metadata": {},
   "outputs": [],
   "source": [
    "variables = {\n",
    "   'data_date': '20240802',#xpn(weekly)\n",
    "   'bucket': 'vortex-staging-a65ced90',\n",
    "   'monthly_data_date':'202407',\n",
    "   'QTD':1,\n",
    "   'YTD':7\n",
    "}"
   ]
  },
  {
   "cell_type": "code",
   "execution_count": 3,
   "id": "ee15e839-f8fd-4125-b565-365c184e7076",
   "metadata": {
    "jupyter": {
     "source_hidden": true
    }
   },
   "outputs": [],
   "source": [
    "json_str = json.dumps(variables)\n",
    "with open('vars_wk.json', 'w') as json_file:\n",
    "    json_file.write(json_str)"
   ]
  },
  {
   "cell_type": "code",
   "execution_count": 4,
   "id": "c0c75085-aaa9-4f0c-8f6b-7473fc6bff87",
   "metadata": {},
   "outputs": [],
   "source": [
    "# DONE!"
   ]
  }
 ],
 "metadata": {
  "kernelspec": {
   "display_name": "Python 3 (ipykernel)",
   "language": "python",
   "name": "python3"
  },
  "language_info": {
   "codemirror_mode": {
    "name": "ipython",
    "version": 3
   },
   "file_extension": ".py",
   "mimetype": "text/x-python",
   "name": "python",
   "nbconvert_exporter": "python",
   "pygments_lexer": "ipython3",
   "version": "3.10.14"
  }
 },
 "nbformat": 4,
 "nbformat_minor": 5
}
