{
 "cells": [
  {
   "cell_type": "code",
   "execution_count": null,
   "id": "52ccad26-8ddc-4456-8fb2-0b613fedfed6",
   "metadata": {},
   "outputs": [],
   "source": [
    "period = '_1'\n",
    "temp1 = [pl.DataFrame() for _ in range(4)] # creating an empty dataframe holder list obj"
   ]
  },
  {
   "cell_type": "code",
   "execution_count": null,
   "id": "c1bec4cc-1677-4ccb-917a-3285686a03e3",
   "metadata": {},
   "outputs": [],
   "source": [
    "# FOR IID LEVEL Data - > "
   ]
  },
  {
   "cell_type": "code",
   "execution_count": null,
   "id": "7c8b1bfe-6c6f-42a0-a143-cb03145486ad",
   "metadata": {},
   "outputs": [],
   "source": [
    "# current_vol , prior_vol, vol_change.\n",
    "def process_1():\n",
    "\n",
    "    res = []\n",
    "\n",
    "    for i in range(0,4):\n",
    "        #i = 0\n",
    "        g = levels[i]\n",
    "        \n",
    "        source_df = (ln2.select([g,'plan_type','plan_type_group1','plan_type_group2','payer_id','IID','product_id',f'TUF{period}c',f'TUF{period}p']))\n",
    "        \n",
    "        df = (\n",
    "            source_df\n",
    "            .join(top_hcps[i],on = [g,'plan_type','payer_id','IID'],how = 'inner')\n",
    "            .drop(['plan_type_group1','plan_type_group2'])\n",
    "        )\n",
    "        \n",
    "        df_t = (\n",
    "            source_df\n",
    "            .join(top_hcps[i].filter(plan_type = 'Total'),left_on = [g,'plan_type_group1','payer_id','IID'],right_on = [g,'plan_type','payer_id','IID'],how = 'inner')\n",
    "            .drop(['plan_type_group2','plan_type'])\n",
    "            .rename({'plan_type_group1' : 'plan_type'})\n",
    "            .select(df.columns)\n",
    "        )\n",
    "        \n",
    "        df_pdc = (\n",
    "            source_df\n",
    "            .join(top_hcps[i].filter(plan_type = 'Part D and Commercial'),left_on = [g,'plan_type_group2','payer_id','IID'],right_on = [g,'plan_type','payer_id','IID'],how = 'inner')\n",
    "            .drop(['plan_type_group1','plan_type'])\n",
    "            .rename({'plan_type_group2' : 'plan_type'})\n",
    "            .select(df.columns)\n",
    "        )\n",
    "        \n",
    "        df = df.vstack(df_t).vstack(df_pdc)\n",
    "        \n",
    "        df = (\n",
    "            df\n",
    "            .rename({f'TUF{period}c':'cur_vol',f'TUF{period}p':'pri_vol'})\n",
    "            .with_columns(\n",
    "                vol_change = pl.col('cur_vol') - pl.col('pri_vol'),\n",
    "                prc_vol_growth = (pl.col('cur_vol')/pl.col('pri_vol'))-1,\n",
    "            )\n",
    "            .with_columns(\n",
    "                pl.when(pl.col('vol_change')/pl.col('pri_vol') > 0.02).then(pl.lit('P'))\n",
    "                .when(pl.col('vol_change')/pl.col('pri_vol') < -0.02).then(pl.lit('Q'))\n",
    "                .when(pl.col('vol_change')==0).then(None)\n",
    "                .otherwise(None).alias('vol_change_ind')\n",
    "            )\n",
    "        )\n",
    "\n",
    "        res.append(df)\n",
    "    return (res)\n",
    "\n",
    "temp1 = process_1()"
   ]
  },
  {
   "cell_type": "code",
   "execution_count": null,
   "id": "1906b3ae-ae5e-46d6-a2f3-102def4144c7",
   "metadata": {},
   "outputs": [],
   "source": []
  }
 ],
 "metadata": {
  "kernelspec": {
   "display_name": "Python 3 (ipykernel)",
   "language": "python",
   "name": "python3"
  },
  "language_info": {
   "codemirror_mode": {
    "name": "ipython",
    "version": 3
   },
   "file_extension": ".py",
   "mimetype": "text/x-python",
   "name": "python",
   "nbconvert_exporter": "python",
   "pygments_lexer": "ipython3",
   "version": "3.10.14"
  }
 },
 "nbformat": 4,
 "nbformat_minor": 5
}
