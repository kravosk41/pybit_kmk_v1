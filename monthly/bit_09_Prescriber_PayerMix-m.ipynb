{
 "cells": [
  {
   "cell_type": "markdown",
   "id": "ca17030a-bda3-43f5-a7c1-b812fc43d8d8",
   "metadata": {},
   "source": [
    "# Prescriber PayerMix\n",
    "- Copied over directly from weekly"
   ]
  },
  {
   "cell_type": "code",
   "execution_count": 5,
   "id": "9a8486a0-ffd8-4ebf-bc9e-4fdeb5ef2a4c",
   "metadata": {
    "jupyter": {
     "source_hidden": true
    }
   },
   "outputs": [],
   "source": [
    "import pandas as pd\n",
    "import polars as pl"
   ]
  },
  {
   "cell_type": "code",
   "execution_count": null,
   "id": "e10b9812-7052-42ef-b168-69740e5cb48c",
   "metadata": {
    "jupyter": {
     "source_hidden": true
    }
   },
   "outputs": [],
   "source": [
    "weekly_file = (\n",
    "    pl.read_csv(\n",
    "        's3://vortex-staging-a65ced90/BIT/output/Prescriber/Weekly/Weekly_Prescriber_PayerMix_Feed.txt',\n",
    "        separator='|',encoding='Latin-1'\n",
    "    )\n",
    ")\n",
    "\n",
    "temp1 = weekly_file.with_columns(\n",
    "    pl.lit('MONTHLY').alias('ReportType')\n",
    ")\n",
    "\n",
    "(\n",
    "    temp1\n",
    "    .to_pandas()\n",
    "    .to_csv(\n",
    "        's3://vortex-staging-a65ced90/BIT/output/Prescriber/Monthly/Monthly_Prescriber_PayerMix_Feed.txt',\n",
    "        sep='|',lineterminator='\\r\\n',index=False\n",
    "    )\n",
    ")\n",
    "print('Feed Exported ')"
   ]
  }
 ],
 "metadata": {
  "kernelspec": {
   "display_name": "Python 3 (ipykernel)",
   "language": "python",
   "name": "python3"
  },
  "language_info": {
   "codemirror_mode": {
    "name": "ipython",
    "version": 3
   },
   "file_extension": ".py",
   "mimetype": "text/x-python",
   "name": "python",
   "nbconvert_exporter": "python",
   "pygments_lexer": "ipython3",
   "version": "3.10.14"
  }
 },
 "nbformat": 4,
 "nbformat_minor": 5
}
