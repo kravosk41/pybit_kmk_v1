{
 "cells": [
  {
   "cell_type": "markdown",
   "id": "faa1c12c-7d19-4c91-ba48-43b97912e109",
   "metadata": {},
   "source": [
    "# DenormalizedPrescriber_ProfileInfo\n",
    "- Copied over directly from weekly"
   ]
  },
  {
   "cell_type": "code",
   "execution_count": 1,
   "id": "b57ce7d7-f8b2-4b1b-852a-27cf2a72503a",
   "metadata": {
    "execution": {
     "iopub.execute_input": "2024-10-01T08:23:54.074539Z",
     "iopub.status.busy": "2024-10-01T08:23:54.073228Z",
     "iopub.status.idle": "2024-10-01T08:23:54.720048Z",
     "shell.execute_reply": "2024-10-01T08:23:54.717809Z"
    },
    "jupyter": {
     "source_hidden": true
    }
   },
   "outputs": [],
   "source": [
    "import pandas as pd\n",
    "import polars as pl"
   ]
  },
  {
   "cell_type": "code",
   "execution_count": 2,
   "id": "88a7523d-d130-4467-9721-12adce61ed45",
   "metadata": {
    "execution": {
     "iopub.execute_input": "2024-10-01T08:23:54.734570Z",
     "iopub.status.busy": "2024-10-01T08:23:54.732279Z",
     "iopub.status.idle": "2024-10-01T08:24:04.117771Z",
     "shell.execute_reply": "2024-10-01T08:24:04.116140Z"
    },
    "jupyter": {
     "source_hidden": true
    }
   },
   "outputs": [
    {
     "name": "stdout",
     "output_type": "stream",
     "text": [
      "Feed Exported \n"
     ]
    }
   ],
   "source": [
    "weekly_file = (\n",
    "    pl.read_csv(\n",
    "        's3://vortex-staging-a65ced90/BIT/output/DenormalizedPrescriber/Weekly/Weekly_DenormalizedPrescriber_ProfileInfo_Feed.txt',\n",
    "        separator='|',encoding='Latin-1'\n",
    "    )\n",
    ")\n",
    "\n",
    "temp1 = weekly_file.with_columns(\n",
    "    pl.lit('MONTHLY').alias('ReportType')\n",
    ")\n",
    "\n",
    "(\n",
    "    temp1\n",
    "    .to_pandas()\n",
    "    .to_csv(\n",
    "        's3://vortex-staging-a65ced90/BIT/output/DenormalizedPrescriber/Monthly/Monthly_DenormalizedPrescriber_ProfileInfo_Feed.txt',\n",
    "        sep='|',lineterminator='\\r\\n',index=False\n",
    "    )\n",
    ")\n",
    "print('Feed Exported ')"
   ]
  }
 ],
 "metadata": {
  "kernelspec": {
   "display_name": "Python 3 (ipykernel)",
   "language": "python",
   "name": "python3"
  },
  "language_info": {
   "codemirror_mode": {
    "name": "ipython",
    "version": 3
   },
   "file_extension": ".py",
   "mimetype": "text/x-python",
   "name": "python",
   "nbconvert_exporter": "python",
   "pygments_lexer": "ipython3",
   "version": "3.10.14"
  }
 },
 "nbformat": 4,
 "nbformat_minor": 5
}
