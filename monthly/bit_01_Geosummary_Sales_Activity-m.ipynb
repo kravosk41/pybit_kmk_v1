{
 "cells": [
  {
   "cell_type": "markdown",
   "id": "88f34425-570f-426b-8445-419e260ba4a5",
   "metadata": {},
   "source": [
    "### GS Sales Activity"
   ]
  },
  {
   "cell_type": "code",
   "execution_count": 1,
   "id": "a546890e-c348-4507-ba0c-133a303e3471",
   "metadata": {
    "jupyter": {
     "source_hidden": true
    }
   },
   "outputs": [],
   "source": [
    "import polars as pl\n",
    "import pandas as pd\n",
    "import gc\n",
    "from datetime import datetime, timedelta,date\n",
    "from dateutil.relativedelta import relativedelta\n",
    "import numpy as np\n",
    "import json"
   ]
  },
  {
   "cell_type": "code",
   "execution_count": 2,
   "id": "9b7f9655-5d51-4e38-ba27-8232ab28dad2",
   "metadata": {
    "jupyter": {
     "source_hidden": true
    }
   },
   "outputs": [],
   "source": [
    "# load variables from JSON\n",
    "with open('vars_wk.json', 'r') as json_file:\n",
    "    js = json.load(json_file)\n",
    "bucket = js['bucket']\n",
    "dflib = f's3://{bucket}/BIT/dataframes/'"
   ]
  },
  {
   "cell_type": "code",
   "execution_count": 3,
   "id": "07053fe5-ca6d-41f0-a4c9-be46264e7d10",
   "metadata": {
    "jupyter": {
     "source_hidden": true
    }
   },
   "outputs": [],
   "source": [
    "# Utility Functions -\n",
    "def load(df, lib=dflib):\n",
    "    globals()[df] = pl.read_parquet(f'{lib}{df}.parquet')"
   ]
  },
  {
   "cell_type": "markdown",
   "id": "b1c7dcb0-110a-409e-84fc-c83c730fab74",
   "metadata": {},
   "source": [
    "---"
   ]
  },
  {
   "cell_type": "code",
   "execution_count": 4,
   "id": "7f5cda16-100e-48de-b700-af1f1a9320e0",
   "metadata": {
    "jupyter": {
     "source_hidden": true
    }
   },
   "outputs": [],
   "source": [
    "# pulling in data for bit weekly.\n",
    "load('gs_calls_p1')"
   ]
  },
  {
   "cell_type": "code",
   "execution_count": 27,
   "id": "504f41b8-515d-42ad-9b8d-a0a29b03789e",
   "metadata": {
    "jupyter": {
     "source_hidden": true
    }
   },
   "outputs": [],
   "source": [
    "#period_loop_lookup_dict (PN 5 has no data in the feed so skipping)\n",
    "pld = {1:'1-MONTH',2:'3-MONTHS',3:'6-MONTHS',4:'12-MONTHS',6:'PQTD',7:'YTD'}\n",
    "\n",
    "# export location - >\n",
    "OUT = 's3://vortex-staging-a65ced90/BIT/output/GeoSummary/Monthly/'"
   ]
  },
  {
   "cell_type": "code",
   "execution_count": 28,
   "id": "06cc4eac-b693-4dec-8212-7e867bd8ae58",
   "metadata": {
    "jupyter": {
     "source_hidden": true
    }
   },
   "outputs": [
    {
     "name": "stdout",
     "output_type": "stream",
     "text": [
      "Exported Feed :  1\n",
      "Exported Feed :  2\n",
      "Exported Feed :  3\n",
      "Exported Feed :  4\n",
      "Exported Feed :  6\n",
      "Exported Feed :  7\n"
     ]
    }
   ],
   "source": [
    "# Process & Export - \n",
    "for k,v in pld.items():\n",
    "    temp1 = (\n",
    "        gs_calls_p1\n",
    "        .with_columns(\n",
    "            pl.lit('MONTHLY').alias('ReportType'),\n",
    "            pl.lit(f'{v}').alias('Period')\n",
    "        )\n",
    "    )\n",
    "    temp1.to_pandas().to_csv(f'{OUT}Monthly_GeoSummary_SalesActivity_P{k}_Feed.txt', sep='|', lineterminator='\\r\\n',index=False)\n",
    "    print('Exported Feed : ',k)    "
   ]
  }
 ],
 "metadata": {
  "kernelspec": {
   "display_name": "Python 3 (ipykernel)",
   "language": "python",
   "name": "python3"
  },
  "language_info": {
   "codemirror_mode": {
    "name": "ipython",
    "version": 3
   },
   "file_extension": ".py",
   "mimetype": "text/x-python",
   "name": "python",
   "nbconvert_exporter": "python",
   "pygments_lexer": "ipython3",
   "version": "3.10.14"
  }
 },
 "nbformat": 4,
 "nbformat_minor": 5
}
