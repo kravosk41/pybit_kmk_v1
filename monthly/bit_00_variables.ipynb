{
 "cells": [
  {
   "cell_type": "code",
   "execution_count": 1,
   "id": "b26252e5-ac7c-43c7-a41e-27384d750f24",
   "metadata": {
    "execution": {
     "iopub.execute_input": "2024-10-01T08:14:55.117221Z",
     "iopub.status.busy": "2024-10-01T08:14:55.116613Z",
     "iopub.status.idle": "2024-10-01T08:14:55.127395Z",
     "shell.execute_reply": "2024-10-01T08:14:55.125969Z"
    }
   },
   "outputs": [],
   "source": [
    "import json"
   ]
  },
  {
   "cell_type": "markdown",
   "id": "2eb5da7f-dfd9-411a-93ce-6b7249828516",
   "metadata": {},
   "source": [
    "#### Variables - \n",
    "(add more as needed , make sure all have a unique name)"
   ]
  },
  {
   "cell_type": "code",
   "execution_count": 2,
   "id": "4e03bbc4-987d-45b0-b801-0245db0653b2",
   "metadata": {
    "execution": {
     "iopub.execute_input": "2024-10-01T08:14:55.134773Z",
     "iopub.status.busy": "2024-10-01T08:14:55.134465Z",
     "iopub.status.idle": "2024-10-01T08:14:55.141160Z",
     "shell.execute_reply": "2024-10-01T08:14:55.139919Z"
    }
   },
   "outputs": [],
   "source": [
    "variables = {\n",
    "    'data_date': '20240906',#xpn(Monthly)\n",
    "    'qtr_data': '2024Q3',\n",
    "    'qtr_ntnw': 'Q3',\n",
    "    'fir_nqrt': '2024-10-01',#first date for next qtr\n",
    "    'targeting_folder': '2024 Q3',\n",
    "    'bucket': 'vortex-staging-a65ced90',\n",
    "    'curr_date': '2024-09-20',#call(Monthly)\n",
    "    'quarter_start': '2024-7-01',\n",
    "    'quarter_end': '2024-09-30',\n",
    "    'num_weeks_calls': 12,#(Monthly),\n",
    "    'YTD' : 8,\n",
    "    'QTD_m' : 2, #month number in quarter\n",
    "    'monthly_data_date':'202408',\n",
    "    'IBSC_ptype_file' : 'IBSC Primary Payer Type_2024Q1',\n",
    "    'num_weeks_rx' : 10, # useless remove later.\n",
    "}"
   ]
  },
  {
   "cell_type": "code",
   "execution_count": 3,
   "id": "ee15e839-f8fd-4125-b565-365c184e7076",
   "metadata": {
    "execution": {
     "iopub.execute_input": "2024-10-01T08:14:55.146351Z",
     "iopub.status.busy": "2024-10-01T08:14:55.145849Z",
     "iopub.status.idle": "2024-10-01T08:14:55.151600Z",
     "shell.execute_reply": "2024-10-01T08:14:55.150067Z"
    },
    "jupyter": {
     "source_hidden": true
    }
   },
   "outputs": [],
   "source": [
    "json_str = json.dumps(variables)\n",
    "with open('vars_wk.json', 'w') as json_file:\n",
    "    json_file.write(json_str)"
   ]
  },
  {
   "cell_type": "code",
   "execution_count": 4,
   "id": "c0c75085-aaa9-4f0c-8f6b-7473fc6bff87",
   "metadata": {
    "execution": {
     "iopub.execute_input": "2024-10-01T08:14:55.158775Z",
     "iopub.status.busy": "2024-10-01T08:14:55.158286Z",
     "iopub.status.idle": "2024-10-01T08:14:55.164274Z",
     "shell.execute_reply": "2024-10-01T08:14:55.162318Z"
    }
   },
   "outputs": [],
   "source": [
    "# DONE!"
   ]
  }
 ],
 "metadata": {
  "kernelspec": {
   "display_name": "Python 3 (ipykernel)",
   "language": "python",
   "name": "python3"
  },
  "language_info": {
   "codemirror_mode": {
    "name": "ipython",
    "version": 3
   },
   "file_extension": ".py",
   "mimetype": "text/x-python",
   "name": "python",
   "nbconvert_exporter": "python",
   "pygments_lexer": "ipython3",
   "version": "3.10.14"
  }
 },
 "nbformat": 4,
 "nbformat_minor": 5
}
