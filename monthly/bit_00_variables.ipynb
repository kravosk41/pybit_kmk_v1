{
 "cells": [
  {
   "cell_type": "markdown",
   "id": "2eb5da7f-dfd9-411a-93ce-6b7249828516",
   "metadata": {},
   "source": [
    "# BIT Monthly Variables - \n",
    "(add more as needed , make sure all have a unique name)"
   ]
  },
  {
   "cell_type": "code",
   "execution_count": 1,
   "id": "fbfd1134-9966-4098-807d-5e7e101aa799",
   "metadata": {
    "execution": {
     "iopub.execute_input": "2024-10-04T09:59:12.050733Z",
     "iopub.status.busy": "2024-10-04T09:59:12.050451Z",
     "iopub.status.idle": "2024-10-04T09:59:12.061374Z",
     "shell.execute_reply": "2024-10-04T09:59:12.060559Z"
    },
    "jupyter": {
     "source_hidden": true
    }
   },
   "outputs": [
    {
     "name": "stdout",
     "output_type": "stream",
     "text": [
      "DONE !\n"
     ]
    }
   ],
   "source": [
    "variables = {\n",
    "\n",
    "    'YTD': 8,                                                 # Month Number in Year\n",
    "    'QTD_m': 2,                                               # Month Number in Quarter\n",
    "    'monthly_data_date': '202408',                            # Month For which you have full Rx and Plantrak Data Ready\n",
    "    'num_weeks_calls' : 0,                                    # Number of Weeks between call date and qtd\n",
    "\n",
    "    #########################################################################################################################\n",
    "\n",
    "    'qtr_data': '2024Q4',                                     # Current QTR\n",
    "    'qtr_ntnw': 'Q4',                                         # QTR Suffix code\n",
    "    'fir_nqrt': '2025-01-01',                                 # First Day of Next QTR (Y M D)\n",
    "    'targeting_folder': '2024 Q4',                            # Current QTR\n",
    "    'quarter_start': '2024-10-01',                             # First Day of Current QTR\n",
    "    'quarter_end': '2024-12-31',                              # Last Day of Current QTR\n",
    "    'IBSC_ptype_file': 'IBSC Primary Payer Type_2024Q1',     # Check for new file every QTR\n",
    "\n",
    "    #########################################################################################################################\n",
    "\n",
    "    'bucket': 'vortex-staging-a65ced90'                       # S3 Bucket Address [Where All the input and output is housed]\n",
    "}\n",
    "\n",
    "#########################################################################################################################\n",
    "import json\n",
    "json_str = json.dumps(variables)\n",
    "with open('vars_wk.json', 'w') as json_file:\n",
    "    json_file.write(json_str)\n",
    "print('DONE !')"
   ]
  }
 ],
 "metadata": {
  "kernelspec": {
   "display_name": "Python 3 (ipykernel)",
   "language": "python",
   "name": "python3"
  },
  "language_info": {
   "codemirror_mode": {
    "name": "ipython",
    "version": 3
   },
   "file_extension": ".py",
   "mimetype": "text/x-python",
   "name": "python",
   "nbconvert_exporter": "python",
   "pygments_lexer": "ipython3",
   "version": "3.10.14"
  }
 },
 "nbformat": 4,
 "nbformat_minor": 5
}
