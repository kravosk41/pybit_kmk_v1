{
 "cells": [
  {
   "cell_type": "markdown",
   "id": "1e0966f1-c611-4255-afdc-6a17a9211d35",
   "metadata": {},
   "source": [
    "# Prescriber View - Sales Activity"
   ]
  },
  {
   "cell_type": "code",
   "execution_count": 1,
   "id": "eac16d86-058a-4434-a39b-b232214a0377",
   "metadata": {
    "execution": {
     "iopub.execute_input": "2024-10-04T10:02:47.702201Z",
     "iopub.status.busy": "2024-10-04T10:02:47.699698Z",
     "iopub.status.idle": "2024-10-04T10:02:48.303475Z",
     "shell.execute_reply": "2024-10-04T10:02:48.302580Z"
    },
    "jupyter": {
     "source_hidden": true
    }
   },
   "outputs": [],
   "source": [
    "import polars as pl\n",
    "import pandas as pd\n",
    "import gc\n",
    "import numpy as np\n",
    "from datetime import datetime, timedelta,date\n",
    "import json"
   ]
  },
  {
   "cell_type": "code",
   "execution_count": 2,
   "id": "842714d2-f768-4b97-aa05-8fdcd986e0e8",
   "metadata": {
    "execution": {
     "iopub.execute_input": "2024-10-04T10:02:48.307370Z",
     "iopub.status.busy": "2024-10-04T10:02:48.306768Z",
     "iopub.status.idle": "2024-10-04T10:02:48.311373Z",
     "shell.execute_reply": "2024-10-04T10:02:48.310461Z"
    },
    "jupyter": {
     "source_hidden": true
    }
   },
   "outputs": [],
   "source": [
    "# load variables from JSON\n",
    "with open('vars_wk.json', 'r') as json_file:\n",
    "    js = json.load(json_file)\n",
    "\n",
    "bucket = js['bucket']\n",
    "dflib = f's3://{bucket}/BIT/dataframes/'"
   ]
  },
  {
   "cell_type": "code",
   "execution_count": 3,
   "id": "49b6ef24-d6dd-432c-a95c-a7e3125cb409",
   "metadata": {
    "execution": {
     "iopub.execute_input": "2024-10-04T10:02:48.314551Z",
     "iopub.status.busy": "2024-10-04T10:02:48.314054Z",
     "iopub.status.idle": "2024-10-04T10:02:48.320028Z",
     "shell.execute_reply": "2024-10-04T10:02:48.319105Z"
    },
    "jupyter": {
     "source_hidden": true
    }
   },
   "outputs": [],
   "source": [
    "# Utility Functions -\n",
    "def load(df, lib=dflib):\n",
    "    globals()[df] = pl.read_parquet(f'{lib}{df}.parquet')"
   ]
  },
  {
   "cell_type": "code",
   "execution_count": 4,
   "id": "353493d8-499b-4d94-a523-eb1b3957ee73",
   "metadata": {
    "execution": {
     "iopub.execute_input": "2024-10-04T10:02:48.325350Z",
     "iopub.status.busy": "2024-10-04T10:02:48.325012Z",
     "iopub.status.idle": "2024-10-04T10:02:48.690802Z",
     "shell.execute_reply": "2024-10-04T10:02:48.689689Z"
    },
    "jupyter": {
     "source_hidden": true
    }
   },
   "outputs": [],
   "source": [
    "# Imporing Dependencies\n",
    "# loading QTD Feed Data from weekly view - >\n",
    "weekly_qtd_psa = pl.read_parquet(f'{dflib}PSA_qtd.parquet')"
   ]
  },
  {
   "cell_type": "code",
   "execution_count": 5,
   "id": "3de573b4-25ba-48e4-9933-2556aac4bb47",
   "metadata": {
    "execution": {
     "iopub.execute_input": "2024-10-04T10:02:48.695481Z",
     "iopub.status.busy": "2024-10-04T10:02:48.695137Z",
     "iopub.status.idle": "2024-10-04T10:02:48.699024Z",
     "shell.execute_reply": "2024-10-04T10:02:48.698322Z"
    },
    "jupyter": {
     "source_hidden": true
    }
   },
   "outputs": [],
   "source": [
    "#period_loop_lookup_dict (PN 5 has no data in the feed so skipping)\n",
    "pld = {1:'1-MONTH',2:'3-MONTHS',3:'6-MONTHS',4:'12-MONTHS',6:'PQTD',7:'YTD'}\n",
    "# export location - >\n",
    "OUT = 's3://vortex-staging-a65ced90/BIT/output/Prescriber/Monthly/'"
   ]
  },
  {
   "cell_type": "code",
   "execution_count": 6,
   "id": "dac2ffb5-50dd-49d7-b8e0-85b196f1a2e4",
   "metadata": {
    "execution": {
     "iopub.execute_input": "2024-10-04T10:02:48.703442Z",
     "iopub.status.busy": "2024-10-04T10:02:48.702291Z",
     "iopub.status.idle": "2024-10-04T10:03:22.278934Z",
     "shell.execute_reply": "2024-10-04T10:03:22.277613Z"
    },
    "jupyter": {
     "source_hidden": true
    }
   },
   "outputs": [
    {
     "name": "stdout",
     "output_type": "stream",
     "text": [
      "Exported Feed 1\n"
     ]
    },
    {
     "name": "stdout",
     "output_type": "stream",
     "text": [
      "Exported Feed 2\n"
     ]
    },
    {
     "name": "stdout",
     "output_type": "stream",
     "text": [
      "Exported Feed 3\n"
     ]
    },
    {
     "name": "stdout",
     "output_type": "stream",
     "text": [
      "Exported Feed 4\n"
     ]
    },
    {
     "name": "stdout",
     "output_type": "stream",
     "text": [
      "Exported Feed 6\n"
     ]
    },
    {
     "name": "stdout",
     "output_type": "stream",
     "text": [
      "Exported Feed 7\n"
     ]
    }
   ],
   "source": [
    "for period_num,PN in zip([1,3,6,12,'pqtr','ytd'],[1,2,3,4,6,7]):\n",
    "    temp1 = (\n",
    "        weekly_qtd_psa\n",
    "        .with_columns(\n",
    "            pl.lit('MONTHLY').alias('ReportType'),\n",
    "            pl.lit(f'{pld[PN]}').alias('Period')\n",
    "        )\n",
    "    )\n",
    "    temp1 = temp1.to_pandas()\n",
    "    # Select columns of type 'object' (string)\n",
    "    string_columns = temp1.select_dtypes(include=['object']).columns.tolist()\n",
    "    temp1[string_columns] = temp1[string_columns].fillna('\\\\N')\n",
    "    temp1 = temp1.replace('NaN', '\\\\N')\n",
    "    \n",
    "    temp1 = temp1.replace([np.nan, np.inf, -np.inf], '\\\\N')\n",
    "    temp1.to_csv(f'{OUT}Monthly_Prescriber_SalesActivity_P{PN}_Feed.txt', sep='|',lineterminator='\\r\\n',index=False)\n",
    "    print(f'Exported Feed {PN}')"
   ]
  }
 ],
 "metadata": {
  "kernelspec": {
   "display_name": "Python 3 (ipykernel)",
   "language": "python",
   "name": "python3"
  },
  "language_info": {
   "codemirror_mode": {
    "name": "ipython",
    "version": 3
   },
   "file_extension": ".py",
   "mimetype": "text/x-python",
   "name": "python",
   "nbconvert_exporter": "python",
   "pygments_lexer": "ipython3",
   "version": "3.10.14"
  }
 },
 "nbformat": 4,
 "nbformat_minor": 5
}
