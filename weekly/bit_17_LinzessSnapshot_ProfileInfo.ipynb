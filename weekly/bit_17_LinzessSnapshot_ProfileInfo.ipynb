{
 "cells": [
  {
   "cell_type": "markdown",
   "metadata": {},
   "source": [
    "### Weekly_LinzessSnapshot_ProfileInfo_Feed"
   ]
  },
  {
   "cell_type": "code",
   "execution_count": 1,
   "metadata": {
    "execution": {
     "iopub.execute_input": "2024-06-25T12:00:48.267110Z",
     "iopub.status.busy": "2024-06-25T12:00:48.266467Z",
     "iopub.status.idle": "2024-06-25T12:00:48.953724Z",
     "shell.execute_reply": "2024-06-25T12:00:48.952535Z"
    },
    "jupyter": {
     "source_hidden": true
    }
   },
   "outputs": [],
   "source": [
    "import polars as pl\n",
    "import pandas as pd\n",
    "import gc\n",
    "import numpy as np\n",
    "import json"
   ]
  },
  {
   "cell_type": "code",
   "execution_count": 2,
   "metadata": {
    "execution": {
     "iopub.execute_input": "2024-06-25T12:00:48.957781Z",
     "iopub.status.busy": "2024-06-25T12:00:48.957390Z",
     "iopub.status.idle": "2024-06-25T12:00:48.962558Z",
     "shell.execute_reply": "2024-06-25T12:00:48.961674Z"
    },
    "jupyter": {
     "source_hidden": true
    }
   },
   "outputs": [],
   "source": [
    "# load variables from JSON\n",
    "with open('vars_wk.json', 'r') as json_file:\n",
    "    js = json.load(json_file)\n",
    "\n",
    "bucket = js['bucket']\n",
    "IBSC_ptype_file = js['IBSC_ptype_file']\n",
    "\n",
    "dflib = f's3://{bucket}/BIT/dataframes/'"
   ]
  },
  {
   "cell_type": "code",
   "execution_count": 3,
   "metadata": {
    "execution": {
     "iopub.execute_input": "2024-06-25T12:00:48.967011Z",
     "iopub.status.busy": "2024-06-25T12:00:48.966231Z",
     "iopub.status.idle": "2024-06-25T12:00:48.970673Z",
     "shell.execute_reply": "2024-06-25T12:00:48.969735Z"
    },
    "jupyter": {
     "source_hidden": true
    }
   },
   "outputs": [],
   "source": [
    "# Utility Functions -\n",
    "def load(df, lib=dflib):\n",
    "    globals()[df] = pl.read_parquet(f'{lib}{df}.parquet')"
   ]
  },
  {
   "cell_type": "code",
   "execution_count": 4,
   "metadata": {
    "execution": {
     "iopub.execute_input": "2024-06-25T12:00:48.974972Z",
     "iopub.status.busy": "2024-06-25T12:00:48.974641Z",
     "iopub.status.idle": "2024-06-25T12:00:52.744035Z",
     "shell.execute_reply": "2024-06-25T12:00:52.742943Z"
    },
    "jupyter": {
     "source_hidden": true
    }
   },
   "outputs": [],
   "source": [
    "# Imporing Dependencies\n",
    "prod_mapping = pl.read_csv(f's3://{bucket}/BIT/docs/productmapping_pybit.txt',separator='|')\n",
    "geo_code_mapper = pl.from_pandas(pd.read_excel(f's3://{bucket}/BIT/docs/geo_id_full.xlsx'))\n",
    "ibsc_ptype = pl.from_pandas(pd.read_excel(f's3://{bucket}/BIT/docs/{IBSC_ptype_file}.xlsx'))\n",
    "load('mp_spec_seg_dec')\n",
    "load('MASTER_UNI')\n",
    "fetch_products = ['LI1','LI2','LI3','TRU','AMT','LAC','MOT','LUB','IRL']"
   ]
  },
  {
   "cell_type": "code",
   "execution_count": 5,
   "metadata": {
    "execution": {
     "iopub.execute_input": "2024-06-25T12:00:52.748406Z",
     "iopub.status.busy": "2024-06-25T12:00:52.747669Z",
     "iopub.status.idle": "2024-06-25T12:00:52.998381Z",
     "shell.execute_reply": "2024-06-25T12:00:52.997287Z"
    },
    "jupyter": {
     "source_hidden": true
    }
   },
   "outputs": [],
   "source": [
    "# Processing -\n",
    "temp1 = (\n",
    "    MASTER_UNI.select(\n",
    "        [\n",
    "            'IID','FirstName','LastName','CREDENTIAL',\n",
    "            'AddressLine1','AddressLine2','AddressLine3','AddressLine4','CityName','StateCode','ZIP','DECILE'\n",
    "        ]\n",
    "    )\n",
    "    .with_columns(\n",
    "        pl.concat_str([pl.col('AddressLine1'),pl.col('AddressLine2'),pl.col('AddressLine3'),pl.col('AddressLine4')],separator=' ').alias('Address'),\n",
    "        pl.concat_str([pl.col('FirstName'),pl.col('LastName')],separator=' ').alias('Physician_Name')\n",
    "    )\n",
    "    .join(mp_spec_seg_dec,on='IID',how='left')\n",
    "    .join(ibsc_ptype,on='IID',how='left')\n",
    "    .drop(['AddressLine1','AddressLine2','AddressLine3','AddressLine4','FirstName','LastName','decile'])\n",
    ")"
   ]
  },
  {
   "cell_type": "code",
   "execution_count": 6,
   "metadata": {
    "execution": {
     "iopub.execute_input": "2024-06-25T12:00:53.005001Z",
     "iopub.status.busy": "2024-06-25T12:00:53.004652Z",
     "iopub.status.idle": "2024-06-25T12:00:53.073429Z",
     "shell.execute_reply": "2024-06-25T12:00:53.072057Z"
    }
   },
   "outputs": [],
   "source": [
    "# Converting to feed ready data\n",
    "#Renaming columns\n",
    "column_mapping = {\n",
    "    \"IID\": \"Physician_ID\",\n",
    "    \"CREDENTIAL\": \"Credential\",\n",
    "    \"CityName\": \"City\",\n",
    "    \"StateCode\": \"State\",\n",
    "    \"ZIP\": \"Zip\",\n",
    "    \"DECILE\": \"Decile\",\n",
    "    \"Address\": \"Address\",\n",
    "    \"Physician_Name\": \"Physician_Name\",\n",
    "    \"specialty_group\": \"Specialty\",\n",
    "    \"segment\": \"Segment\",\n",
    "    \"geography_id\": \"Geography_id\",\n",
    "    \"IBSC_VALUE\": \"IBSCPrimaryPayerType\"\n",
    "}\n",
    "final_feed = temp1.rename(column_mapping)\n",
    "\n",
    "# changing value of column to match with sas - 06/21\n",
    "final_feed = final_feed.with_columns(\n",
    "        pl.when(pl.col('Segment')=='ALG-ONLY-TARGET')\n",
    "        .then(pl.lit('AGNT'))\n",
    "        .when(pl.col('Segment')=='Target')\n",
    "        .then(pl.lit('T'))\n",
    "        .when(pl.col('Segment')=='Non-Target')\n",
    "        .then(pl.lit('NT'))\n",
    "        .alias('Segment'))\n",
    "\n",
    "# arranging columns according to feed\n",
    "req_cols = [\"Physician_Name\", \"Physician_ID\", \"Geography_id\", \"Segment\", \"Specialty\", \"Decile\", \"Address\", \"City\", \"State\", \"Zip\", \"IBSCPrimaryPayerType\", \"Credential\"]\n",
    "final_feed = final_feed.select(req_cols)#final_dataset"
   ]
  },
  {
   "cell_type": "code",
   "execution_count": 7,
   "metadata": {
    "execution": {
     "iopub.execute_input": "2024-06-25T12:00:53.078173Z",
     "iopub.status.busy": "2024-06-25T12:00:53.077905Z",
     "iopub.status.idle": "2024-06-25T12:01:01.149784Z",
     "shell.execute_reply": "2024-06-25T12:01:01.148523Z"
    }
   },
   "outputs": [
    {
     "name": "stdout",
     "output_type": "stream",
     "text": [
      "LS Profile Info Exported !\n"
     ]
    }
   ],
   "source": [
    "#Exporting Feeds-\n",
    "OUT = 's3://vortex-staging-a65ced90/BIT/output/LinzessSnapshot/Weekly/'\n",
    "final_feed.to_pandas().to_csv(f'{OUT}Weekly_LinzessSnapshot_ProfileInfo_Feed.txt', sep='|')\n",
    "print('LS Profile Info Exported !')"
   ]
  }
 ],
 "metadata": {
  "kernelspec": {
   "display_name": "Python 3 (ipykernel)",
   "language": "python",
   "name": "python3"
  },
  "language_info": {
   "codemirror_mode": {
    "name": "ipython",
    "version": 3
   },
   "file_extension": ".py",
   "mimetype": "text/x-python",
   "name": "python",
   "nbconvert_exporter": "python",
   "pygments_lexer": "ipython3",
   "version": "3.10.14"
  }
 },
 "nbformat": 4,
 "nbformat_minor": 4
}
