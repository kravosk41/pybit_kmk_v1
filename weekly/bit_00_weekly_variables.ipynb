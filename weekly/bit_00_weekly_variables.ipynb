{
 "cells": [
  {
   "cell_type": "code",
   "execution_count": 1,
   "id": "b26252e5-ac7c-43c7-a41e-27384d750f24",
   "metadata": {
    "execution": {
     "iopub.execute_input": "2024-08-06T14:39:28.678182Z",
     "iopub.status.busy": "2024-08-06T14:39:28.677439Z",
     "iopub.status.idle": "2024-08-06T14:39:28.686987Z",
     "shell.execute_reply": "2024-08-06T14:39:28.685881Z"
    }
   },
   "outputs": [],
   "source": [
    "import json"
   ]
  },
  {
   "cell_type": "markdown",
   "id": "2eb5da7f-dfd9-411a-93ce-6b7249828516",
   "metadata": {},
   "source": [
    "#### Variables - \n",
    "(add more as needed , make sure all have a unique name)"
   ]
  },
  {
   "cell_type": "code",
   "execution_count": 2,
   "id": "4e03bbc4-987d-45b0-b801-0245db0653b2",
   "metadata": {
    "execution": {
     "iopub.execute_input": "2024-08-06T14:39:28.690803Z",
     "iopub.status.busy": "2024-08-06T14:39:28.690506Z",
     "iopub.status.idle": "2024-08-06T14:39:28.695926Z",
     "shell.execute_reply": "2024-08-06T14:39:28.694637Z"
    }
   },
   "outputs": [],
   "source": [
    "variables = {\n",
    "    'data_date': '20240712',#xpn\n",
    "    'qtr_data': '2024Q3',\n",
    "    'qtr_ntnw': 'Q3',\n",
    "    'fir_nqrt': '2024-10-01',\n",
    "    'targeting_folder': '2024 Q3',\n",
    "    'bucket': 'vortex-staging-a65ced90',\n",
    "    'curr_date': '2024-07-26',#call\n",
    "    'quarter_start': '2024-7-01',\n",
    "    'quarter_end': '2024-09-30',\n",
    "    'num_weeks_calls': 4,\n",
    "    'num_weeks_rx': 2,\n",
    "    'num_of_months': 1,\n",
    "    'monthly_data_date':'202406',\n",
    "    'working_day_file': '20240729',\n",
    "    'pr_13_wk_date': '2024-04-26',\n",
    "    'roster_file': '20240708',\n",
    "    'IBSC_ptype_file' : 'IBSC Primary Payer Type_2024Q1'\n",
    "}"
   ]
  },
  {
   "cell_type": "code",
   "execution_count": 3,
   "id": "ee15e839-f8fd-4125-b565-365c184e7076",
   "metadata": {
    "execution": {
     "iopub.execute_input": "2024-08-06T14:39:28.699616Z",
     "iopub.status.busy": "2024-08-06T14:39:28.698962Z",
     "iopub.status.idle": "2024-08-06T14:39:28.713370Z",
     "shell.execute_reply": "2024-08-06T14:39:28.709900Z"
    },
    "jupyter": {
     "source_hidden": true
    }
   },
   "outputs": [],
   "source": [
    "json_str = json.dumps(variables)\n",
    "with open('vars_wk.json', 'w') as json_file:\n",
    "    json_file.write(json_str)"
   ]
  },
  {
   "cell_type": "code",
   "execution_count": 4,
   "id": "c0c75085-aaa9-4f0c-8f6b-7473fc6bff87",
   "metadata": {
    "execution": {
     "iopub.execute_input": "2024-08-06T14:39:28.722627Z",
     "iopub.status.busy": "2024-08-06T14:39:28.720934Z",
     "iopub.status.idle": "2024-08-06T14:39:28.727516Z",
     "shell.execute_reply": "2024-08-06T14:39:28.726650Z"
    }
   },
   "outputs": [],
   "source": [
    "# DONE!"
   ]
  },
  {
   "cell_type": "code",
   "execution_count": null,
   "id": "7caf40d4-e5c7-4872-8b8f-cb2a9452216d",
   "metadata": {},
   "outputs": [],
   "source": []
  }
 ],
 "metadata": {
  "kernelspec": {
   "display_name": "Python 3 (ipykernel)",
   "language": "python",
   "name": "python3"
  },
  "language_info": {
   "codemirror_mode": {
    "name": "ipython",
    "version": 3
   },
   "file_extension": ".py",
   "mimetype": "text/x-python",
   "name": "python",
   "nbconvert_exporter": "python",
   "pygments_lexer": "ipython3",
   "version": "3.10.14"
  }
 },
 "nbformat": 4,
 "nbformat_minor": 5
}
