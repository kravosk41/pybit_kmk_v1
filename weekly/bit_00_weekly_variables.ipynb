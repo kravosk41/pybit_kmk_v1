{
 "cells": [
  {
   "cell_type": "code",
   "execution_count": 1,
   "id": "b26252e5-ac7c-43c7-a41e-27384d750f24",
   "metadata": {},
   "outputs": [],
   "source": [
    "import json\n"
   ]
  },
  {
   "cell_type": "markdown",
   "id": "2eb5da7f-dfd9-411a-93ce-6b7249828516",
   "metadata": {},
   "source": [
    "#### Variables - \n",
    "(add more as needed , make sure all have a unique name)"
   ]
  },
  {
   "cell_type": "code",
   "execution_count": 2,
   "id": "4e03bbc4-987d-45b0-b801-0245db0653b2",
   "metadata": {},
   "outputs": [],
   "source": [
    "variables = {\n",
    "    'data_date': '20240524',\n",
    "    'qtr_data': '2024Q2',\n",
    "    'qtr_ntnw': 'Q2',\n",
    "    'fir_nqrt': '2024-07-01',\n",
    "    'targeting_folder': '2024 Q2',\n",
    "    'bucket': 'vortex-staging-a65ced90',\n",
    "    'curr_date': '2024-06-07',\n",
    "    'quarter_start': '2024-04-01',\n",
    "    'quarter_end': '2024-06-30',\n",
    "    'num_weeks_calls': 10,\n",
    "    'num_weeks_rx': 8,\n",
    "    'num_of_months': 3,\n",
    "    'monthly_data_date':'202405',\n",
    "    'working_day_file': '20240610',\n",
    "    'pr_13_wk_date': '2024-02-23',\n",
    "    'roster_file': '20240603',\n",
    "    'IBSC_ptype_file' : 'IBSC Primary Payer Type_2024Q1'\n",
    "}"
   ]
  },
  {
   "cell_type": "code",
   "execution_count": 3,
   "id": "ee15e839-f8fd-4125-b565-365c184e7076",
   "metadata": {},
   "outputs": [],
   "source": [
    "json_str = json.dumps(variables)\n",
    "with open('vars_wk.json', 'w') as json_file:\n",
    "    json_file.write(json_str)"
   ]
  },
  {
   "cell_type": "code",
   "execution_count": 4,
   "id": "c0c75085-aaa9-4f0c-8f6b-7473fc6bff87",
   "metadata": {},
   "outputs": [],
   "source": [
    "# DONE!"
   ]
  },
  {
   "cell_type": "code",
   "execution_count": null,
   "id": "31c865bc-71ac-4d9f-b759-ba4e0869862d",
   "metadata": {},
   "outputs": [],
   "source": []
  }
 ],
 "metadata": {
  "kernelspec": {
   "display_name": "Python 3 (ipykernel)",
   "language": "python",
   "name": "python3"
  },
  "language_info": {
   "codemirror_mode": {
    "name": "ipython",
    "version": 3
   },
   "file_extension": ".py",
   "mimetype": "text/x-python",
   "name": "python",
   "nbconvert_exporter": "python",
   "pygments_lexer": "ipython3",
   "version": "3.10.14"
  }
 },
 "nbformat": 4,
 "nbformat_minor": 5
}
