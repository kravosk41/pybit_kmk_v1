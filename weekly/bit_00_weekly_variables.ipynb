{
 "cells": [
  {
   "cell_type": "code",
   "execution_count": 1,
   "id": "b26252e5-ac7c-43c7-a41e-27384d750f24",
   "metadata": {
    "execution": {
     "iopub.execute_input": "2024-09-05T09:20:10.911773Z",
     "iopub.status.busy": "2024-09-05T09:20:10.911139Z",
     "iopub.status.idle": "2024-09-05T09:20:10.919146Z",
     "shell.execute_reply": "2024-09-05T09:20:10.918391Z"
    }
   },
   "outputs": [],
   "source": [
    "import json"
   ]
  },
  {
   "cell_type": "markdown",
   "id": "2eb5da7f-dfd9-411a-93ce-6b7249828516",
   "metadata": {},
   "source": [
    "#### Variables - \n",
    "(add more as needed , make sure all have a unique name)"
   ]
  },
  {
   "cell_type": "code",
   "execution_count": 2,
   "id": "4e03bbc4-987d-45b0-b801-0245db0653b2",
   "metadata": {
    "execution": {
     "iopub.execute_input": "2024-09-05T09:20:10.922466Z",
     "iopub.status.busy": "2024-09-05T09:20:10.921869Z",
     "iopub.status.idle": "2024-09-05T09:20:10.926574Z",
     "shell.execute_reply": "2024-09-05T09:20:10.925776Z"
    }
   },
   "outputs": [],
   "source": [
    "variables = {\n",
    "    'data_date': '20240816',#xpn(weekly)\n",
    "    'qtr_data': '2024Q3',\n",
    "    'qtr_ntnw': 'Q3',\n",
    "    'fir_nqrt': '2024-10-01',\n",
    "    'targeting_folder': '2024 Q3',\n",
    "    'bucket': 'vortex-staging-a65ced90',\n",
    "    'curr_date': '2024-08-30',#call(weekly)\n",
    "    'quarter_start': '2024-7-01',\n",
    "    'quarter_end': '2024-09-30',\n",
    "    'num_weeks_calls': 9,#(weekly)\n",
    "    'num_weeks_rx': 7,#weekly\n",
    "    'num_of_months': 2,#monthly\n",
    "    'monthly_data_date':'202407',\n",
    "    'working_day_file': '20240902',#weekly\n",
    "    'pr_13_wk_date': '2024-05-31',#weekly\n",
    "    'roster_file': '20240708',\n",
    "    'IBSC_ptype_file' : 'IBSC Primary Payer Type_2024Q1'\n",
    "}"
   ]
  },
  {
   "cell_type": "code",
   "execution_count": 3,
   "id": "ee15e839-f8fd-4125-b565-365c184e7076",
   "metadata": {
    "execution": {
     "iopub.execute_input": "2024-09-05T09:20:10.930027Z",
     "iopub.status.busy": "2024-09-05T09:20:10.929381Z",
     "iopub.status.idle": "2024-09-05T09:20:10.933782Z",
     "shell.execute_reply": "2024-09-05T09:20:10.933025Z"
    },
    "jupyter": {
     "source_hidden": true
    }
   },
   "outputs": [],
   "source": [
    "json_str = json.dumps(variables)\n",
    "with open('vars_wk.json', 'w') as json_file:\n",
    "    json_file.write(json_str)"
   ]
  },
  {
   "cell_type": "code",
   "execution_count": 4,
   "id": "c0c75085-aaa9-4f0c-8f6b-7473fc6bff87",
   "metadata": {
    "execution": {
     "iopub.execute_input": "2024-09-05T09:20:10.937042Z",
     "iopub.status.busy": "2024-09-05T09:20:10.936561Z",
     "iopub.status.idle": "2024-09-05T09:20:10.940107Z",
     "shell.execute_reply": "2024-09-05T09:20:10.939486Z"
    }
   },
   "outputs": [],
   "source": [
    "# DONE!"
   ]
  }
 ],
 "metadata": {
  "kernelspec": {
   "display_name": "Python 3 (ipykernel)",
   "language": "python",
   "name": "python3"
  },
  "language_info": {
   "codemirror_mode": {
    "name": "ipython",
    "version": 3
   },
   "file_extension": ".py",
   "mimetype": "text/x-python",
   "name": "python",
   "nbconvert_exporter": "python",
   "pygments_lexer": "ipython3",
   "version": "3.10.14"
  }
 },
 "nbformat": 4,
 "nbformat_minor": 5
}
