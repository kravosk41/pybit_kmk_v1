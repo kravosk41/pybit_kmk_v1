{
 "cells": [
  {
   "cell_type": "markdown",
   "metadata": {},
   "source": [
    "### Doc 360 Call Activity"
   ]
  },
  {
   "cell_type": "code",
   "execution_count": 1,
   "metadata": {
    "execution": {
     "iopub.execute_input": "2024-06-25T12:00:39.547872Z",
     "iopub.status.busy": "2024-06-25T12:00:39.547085Z",
     "iopub.status.idle": "2024-06-25T12:00:40.056029Z",
     "shell.execute_reply": "2024-06-25T12:00:40.055102Z"
    },
    "jupyter": {
     "source_hidden": true
    }
   },
   "outputs": [],
   "source": [
    "import polars as pl\n",
    "import gc\n",
    "import pandas as pd\n",
    "import json"
   ]
  },
  {
   "cell_type": "code",
   "execution_count": 2,
   "metadata": {
    "execution": {
     "iopub.execute_input": "2024-06-25T12:00:40.059879Z",
     "iopub.status.busy": "2024-06-25T12:00:40.059320Z",
     "iopub.status.idle": "2024-06-25T12:00:40.065432Z",
     "shell.execute_reply": "2024-06-25T12:00:40.064546Z"
    },
    "jupyter": {
     "source_hidden": true
    }
   },
   "outputs": [],
   "source": [
    "# load variables from JSON\n",
    "with open('vars_wk.json', 'r') as json_file:\n",
    "    js = json.load(json_file)\n",
    "roster_file = js['roster_file']\n",
    "num_weeks_calls = js['num_weeks_calls']\n",
    "bucket = js['bucket']\n",
    "\n",
    "dflib = f's3://{bucket}/BIT/dataframes/'\n",
    "rst = f's3://{bucket}/BIT/roster/'"
   ]
  },
  {
   "cell_type": "code",
   "execution_count": 3,
   "metadata": {
    "execution": {
     "iopub.execute_input": "2024-06-25T12:00:40.068329Z",
     "iopub.status.busy": "2024-06-25T12:00:40.068056Z",
     "iopub.status.idle": "2024-06-25T12:00:40.072585Z",
     "shell.execute_reply": "2024-06-25T12:00:40.071673Z"
    },
    "jupyter": {
     "source_hidden": true
    }
   },
   "outputs": [],
   "source": [
    "# Utility Functions -\n",
    "def load(df, lib=dflib):\n",
    "    globals()[df] = pl.read_parquet(f'{lib}{df}.parquet')"
   ]
  },
  {
   "cell_type": "code",
   "execution_count": 4,
   "metadata": {
    "execution": {
     "iopub.execute_input": "2024-06-25T12:00:40.075957Z",
     "iopub.status.busy": "2024-06-25T12:00:40.075524Z",
     "iopub.status.idle": "2024-06-25T12:00:40.646660Z",
     "shell.execute_reply": "2024-06-25T12:00:40.645691Z"
    },
    "jupyter": {
     "source_hidden": true
    }
   },
   "outputs": [],
   "source": [
    "# Importing Dependencies\n",
    "load('temp_calls')\n",
    "load('temp_abbv')\n",
    "roster = (\n",
    "    pl.read_parquet(f'{rst}MasterRoster_{roster_file}.parquet')\n",
    "    .with_columns(\n",
    "        pl.col('SalesRepIID').cast(pl.Int64),\n",
    "        Rep = pl.col('EmpFName')+' '+pl.col('EmpLName')\n",
    "    ).select(['SalesRepIID','Rep'])\n",
    ")\n",
    "\n",
    "#fixes for vortex import -> Probably caused by Polars Upgrades\n",
    "temp_calls = temp_calls.with_columns(pl.col('SalesRepIID').cast(pl.Int64))\n",
    "temp_abbv = temp_abbv.with_columns(pl.col('SalesRepIID').cast(pl.Int64))\n"
   ]
  },
  {
   "cell_type": "code",
   "execution_count": 5,
   "metadata": {
    "execution": {
     "iopub.execute_input": "2024-06-25T12:00:40.651270Z",
     "iopub.status.busy": "2024-06-25T12:00:40.650631Z",
     "iopub.status.idle": "2024-06-25T12:00:40.695517Z",
     "shell.execute_reply": "2024-06-25T12:00:40.694520Z"
    },
    "jupyter": {
     "source_hidden": true
    }
   },
   "outputs": [],
   "source": [
    "# Processing - \n",
    "calls = (\n",
    "    temp_calls.vstack(temp_abbv)\n",
    "    .with_columns(\n",
    "        pl.when(pl.col('source').is_in(['FRX','AEM'])).then(pl.lit(5)).otherwise(pl.lit(1)).alias('Salesforce_id')\n",
    "    )\n",
    ")\n",
    "\n",
    "temp1 = (\n",
    "    calls\n",
    "    .filter(pl.col('call_week')<=num_weeks_calls)\n",
    "    .select(['CallID','AttendeeIID','CallDate','CallType','SalesRepIID','Salesforce_id'])\n",
    "    .join(roster,on='SalesRepIID',how='left')\n",
    "    .drop('SalesRepIID')\n",
    "    .with_columns(\n",
    "        pl.col('CallID').cast(pl.Int64),\n",
    "        pl.lit('LINZESS').alias('P1'),\n",
    "        pl.lit('\\\\N').alias('P2'),\n",
    "        pl.lit('\\\\N').alias('P3'),\n",
    "        pl.col('CallDate').cast(pl.Date)\n",
    "    )\n",
    "    .select('CallID','AttendeeIID','Salesforce_id','CallDate','CallType','Rep','P1','P2','P3')\n",
    ")\n",
    "temp1.columns = ['CallId','DoctorId','Salesforce_id','Date','CallType','Rep','P1','P2','P3']"
   ]
  },
  {
   "cell_type": "code",
   "execution_count": 6,
   "metadata": {
    "execution": {
     "iopub.execute_input": "2024-06-25T12:00:40.700722Z",
     "iopub.status.busy": "2024-06-25T12:00:40.700092Z",
     "iopub.status.idle": "2024-06-25T12:00:42.403635Z",
     "shell.execute_reply": "2024-06-25T12:00:42.402495Z"
    },
    "jupyter": {
     "source_hidden": true
    }
   },
   "outputs": [
    {
     "name": "stdout",
     "output_type": "stream",
     "text": [
      "Doc360_CallActivity_Feed Exported !\n"
     ]
    }
   ],
   "source": [
    "#Exporting Feeds-\n",
    "OUT = 's3://vortex-staging-a65ced90/BIT/output/Doc360/'\n",
    "temp1.to_pandas().to_csv(f'{OUT}Doc360_CallActivity_Feed.txt', sep='|')\n",
    "print('Doc360_CallActivity_Feed Exported !')"
   ]
  }
 ],
 "metadata": {
  "kernelspec": {
   "display_name": "Python 3 (ipykernel)",
   "language": "python",
   "name": "python3"
  },
  "language_info": {
   "codemirror_mode": {
    "name": "ipython",
    "version": 3
   },
   "file_extension": ".py",
   "mimetype": "text/x-python",
   "name": "python",
   "nbconvert_exporter": "python",
   "pygments_lexer": "ipython3",
   "version": "3.10.14"
  }
 },
 "nbformat": 4,
 "nbformat_minor": 4
}
