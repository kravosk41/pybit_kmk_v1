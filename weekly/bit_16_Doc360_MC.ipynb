{
 "cells": [
  {
   "cell_type": "markdown",
   "id": "cac09fd7-711a-4cf1-8def-6efac51b146f",
   "metadata": {},
   "source": [
    "## Doc 360 Managed Care"
   ]
  },
  {
   "cell_type": "code",
   "execution_count": 1,
   "id": "289d2107-2aac-4fd4-8afc-b90b05626f6f",
   "metadata": {
    "execution": {
     "iopub.execute_input": "2024-09-05T09:32:25.136645Z",
     "iopub.status.busy": "2024-09-05T09:32:25.136044Z",
     "iopub.status.idle": "2024-09-05T09:32:25.802678Z",
     "shell.execute_reply": "2024-09-05T09:32:25.801456Z"
    },
    "jupyter": {
     "source_hidden": true
    }
   },
   "outputs": [],
   "source": [
    "import polars as pl\n",
    "import gc\n",
    "import pandas as pd\n",
    "from datetime import datetime, timedelta,date\n",
    "import json\n",
    "import numpy as np"
   ]
  },
  {
   "cell_type": "code",
   "execution_count": 2,
   "id": "8f79ead1-ed0d-495b-8be7-24e5950b87a1",
   "metadata": {
    "execution": {
     "iopub.execute_input": "2024-09-05T09:32:25.814974Z",
     "iopub.status.busy": "2024-09-05T09:32:25.814329Z",
     "iopub.status.idle": "2024-09-05T09:32:25.821145Z",
     "shell.execute_reply": "2024-09-05T09:32:25.820453Z"
    },
    "jupyter": {
     "source_hidden": true
    }
   },
   "outputs": [],
   "source": [
    "# load variables from JSON\n",
    "with open('vars_wk.json', 'r') as json_file:\n",
    "    js = json.load(json_file)\n",
    "\n",
    "bucket = js['bucket']\n",
    "data_date = js['data_date']\n",
    "monthly_data_date = js['monthly_data_date']\n",
    "\n",
    "dflib = f's3://{bucket}/BIT/dataframes/'\n",
    "pln = f's3://{bucket}/PYADM/weekly/archive/{data_date}/plantrak/' #20240705  {data_date}\n",
    "mpln = f's3://{bucket}/PYADM/monthly/archive/{monthly_data_date}/plantrak/'"
   ]
  },
  {
   "cell_type": "code",
   "execution_count": 3,
   "id": "439b6928-9f7d-40f4-8061-266ae2b330e1",
   "metadata": {
    "execution": {
     "iopub.execute_input": "2024-09-05T09:32:25.826289Z",
     "iopub.status.busy": "2024-09-05T09:32:25.825738Z",
     "iopub.status.idle": "2024-09-05T09:32:25.830281Z",
     "shell.execute_reply": "2024-09-05T09:32:25.829568Z"
    },
    "jupyter": {
     "source_hidden": true
    }
   },
   "outputs": [],
   "source": [
    "# Utility Functions -\n",
    "def load(df, lib=dflib):\n",
    "    globals()[df] = pl.read_parquet(f'{lib}{df}.parquet')"
   ]
  },
  {
   "cell_type": "code",
   "execution_count": 4,
   "id": "cb6523af-2119-4846-9dc1-dca745d8b58c",
   "metadata": {
    "execution": {
     "iopub.execute_input": "2024-09-05T09:32:25.841379Z",
     "iopub.status.busy": "2024-09-05T09:32:25.839466Z",
     "iopub.status.idle": "2024-09-05T09:32:28.240182Z",
     "shell.execute_reply": "2024-09-05T09:32:28.239054Z"
    },
    "jupyter": {
     "source_hidden": true
    }
   },
   "outputs": [],
   "source": [
    "# Imporing Dependencies\n",
    "prod_mapping = pl.read_csv(f's3://{bucket}/BIT/docs/productmapping_pybit.txt',separator='|')\n",
    "geo_code_mapper = pl.from_pandas(pd.read_excel(f's3://{bucket}/BIT/docs/geo_id_full.xlsx'))\n",
    "load('mp_spec_seg_dec')\n",
    "load('MASTER_UNI')\n",
    "fetch_products = ['LI1','LI2','LI3','TRU','AMT','LAC','MOT','LUB','IRL']"
   ]
  },
  {
   "cell_type": "markdown",
   "id": "00df08cd-3de0-4c45-8bfd-66a7d8b86f4f",
   "metadata": {},
   "source": [
    "---"
   ]
  },
  {
   "cell_type": "markdown",
   "id": "d791f722-32a2-435d-9543-91ba00d616da",
   "metadata": {},
   "source": [
    "Formulary -\n",
    "---"
   ]
  },
  {
   "cell_type": "code",
   "execution_count": 5,
   "id": "1f8f6ab6-b898-496d-81a9-d9472d83eeda",
   "metadata": {
    "execution": {
     "iopub.execute_input": "2024-09-05T09:32:28.244789Z",
     "iopub.status.busy": "2024-09-05T09:32:28.243980Z",
     "iopub.status.idle": "2024-09-05T09:32:29.274632Z",
     "shell.execute_reply": "2024-09-05T09:32:29.273754Z"
    },
    "jupyter": {
     "source_hidden": true
    }
   },
   "outputs": [],
   "source": [
    "#FORMULARY\n",
    "group_type_mapping = {\n",
    "    'HIX' : 'Commercial','Com' : 'Commercial','Cash' : 'Cash','Voucher':'Voucher',\n",
    "    'FFS' : 'FFS','Mgd Medicaid' : 'Mgd Medicaid','Part D' : 'Part D','MAC A' : 'Others',\n",
    "}\n",
    "\n",
    "def classify_plan_class(status):\n",
    "    status = status.upper()\n",
    "    if status[:7] == \"COVERED\" or status[:6] == \"ON PDL\":\n",
    "        return \"COVERED\"\n",
    "    elif status[:9] == \"PREFERRED\":\n",
    "        return \"PREFERRED\"\n",
    "    elif status[:13] == \"NON-PREFERRED\":\n",
    "        return \"NON PREFERRED\"\n",
    "    elif status[:7] == \"NON-PDL\" or status[:11] == \"NOT COVERED\":\n",
    "        return \"NOT COVERED\"\n",
    "    else:\n",
    "        return \"N_A\"\n",
    "\n",
    "# Reading \n",
    "fm = pl.read_parquet(pln+'FORMULARY.parquet',columns = ['IMS_PLAN_ID','GROUP_TYPE','FORMULARY_GROUP_STATUS','PFAM_CD','PFAM_NAME','IRWD_FGN_NAME','BRAND'])\n",
    "fm = fm.with_columns(\n",
    "        pl.when(pl.col('BRAND')=='IBR')\n",
    "        .then(pl.lit('IRL'))\n",
    "        .otherwise(pl.col('BRAND'))\n",
    "        .alias('BRAND')\n",
    ")\n",
    "fm = fm.filter((pl.col('PFAM_CD')==(pl.col('BRAND'))) | (pl.col('BRAND')==''))\n",
    "fm = (\n",
    "    fm\n",
    "    .with_columns(\n",
    "        pl.col('GROUP_TYPE').map_elements(lambda x: group_type_mapping.get(x,'Others'), return_dtype=pl.Utf8) #NOTE : IF new plan types flow , they will go to Others by default\n",
    "        .fill_null('Others')\n",
    "        .alias('plan_type'),\n",
    "        pl.col('IMS_PLAN_ID').cast(pl.Int64)\n",
    "    )\n",
    "    .rename({'IMS_PLAN_ID':'PlanID'})\n",
    "    .drop('GROUP_TYPE')\n",
    "    .with_columns(pl.col('FORMULARY_GROUP_STATUS').fill_null(pl.lit('N_A')))\n",
    "    .with_columns(pl.col('FORMULARY_GROUP_STATUS').map_elements(classify_plan_class,return_dtype=pl.String).alias('plan_class'))\n",
    "    .drop('FORMULARY_GROUP_STATUS')\n",
    "    .unique()\n",
    ")\n",
    "\n",
    "###############\n",
    "# HARD CODED - \n",
    "fm = fm.with_columns(pl.when(pl.col(\"PlanID\") == 13670614).then(pl.lit('Others')).otherwise(pl.col(\"plan_type\")).alias(\"plan_type\"))\n",
    "###############\n",
    "\n",
    "# fm1 = fm.select(['PlanID','IRWD_FGN_NAME','plan_type']).unique(subset='PlanID')\n",
    "fm2 = (\n",
    "    fm\n",
    "    .select('PFAM_CD','IRWD_FGN_NAME','plan_class').unique()\n",
    "    .group_by(['IRWD_FGN_NAME','PFAM_CD'])\n",
    "    .agg(\n",
    "        pl.col('plan_class').unique().str.concat(' / ').alias('plan_class')\n",
    "    )\n",
    "    .with_columns(pl.col('plan_class').str.to_titlecase())\n",
    ")"
   ]
  },
  {
   "cell_type": "markdown",
   "id": "719cec0e-c228-492d-a793-bd6cf9f269d6",
   "metadata": {},
   "source": [
    "Plantrak -\n",
    "---"
   ]
  },
  {
   "cell_type": "code",
   "execution_count": 6,
   "id": "1ac104d4-9893-4998-a822-c92f807161bc",
   "metadata": {
    "execution": {
     "iopub.execute_input": "2024-09-05T09:32:29.279293Z",
     "iopub.status.busy": "2024-09-05T09:32:29.278989Z",
     "iopub.status.idle": "2024-09-05T09:32:41.936628Z",
     "shell.execute_reply": "2024-09-05T09:32:41.934797Z"
    },
    "jupyter": {
     "source_hidden": true
    }
   },
   "outputs": [],
   "source": [
    "# Output -> ln1\n",
    "#TUF at PROD , IID , PLAN LEVEL ->\n",
    "ln = (\n",
    "    pl.read_parquet(mpln+'LAX_N.parquet',columns=['IID','MonthKey','PFAM_CD','PROD_CD','PlanID','TUF']) #read req cols only\n",
    "    .rename({'MonthKey':'PeriodKey'})\n",
    "    .filter(pl.col('PROD_CD').is_in(fetch_products)) #only keep data for BIT products\n",
    "    .with_columns(pl.col('PeriodKey').cast(pl.Utf8).str.to_date(\"%Y%m%d\")) #Convert Categorical column Back to date\n",
    ")\n",
    "\n",
    "# Any PlanIds startign with -0000002 should be excluded\n",
    "ln = (\n",
    "    ln\n",
    "    .with_columns(pl.col('PlanID').cast(pl.Utf8).str.zfill(10).alias('planid_chr'))\n",
    "    .filter(~pl.col('planid_chr').str.starts_with('000002'))\n",
    "    .drop('planid_chr')\n",
    ")\n",
    "\n",
    "# Adding Payer from formulary -\n",
    "ln = (\n",
    "    ln\n",
    "    .join(fm.select(['PlanID','IRWD_FGN_NAME']).unique(),on='PlanID',how='left')\n",
    "    #.rename({'IRWD_FGN_NAME':'PAYER'})\n",
    ")\n",
    "# NOTE : THIS WILL HAVE NULLS IN PAYER (NAME)\n",
    "\n",
    "date_list = ln['PeriodKey'].unique().sort(descending=True)\n",
    "\n",
    "#current 6 months -\n",
    "\n",
    "ln_c = (\n",
    "    ln\n",
    "    .filter(pl.col('PeriodKey') >= date_list[5])\n",
    "    .group_by(['IID','IRWD_FGN_NAME','PFAM_CD','PROD_CD']).agg(TUF_c = pl.col('TUF').sum())\n",
    ")\n",
    "\n",
    "# prior 6 months -\n",
    "ln_p = (\n",
    "    ln\n",
    "    .filter(\n",
    "        (pl.col('PeriodKey') <= date_list[6]) &(pl.col('PeriodKey') >= date_list[11])\n",
    "    )\n",
    "    .group_by(['IID','IRWD_FGN_NAME','PFAM_CD','PROD_CD']).agg(TUF_p = pl.col('TUF').sum())\n",
    ")\n",
    "\n",
    "# prior prior 6 months - (need this for vol_change_ind)\n",
    "ln_p2 = (\n",
    "    ln\n",
    "    .filter(\n",
    "        (pl.col('PeriodKey') <= date_list[12]) &(pl.col('PeriodKey') >= date_list[17])\n",
    "    )\n",
    "    .group_by(['IID','IRWD_FGN_NAME','PFAM_CD','PROD_CD']).agg(TUF_p2 = pl.col('TUF').sum())\n",
    ")\n",
    "\n",
    "# combining to get master dataset -\n",
    "# contains current 6m and prior 6m volume at IID - PAYER - PROD level\n",
    "ln1 = (\n",
    "    ln_c\n",
    "    .join(ln_p, on =['IID','IRWD_FGN_NAME','PFAM_CD','PROD_CD'], how = 'outer_coalesce')\n",
    "    .join(ln_p2, on =['IID','IRWD_FGN_NAME','PFAM_CD','PROD_CD'], how = 'outer_coalesce')\n",
    ")"
   ]
  },
  {
   "cell_type": "code",
   "execution_count": 7,
   "id": "0ab8fd8a-644c-4b4e-952a-d79644b07df6",
   "metadata": {
    "execution": {
     "iopub.execute_input": "2024-09-05T09:32:41.945898Z",
     "iopub.status.busy": "2024-09-05T09:32:41.941352Z",
     "iopub.status.idle": "2024-09-05T09:32:42.553641Z",
     "shell.execute_reply": "2024-09-05T09:32:42.552801Z"
    },
    "jupyter": {
     "source_hidden": true
    }
   },
   "outputs": [],
   "source": [
    "# Output -> ln2\n",
    "# Pulling in Plan Type -\n",
    "ln2 = (\n",
    "    ln1\n",
    "    .join(\n",
    "        fm.select(['IRWD_FGN_NAME','PFAM_CD','plan_type']).unique(),\n",
    "        on = ['IRWD_FGN_NAME', 'PFAM_CD'], how = 'left'\n",
    "    )\n",
    "    .with_columns(\n",
    "        pl.col('plan_type').fill_null(pl.lit('Others')),\n",
    "    )\n",
    ") # NOBS increased !!!\n",
    "\n",
    "# Pulling in Plan Class\n",
    "ln2 = (\n",
    "    ln2.join(fm2, on=['IRWD_FGN_NAME', 'PFAM_CD'], how='left')\n",
    "    .with_columns(\n",
    "        pl.col('plan_class').fill_null(pl.lit('N_a'))\n",
    "    )\n",
    ")\n",
    "\n",
    "# Dropping Records with Voucher , FFS , Medicaid\n",
    "ln2 = ln2.filter(\n",
    "    ~(pl.col('plan_type').is_in(['Voucher','Mgd Medicaid','FFS']))\n",
    ")"
   ]
  },
  {
   "cell_type": "code",
   "execution_count": 8,
   "id": "46a7a66b-5f1c-4b01-a654-390fedf1b477",
   "metadata": {
    "execution": {
     "iopub.execute_input": "2024-09-05T09:32:42.558631Z",
     "iopub.status.busy": "2024-09-05T09:32:42.558033Z",
     "iopub.status.idle": "2024-09-05T09:32:43.680304Z",
     "shell.execute_reply": "2024-09-05T09:32:43.677838Z"
    },
    "jupyter": {
     "source_hidden": true
    }
   },
   "outputs": [],
   "source": [
    "# Output -> ln3\n",
    "# Product Mapping and Parent Product Rows -\n",
    "\n",
    "ln3 = (\n",
    "    ln2\n",
    "    .join(\n",
    "        prod_mapping.select(['code','product_id','parent_product_id']),\n",
    "        left_on = 'PROD_CD', right_on='code', how = 'left'\n",
    "    )\n",
    "    .select(['IID','IRWD_FGN_NAME','product_id','parent_product_id','TUF_c','TUF_p','TUF_p2','plan_type','plan_class'])\n",
    ")\n",
    "\n",
    "#lin and amt-\n",
    "\n",
    "ln3_235 = (\n",
    "    ln3\n",
    "    .filter(pl.col('parent_product_id').is_in([2,35]))\n",
    "    .group_by(['IID','IRWD_FGN_NAME','parent_product_id'])\n",
    "    .agg(\n",
    "        pl.col('TUF_c').sum().alias('TUF_c'),\n",
    "        pl.col('TUF_p').sum().alias('TUF_p'),\n",
    "        pl.col('TUF_p2').sum().alias('TUF_p2'),\n",
    "        pl.col('plan_type').first().alias('plan_type'),\n",
    "        pl.col('plan_class').first().alias('plan_class')\n",
    "    )\n",
    "    .rename({'parent_product_id':'product_id'})\n",
    ")\n",
    "\n",
    "#lax mkt-\n",
    "\n",
    "ln3_1 = (\n",
    "    ln3\n",
    "    .group_by(['IID','IRWD_FGN_NAME'])\n",
    "    .agg(\n",
    "        pl.col('TUF_c').sum().alias('TUF_c'),\n",
    "        pl.col('TUF_p').sum().alias('TUF_p'),\n",
    "        pl.col('TUF_p2').sum().alias('TUF_p2'),\n",
    "        pl.col('plan_type').first().alias('plan_type'),\n",
    "    )\n",
    "    .with_columns(pl.lit(1).alias('product_id').cast(pl.Int64),pl.lit('N_a').alias('plan_class'))\n",
    "    .select(ln3_235.columns)\n",
    ")\n",
    "\n",
    "ln3 = (\n",
    "    ln3.drop('parent_product_id')\n",
    "    .vstack(ln3_235)\n",
    "    .vstack(ln3_1)\n",
    ")"
   ]
  },
  {
   "cell_type": "code",
   "execution_count": 9,
   "id": "c57fa163-3b12-43e3-95b3-6d963dbbe4b7",
   "metadata": {
    "execution": {
     "iopub.execute_input": "2024-09-05T09:32:43.686732Z",
     "iopub.status.busy": "2024-09-05T09:32:43.685150Z",
     "iopub.status.idle": "2024-09-05T09:32:48.960158Z",
     "shell.execute_reply": "2024-09-05T09:32:48.959283Z"
    },
    "jupyter": {
     "source_hidden": true
    }
   },
   "outputs": [],
   "source": [
    "# Output -> ln4\n",
    "# Ranking - \n",
    "\n",
    "ibsc_ranking = (\n",
    "    ln3_1 # picking dataset with lax mkt rollups- \n",
    "    .with_columns(pl.col(\"TUF_c\").rank(\"ordinal\",descending=True).over([\"IID\"]).alias(\"rank\"))\n",
    "    .filter(pl.col('rank') <= 5)\n",
    "    .sort(['IID','rank'],maintain_order=True)\n",
    "    .select(['IID','IRWD_FGN_NAME','plan_type']) # Not Keeping Plan Class here as it differs by product\n",
    "    .with_columns(fl = 1)\n",
    "    .join(prod_mapping.select('product_id').with_columns(fl = 1),on = 'fl',how = 'left')\n",
    "    .drop('fl')\n",
    ")\n",
    "\n",
    "ln4 = (\n",
    "    ibsc_ranking\n",
    "    .join(\n",
    "        ln3.select(['IID','IRWD_FGN_NAME','product_id','TUF_c','TUF_p','TUF_p2']),\n",
    "        on = ['IID','IRWD_FGN_NAME','product_id'], how = 'left'\n",
    "    )\n",
    "    .join(\n",
    "        ln3.select(['IRWD_FGN_NAME','product_id','plan_class']).unique(),\n",
    "        on = ['IRWD_FGN_NAME','product_id'], how = 'left'\n",
    "    )\n",
    "    .with_columns(pl.col('TUF_c').fill_null(pl.lit(0)),pl.col('TUF_p').fill_null(pl.lit(0)),pl.col('TUF_p2').fill_null(pl.lit(0)))\n",
    "    .filter(pl.col('IRWD_FGN_NAME').is_not_null())\n",
    ")"
   ]
  },
  {
   "cell_type": "markdown",
   "id": "5971f6f3-58f9-4376-b95e-b5711928d550",
   "metadata": {},
   "source": [
    "Formula Based Columns -\n",
    "---"
   ]
  },
  {
   "cell_type": "code",
   "execution_count": 10,
   "id": "908bdc20-516e-429b-b16a-6ca2fd41d676",
   "metadata": {
    "execution": {
     "iopub.execute_input": "2024-09-05T09:32:48.969783Z",
     "iopub.status.busy": "2024-09-05T09:32:48.969233Z",
     "iopub.status.idle": "2024-09-05T09:32:48.978673Z",
     "shell.execute_reply": "2024-09-05T09:32:48.973488Z"
    },
    "jupyter": {
     "source_hidden": true
    }
   },
   "outputs": [],
   "source": [
    "#Output -> ln5"
   ]
  },
  {
   "cell_type": "code",
   "execution_count": 11,
   "id": "aec5c060-fa86-4e02-b6f2-5c83a4e409b0",
   "metadata": {
    "execution": {
     "iopub.execute_input": "2024-09-05T09:32:48.982893Z",
     "iopub.status.busy": "2024-09-05T09:32:48.982172Z",
     "iopub.status.idle": "2024-09-05T09:32:49.221787Z",
     "shell.execute_reply": "2024-09-05T09:32:49.220689Z"
    },
    "jupyter": {
     "source_hidden": true
    }
   },
   "outputs": [],
   "source": [
    "# volume growth percentage - \n",
    "ln5 = (\n",
    "    ln4\n",
    "    .with_columns(\n",
    "        ((pl.col('TUF_c') / pl.col('TUF_p')) - 1).alias('vol_growth_prc').round(10)\n",
    "    )\n",
    "    .with_columns(\n",
    "        ((pl.col('TUF_p') / pl.col('TUF_p2')) - 1).alias('pri_vol_growth_prc').round(10)\n",
    "    )\n",
    "    .with_columns(\n",
    "        pl.col('vol_growth_prc').replace([np.inf,np.nan,-1.0],None),pl.col('pri_vol_growth_prc').replace([np.inf,np.nan],None)\n",
    "    )\n",
    "    .with_columns(\n",
    "        (pl.col('vol_growth_prc')-pl.col('pri_vol_growth_prc')).alias('prc_change')\n",
    "    )\n",
    ")"
   ]
  },
  {
   "cell_type": "code",
   "execution_count": 12,
   "id": "533bcdca-cc31-41b4-8272-28201a134d95",
   "metadata": {
    "execution": {
     "iopub.execute_input": "2024-09-05T09:32:49.225665Z",
     "iopub.status.busy": "2024-09-05T09:32:49.225383Z",
     "iopub.status.idle": "2024-09-05T09:32:50.722224Z",
     "shell.execute_reply": "2024-09-05T09:32:50.721471Z"
    },
    "jupyter": {
     "source_hidden": true
    }
   },
   "outputs": [],
   "source": [
    "# shr-\n",
    "def get_shr(df):\n",
    "    # Isolate Row with Product = 1\n",
    "\n",
    "    df_1 = (\n",
    "        df\n",
    "        .filter(pl.col('product_id')==1)\n",
    "        .select(['IID','IRWD_FGN_NAME','TUF_c'])\n",
    "        .rename({'TUF_c':'lax_TUF_c'})\n",
    "    )\n",
    "\n",
    "    df = (\n",
    "        df\n",
    "        .join(df_1, on =['IID','IRWD_FGN_NAME'],how = 'left')\n",
    "        .with_columns(\n",
    "            (pl.col('TUF_c')/pl.col('lax_TUF_c')).round(10).alias('shr')\n",
    "        )\n",
    "        .drop('lax_TUF_c')\n",
    "        .with_columns(\n",
    "            pl.col('shr').replace([np.inf,np.nan],None)\n",
    "        )\n",
    "    )\n",
    "    return (df)\n",
    "    \n",
    "ln5 = get_shr(ln5)"
   ]
  },
  {
   "cell_type": "code",
   "execution_count": 13,
   "id": "b9c821d8-d837-461a-a12e-292ffe66930c",
   "metadata": {
    "execution": {
     "iopub.execute_input": "2024-09-05T09:32:50.725842Z",
     "iopub.status.busy": "2024-09-05T09:32:50.725304Z",
     "iopub.status.idle": "2024-09-05T09:32:51.134323Z",
     "shell.execute_reply": "2024-09-05T09:32:51.133421Z"
    },
    "jupyter": {
     "source_hidden": true
    }
   },
   "outputs": [],
   "source": [
    "# vol growth ind - \n",
    "ln5 = (\n",
    "    ln5\n",
    "    .with_columns(\n",
    "        pl.when(pl.col('prc_change') > 0.02).then(pl.lit('P'))\n",
    "        .when(pl.col('prc_change') < -0.02).then(pl.lit('Q'))\n",
    "        .otherwise(None).alias('vol_growth_ind')\n",
    "    )\n",
    "    .drop()\n",
    ")"
   ]
  },
  {
   "cell_type": "code",
   "execution_count": 14,
   "id": "1aa4f583-ea73-4d92-9a6b-9d0c4017334e",
   "metadata": {
    "execution": {
     "iopub.execute_input": "2024-09-05T09:32:51.144061Z",
     "iopub.status.busy": "2024-09-05T09:32:51.139771Z",
     "iopub.status.idle": "2024-09-05T09:32:52.248346Z",
     "shell.execute_reply": "2024-09-05T09:32:52.247613Z"
    },
    "jupyter": {
     "source_hidden": true
    }
   },
   "outputs": [],
   "source": [
    "# FILTER STEP - \n",
    "keep_flag_dataset = (\n",
    "    ln5\n",
    "    .filter(pl.col('product_id')==1)\n",
    "    .with_columns(\n",
    "        pl.when(\n",
    "            (\n",
    "                (pl.col('TUF_c')!=0)\n",
    "                |(pl.col('vol_growth_prc').is_not_null())\n",
    "                |(pl.col('shr').is_not_null())\n",
    "            )\n",
    "        ).then(1).otherwise(0).alias('keep_flag')\n",
    "    )\n",
    "    .select(['IID','IRWD_FGN_NAME','keep_flag'])\n",
    ")\n",
    "\n",
    "ln5_f = ln5.join(keep_flag_dataset,on=['IID','IRWD_FGN_NAME'],how='left').filter(keep_flag = 1).drop('keep_flag')"
   ]
  },
  {
   "cell_type": "markdown",
   "id": "b7292f01-23af-40b3-8e1e-10c7a4f4d9d4",
   "metadata": {},
   "source": [
    "Format and Table Fixes -\n",
    "---"
   ]
  },
  {
   "cell_type": "code",
   "execution_count": 15,
   "id": "62e14650-5f6a-4255-89d2-dae6631a8a85",
   "metadata": {
    "execution": {
     "iopub.execute_input": "2024-09-05T09:32:52.252298Z",
     "iopub.status.busy": "2024-09-05T09:32:52.251498Z",
     "iopub.status.idle": "2024-09-05T09:32:53.830534Z",
     "shell.execute_reply": "2024-09-05T09:32:53.829571Z"
    },
    "jupyter": {
     "source_hidden": true
    }
   },
   "outputs": [],
   "source": [
    "# Output -> ln6\n",
    "# Feed Creation -\n",
    "ln6 = (\n",
    "    ln5_f\n",
    "    .drop(['TUF_p'])\n",
    "    .with_columns(\n",
    "        pl.col('vol_growth_prc').replace([np.nan, np.inf, -np.inf,None], '\\\\N'),\n",
    "        pl.when(pl.col('vol_growth_prc').is_in([np.nan, np.inf, -np.inf,None])).then(pl.lit('\\\\N')).otherwise(pl.col('vol_growth_ind')).alias('vol_growth_ind'),\n",
    "        pl.col('shr').replace([np.nan, np.inf, -np.inf,None,0], '\\\\N'),\n",
    "        pl.col('TUF_c').round(3).replace(0.0,'\\\\N'),\n",
    "        pl.col('plan_type').str.to_uppercase()\n",
    "    )\n",
    "    .rename(\n",
    "        {\n",
    "            'IID' : 'DOCTORID',\n",
    "            'IRWD_FGN_NAME' : 'PAYER',\n",
    "            'plan_type' : 'PAYERTYPE',\n",
    "            'plan_class' : 'COVERAGESTATUS',\n",
    "            'TUF_c' : 'VOL',\n",
    "            'product_id' : 'PRODUCT_ID',\n",
    "            'vol_growth_prc' : 'VOL_GROWTH_PRC',\n",
    "            'shr' : 'SHR',\n",
    "            'vol_growth_ind' : 'VOL_GROWTH_IND'\n",
    "        }\n",
    "    )\n",
    "    .select(['DOCTORID','PRODUCT_ID','PAYER','PAYERTYPE','COVERAGESTATUS','VOL','VOL_GROWTH_PRC','SHR','VOL_GROWTH_IND'])\n",
    ")\n",
    "\n",
    "#PDRP override - \n",
    "pdrp = MASTER_UNI.select(['IID','PDRPOptOutFlag'])\n",
    "override_columns = ['VOL','VOL_GROWTH_PRC','SHR','VOL_GROWTH_IND']\n",
    "expression_list = [\n",
    "    pl.when(pl.col('PDRPOptOutFlag')=='Y').then(pl.lit('\\\\N')).otherwise(pl.col(c)).alias(c)\n",
    "    for c in override_columns\n",
    "]\n",
    "ln6 = (\n",
    "    ln6\n",
    "    .join(pdrp, left_on = 'DOCTORID',right_on='IID',how='left')\n",
    "    .with_columns(expression_list)\n",
    "    .drop('PDRPOptOutFlag')\n",
    ")"
   ]
  },
  {
   "cell_type": "code",
   "execution_count": 16,
   "id": "2889e1f7-15dd-4f8f-acfa-a479d51b268a",
   "metadata": {
    "execution": {
     "iopub.execute_input": "2024-09-05T09:32:53.835454Z",
     "iopub.status.busy": "2024-09-05T09:32:53.835157Z",
     "iopub.status.idle": "2024-09-05T09:33:52.414424Z",
     "shell.execute_reply": "2024-09-05T09:33:52.411968Z"
    },
    "jupyter": {
     "source_hidden": true
    }
   },
   "outputs": [
    {
     "name": "stdout",
     "output_type": "stream",
     "text": [
      "Doc360_ManagedCare_Feed.txt Exported !\n"
     ]
    }
   ],
   "source": [
    "#Exporting Feeds-\n",
    "OUT = 's3://vortex-staging-a65ced90/BIT/output/Doc360/'\n",
    "ln6.to_pandas().to_csv(f'{OUT}Doc360_ManagedCare_Feed.txt', sep='|',lineterminator='\\r\\n',index=False)\n",
    "print('Doc360_ManagedCare_Feed.txt Exported !')"
   ]
  },
  {
   "cell_type": "markdown",
   "id": "6ef1a6e7-4553-481c-84a7-83b8ec15d87f",
   "metadata": {},
   "source": [
    "---"
   ]
  }
 ],
 "metadata": {
  "kernelspec": {
   "display_name": "Python 3 (ipykernel)",
   "language": "python",
   "name": "python3"
  },
  "language_info": {
   "codemirror_mode": {
    "name": "ipython",
    "version": 3
   },
   "file_extension": ".py",
   "mimetype": "text/x-python",
   "name": "python",
   "nbconvert_exporter": "python",
   "pygments_lexer": "ipython3",
   "version": "3.10.14"
  }
 },
 "nbformat": 4,
 "nbformat_minor": 5
}
