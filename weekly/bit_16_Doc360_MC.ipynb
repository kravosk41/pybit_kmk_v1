{
 "cells": [
  {
   "cell_type": "markdown",
   "id": "cac09fd7-711a-4cf1-8def-6efac51b146f",
   "metadata": {},
   "source": [
    "## Doc 360 Managed Care"
   ]
  },
  {
   "cell_type": "code",
   "execution_count": 1,
   "id": "289d2107-2aac-4fd4-8afc-b90b05626f6f",
   "metadata": {
    "jupyter": {
     "source_hidden": true
    }
   },
   "outputs": [],
   "source": [
    "import polars as pl\n",
    "import gc\n",
    "import pandas as pd\n",
    "from datetime import datetime, timedelta,date\n",
    "import json\n",
    "import numpy as np"
   ]
  },
  {
   "cell_type": "code",
   "execution_count": 2,
   "id": "8f79ead1-ed0d-495b-8be7-24e5950b87a1",
   "metadata": {
    "jupyter": {
     "source_hidden": true
    }
   },
   "outputs": [],
   "source": [
    "# load variables from JSON\n",
    "with open('vars_wk.json', 'r') as json_file:\n",
    "    js = json.load(json_file)\n",
    "\n",
    "bucket = js['bucket']\n",
    "data_date = js['data_date']\n",
    "monthly_data_date = js['monthly_data_date']\n",
    "\n",
    "dflib = f's3://{bucket}/BIT/dataframes/'\n",
    "pln = f's3://{bucket}/PYADM/weekly/archive/{data_date}/plantrak/' #20240705  {data_date}\n",
    "mpln = f's3://{bucket}/PYADM/monthly/archive/{monthly_data_date}/plantrak/'"
   ]
  },
  {
   "cell_type": "code",
   "execution_count": 3,
   "id": "439b6928-9f7d-40f4-8061-266ae2b330e1",
   "metadata": {
    "jupyter": {
     "source_hidden": true
    }
   },
   "outputs": [],
   "source": [
    "# Utility Functions -\n",
    "def load(df, lib=dflib):\n",
    "    globals()[df] = pl.read_parquet(f'{lib}{df}.parquet')"
   ]
  },
  {
   "cell_type": "code",
   "execution_count": 4,
   "id": "cb6523af-2119-4846-9dc1-dca745d8b58c",
   "metadata": {
    "jupyter": {
     "source_hidden": true
    }
   },
   "outputs": [],
   "source": [
    "# Imporing Dependencies\n",
    "prod_mapping = pl.read_csv(f's3://{bucket}/BIT/docs/productmapping_pybit.txt',separator='|')\n",
    "geo_code_mapper = pl.from_pandas(pd.read_excel(f's3://{bucket}/BIT/docs/geo_id_full.xlsx'))\n",
    "load('mp_spec_seg_dec')\n",
    "load('MASTER_UNI')\n",
    "fetch_products = ['LI1','LI2','LI3','TRU','AMT','LAC','MOT','LUB','IRL']"
   ]
  },
  {
   "cell_type": "markdown",
   "id": "00df08cd-3de0-4c45-8bfd-66a7d8b86f4f",
   "metadata": {},
   "source": [
    "---"
   ]
  },
  {
   "cell_type": "markdown",
   "id": "7aefced5-41c6-4950-8c2e-2b74ce1f8ab7",
   "metadata": {},
   "source": [
    "#### Importing Plantrak - Getting 6 Month Volume | Current and Prior"
   ]
  },
  {
   "cell_type": "code",
   "execution_count": 5,
   "id": "f1b6d3dc-e3dc-49fc-ac65-fdb49f759d0e",
   "metadata": {
    "jupyter": {
     "source_hidden": true
    }
   },
   "outputs": [],
   "source": [
    "#PLANTRAK - 6 MONTH TUF at PROD , IID , PLAN LEVEL\n",
    "ln = (\n",
    "    pl.read_parquet(mpln+'LAX_N.parquet',columns=['IID','MonthKey','PFAM_CD','PROD_CD','PlanID','TUF']) #read req cols only\n",
    "    .rename({'MonthKey':'PeriodKey'})\n",
    "    .filter(pl.col('PROD_CD').is_in(fetch_products)) #only keep data for BIT products\n",
    "    .with_columns(pl.col('PeriodKey').cast(pl.Utf8).str.to_date(\"%Y%m%d\")) #Convert Categorical column Back to date\n",
    ")\n",
    "\n",
    "cut_off_date = ln['PeriodKey'].unique().sort(descending=True)[5] #filter date to only keep 6 months of data\n",
    "\n",
    "ln_cur6m = (\n",
    "    ln\n",
    "    .filter(pl.col('PeriodKey')>= cut_off_date)\n",
    "    .group_by(['IID','PlanID','PFAM_CD','PROD_CD']).agg(TUF_c = pl.col('TUF').sum()).unique()\n",
    ")\n",
    "\n",
    "ln_pre6m = (\n",
    "    ln\n",
    "    .filter(\n",
    "        (pl.col('PeriodKey') <= (ln['PeriodKey'].unique().sort(descending=True)[6])) &(pl.col('PeriodKey') >= (ln['PeriodKey'].unique().sort(descending=True)[11]))\n",
    "    )\n",
    "    .group_by(['IID','PlanID','PFAM_CD','PROD_CD']).agg(TUF_p = pl.col('TUF').sum()).unique()\n",
    ")\n",
    "\n",
    "ln = ln_cur6m.join(\n",
    "    ln_pre6m,\n",
    "    on = ['IID','PlanID','PFAM_CD','PROD_CD'],how = 'left'\n",
    ")"
   ]
  },
  {
   "cell_type": "markdown",
   "id": "686c8ae6-f005-45b2-9df0-0a8f4f2a07b9",
   "metadata": {},
   "source": [
    "#### Importing Formulary -\n",
    "- also splitting formuary into 2 sub datasets -\n",
    "- fm_3 : unique on IWRD_FGN_NAME , PFAM_CD\n",
    "- fm_1 : Unique on PlanID"
   ]
  },
  {
   "cell_type": "code",
   "execution_count": 6,
   "id": "d586aa3f-d30e-4412-9a27-100cc8ddab36",
   "metadata": {
    "jupyter": {
     "source_hidden": true
    }
   },
   "outputs": [],
   "source": [
    "#FORMULARY\n",
    "group_type_mapping = {\n",
    "    'HIX' : 'Commerical','Com' : 'Commerical','Cash' : 'Cash','Voucher':'Voucher',\n",
    "    'FFS' : 'FFS','Mgd Medicaid' : 'Mgd Medicaid','Part D' : 'Part D','MAC A' : 'Others',\n",
    "}\n",
    "\n",
    "def classify_plan_class(status):\n",
    "    status = status.upper()\n",
    "    if status[:7] == \"COVERED\" or status[:6] == \"ON PDL\":\n",
    "        return \"COVERED\"\n",
    "    elif status[:9] == \"PREFERRED\":\n",
    "        return \"PREFERRED\"\n",
    "    elif status[:13] == \"NON-PREFERRED\":\n",
    "        return \"NON PREFERRED\"\n",
    "    elif status[:7] == \"NON-PDL\" or status[:11] == \"NOT COVERED\":\n",
    "        return \"NOT COVERED\"\n",
    "    else:\n",
    "        return \"N_A\"\n",
    "\n",
    "fm = pl.read_parquet(pln+'FORMULARY.parquet',columns = ['IMS_PLAN_ID','GROUP_TYPE','FORMULARY_GROUP_STATUS','PFAM_CD','PFAM_NAME','IRWD_FGN_NAME','BRAND'])\n",
    "fm = fm.with_columns(\n",
    "        pl.when(pl.col('BRAND')=='IBR')\n",
    "        .then(pl.lit('IRL'))\n",
    "        .otherwise(pl.col('BRAND'))\n",
    "        .alias('BRAND'))\n",
    "    \n",
    "fm = fm.filter((pl.col('PFAM_CD')==(pl.col('BRAND'))) | (pl.col('BRAND')==''))\n",
    "fm = (\n",
    "    fm\n",
    "    .with_columns(\n",
    "        pl.col('GROUP_TYPE').map_elements(lambda x: group_type_mapping.get(x,'Others'), return_dtype=pl.Utf8) #NOTE : IF new plan types flow , they will go to Others by default\n",
    "        .fill_null('Others')\n",
    "        .alias('plan_type'),\n",
    "        pl.col('IMS_PLAN_ID').cast(pl.Int64)\n",
    "    )\n",
    "    .rename({'IMS_PLAN_ID':'PlanID'})\n",
    "    .drop('GROUP_TYPE')\n",
    "    .with_columns(pl.col('FORMULARY_GROUP_STATUS').fill_null(pl.lit('N_A')))\n",
    "    .with_columns(pl.col('FORMULARY_GROUP_STATUS').map_elements(classify_plan_class,return_dtype=pl.String).alias('plan_class'))\n",
    "    .drop('FORMULARY_GROUP_STATUS')\n",
    "    # .join(prod_mapping[['product_id','code']],left_on = 'PFAM_CD',right_on='code',how='left').drop('PFAM_CD')#change \n",
    "    # .filter(pl.col('product_id').is_not_null())# change\n",
    "    .unique()\n",
    ")\n",
    "fm = fm.with_columns(\n",
    "    pl.when(pl.col(\"PlanID\") == 13670614)\n",
    "    .then(pl.lit('Others'))\n",
    "    .otherwise(pl.col(\"plan_type\"))\n",
    "    .alias(\"plan_type\")\n",
    ")\n",
    "fm_1 = fm.select(['PlanID','IRWD_FGN_NAME','plan_type']).unique(subset='PlanID')\n",
    "# fm_2 = fm.select(['PlanID','PFAM_CD','PFAM_NAME','BRAND','plan_type','plan_class'])#change\n",
    "\n",
    "fm_3 = (\n",
    "    fm\n",
    "    .select('PFAM_CD','IRWD_FGN_NAME','plan_class').unique()\n",
    "    .group_by(['IRWD_FGN_NAME','PFAM_CD'])\n",
    "    .agg(\n",
    "        pl.col('plan_class').unique().str.concat(' / ').alias('plan_class')\n",
    "    )\n",
    "    .with_columns(pl.col('plan_class').str.to_titlecase())\n",
    ")"
   ]
  },
  {
   "cell_type": "markdown",
   "id": "40e1b610-7334-4aae-91f1-3f63f2a6117d",
   "metadata": {},
   "source": [
    "#### Processing"
   ]
  },
  {
   "cell_type": "code",
   "execution_count": 7,
   "id": "2812c9ae-8e74-451a-9b11-8f7f4800482a",
   "metadata": {
    "jupyter": {
     "source_hidden": true
    }
   },
   "outputs": [],
   "source": [
    "#### Combining Plantrak with fm_1\n",
    "#### Followed by join with fm_3\n",
    "# Join Steps -\n",
    "ln_1 = (\n",
    "    ln.join(fm_1,on='PlanID',how='left')\n",
    "     .with_columns(\n",
    "        pl.col('plan_type').fill_null(pl.lit('Others')),\n",
    "    )\n",
    ")\n",
    "\n",
    "ln_2 = (\n",
    "    ln_1.join(fm_3, on=['IRWD_FGN_NAME', 'PFAM_CD'], how='left')\n",
    "    .with_columns(\n",
    "        pl.col('plan_class').fill_null(pl.lit('N_a'))\n",
    "    )\n",
    ")\n",
    "\n",
    "# Any PlanIds startign with -0000002 should be excluded\n",
    "ln_2 = ln_2.with_columns(ln_2[\"PlanID\"].cast(pl.Utf8).alias(\"PlanID\")) \\\n",
    "                         .filter(~pl.col(\"PlanID\").str.slice(0, 6).eq(\"000002\")) \\\n",
    "                         .with_columns(pl.col(\"PlanID\").cast(pl.Int64).alias(\"PlanID\"))\n",
    "\n",
    "# Removing Any Voucher Records -\n",
    "ln_2 = ln_2.filter(~pl.col('plan_type').is_in(['Voucher'])).join(prod_mapping[['product_id','code']],left_on = 'PROD_CD',right_on='code',how='left').drop('PROD_CD')\n",
    "\n",
    "#### Removing Medicaid and FFS -\n",
    "ln1_reduced = ln_2.filter(~pl.col('plan_type').is_in(['Mgd Medicaid', 'FFS']))"
   ]
  },
  {
   "cell_type": "code",
   "execution_count": 8,
   "id": "1ad1163a-0eb5-45e1-95ee-a1195e1dc67b",
   "metadata": {
    "jupyter": {
     "source_hidden": true
    }
   },
   "outputs": [],
   "source": [
    "# Adding Parent Product Rows -\n",
    "ln3 = ln1_reduced.select(['IID','PlanID','product_id','IRWD_FGN_NAME','plan_type','plan_class','TUF_c','TUF_p'])\n",
    "ln3 = ln3.join(prod_mapping[['product_id','parent_product_id']], on = 'product_id', how = 'left')\n",
    "\n",
    "# For LIN AND AMT : \n",
    "ln3_2_35 = (\n",
    "    ln3.filter(pl.col('parent_product_id').is_in([2,35]))\n",
    "    .group_by(['IID','PlanID','parent_product_id'])\n",
    "    .agg(\n",
    "        pl.col('TUF_c').sum().alias('TUF_c'),pl.col('TUF_p').sum().alias('TUF_p'),\n",
    "        pl.col('IRWD_FGN_NAME').first().alias('IRWD_FGN_NAME'),\n",
    "        pl.col('plan_type').first().alias('plan_type'),\n",
    "        pl.col('plan_class').first().alias('plan_class')\n",
    "        #pl.col('plan_class').unique().str.concat(' / ').alias('plan_class')\n",
    "    )\n",
    "    .rename({'parent_product_id':'product_id'})\n",
    ")\n",
    "\n",
    "# For LAX MARKET : \n",
    "ln3_1 = (\n",
    "    ln3\n",
    "    .group_by(['IID','PlanID'])\n",
    "    .agg(\n",
    "        pl.col('TUF_c').sum().alias('TUF_c'),pl.col('TUF_p').sum().alias('TUF_p'),\n",
    "        pl.col('IRWD_FGN_NAME').first().alias('IRWD_FGN_NAME'),\n",
    "        pl.col('plan_type').first().alias('plan_type'),\n",
    "    )\n",
    "    .with_columns(pl.lit(1).alias('product_id').cast(pl.Int64),pl.lit('N_a').alias('plan_class'))\n",
    "    .select(ln3_2_35.columns)\n",
    ")\n",
    "ln3_all_products = ln3.select(ln3_2_35.columns).vstack(ln3_2_35).vstack(ln3_1)"
   ]
  },
  {
   "cell_type": "code",
   "execution_count": 9,
   "id": "c6b4c939-a1ca-4aa5-8661-7bdb37f3e634",
   "metadata": {
    "jupyter": {
     "source_hidden": true
    }
   },
   "outputs": [],
   "source": [
    "# Ranking \n",
    "ibsc_ranking = (\n",
    "    ln3_1\n",
    "    .with_columns(pl.col(\"TUF_c\").rank(\"ordinal\",descending=True).over([\"IID\"]).alias(\"rank\"))\n",
    "    .filter(pl.col('rank') <= 5)\n",
    "    .sort(['IID','rank'],maintain_order=True)\n",
    "    .select(['IID','PlanID','IRWD_FGN_NAME','plan_type']) \n",
    "    .with_columns(fl = 1)\n",
    "    .join(prod_mapping.select('product_id').with_columns(fl = 1),on = 'fl',how = 'left')\n",
    "    .drop('fl')\n",
    ")\n",
    "\n",
    "\n",
    "ln4 = (\n",
    "    ibsc_ranking\n",
    "    .join(\n",
    "        ln3_all_products.select(['IID','PlanID','product_id','TUF_c','TUF_p']),\n",
    "        on = ['IID','PlanID','product_id'], how = 'left'\n",
    "    )\n",
    "    .join(\n",
    "        ln3_all_products.select(['PlanID','product_id','plan_class']).unique(),\n",
    "        on = ['PlanID','product_id'], how = 'left'\n",
    "    )\n",
    "    .with_columns(pl.col('TUF_c').fill_null(pl.lit(0)),pl.col('TUF_p').fill_null(pl.lit(0)))\n",
    ")"
   ]
  },
  {
   "cell_type": "markdown",
   "id": "700560a8-f1b2-4584-a655-a9db885bdca0",
   "metadata": {},
   "source": [
    "###### Formula based columns - "
   ]
  },
  {
   "cell_type": "code",
   "execution_count": 10,
   "id": "c123696d-6cf1-4985-8c96-6ea59447a0f1",
   "metadata": {
    "jupyter": {
     "source_hidden": true
    }
   },
   "outputs": [],
   "source": [
    "# volume growth percentage - \n",
    "ln5 = (\n",
    "    ln4\n",
    "    .with_columns(\n",
    "        ((pl.col('TUF_c') / pl.col('TUF_p')) - 1).alias('vol_growth_prc').round(10)\n",
    "    )\n",
    ")"
   ]
  },
  {
   "cell_type": "code",
   "execution_count": 11,
   "id": "7d3efcb6-bb7f-4968-b1cf-d8d10c8ffb96",
   "metadata": {
    "jupyter": {
     "source_hidden": true
    }
   },
   "outputs": [],
   "source": [
    "# shr-\n",
    "def get_shr(df):\n",
    "    # Isolate Row with Product = 1\n",
    "\n",
    "    df_1 = (\n",
    "        df\n",
    "        .filter(pl.col('product_id')==1)\n",
    "        .select(['IID','PlanID','TUF_c'])\n",
    "        .rename({'TUF_c':'lax_TUF_c'})\n",
    "    )\n",
    "\n",
    "    df = (\n",
    "        df\n",
    "        .join(df_1, on =['IID','PlanID'],how = 'left')\n",
    "        .with_columns(\n",
    "            (pl.col('TUF_c')/pl.col('lax_TUF_c')).round(10).alias('shr')\n",
    "        )\n",
    "        .drop('lax_TUF_c')\n",
    "    )\n",
    "    return (df)\n",
    "    \n",
    "ln5 = get_shr(ln5)"
   ]
  },
  {
   "cell_type": "code",
   "execution_count": 12,
   "id": "50488462-cc58-44df-be60-c1064b4fc70f",
   "metadata": {
    "jupyter": {
     "source_hidden": true
    }
   },
   "outputs": [],
   "source": [
    "# vol growth ind - \n",
    "ln5 = (\n",
    "    ln5\n",
    "    .with_columns(\n",
    "        pl.when(pl.col('vol_growth_prc') > 0.02).then(pl.lit('P'))\n",
    "        .when(pl.col('vol_growth_prc') < -0.02).then(pl.lit('Q'))\n",
    "        .otherwise(None).alias('vol_growth_ind')\n",
    "    )\n",
    "    .drop()\n",
    ")"
   ]
  },
  {
   "cell_type": "markdown",
   "id": "322aa29e-2d8b-4c46-a6ee-f8e6788c8260",
   "metadata": {},
   "source": [
    "##### Format and Table fixes -"
   ]
  },
  {
   "cell_type": "code",
   "execution_count": 19,
   "id": "45795769-da6c-490b-9a82-0d07fc2ce00c",
   "metadata": {
    "jupyter": {
     "source_hidden": true
    }
   },
   "outputs": [],
   "source": [
    "# Feed Creation -\n",
    "ln6 = (\n",
    "    ln5\n",
    "    .drop(['TUF_p','PlanID'])\n",
    "    .with_columns(\n",
    "        pl.col('vol_growth_prc').replace([np.nan, np.inf, -np.inf], '\\\\N'),\n",
    "        pl.when(pl.col('vol_growth_prc').is_in([np.nan, np.inf, -np.inf])).then(pl.lit('\\\\N')).otherwise(pl.col('vol_growth_ind')).alias('vol_growth_ind'),\n",
    "        pl.col('shr').replace([np.nan, np.inf, -np.inf,0], '\\\\N'),\n",
    "        pl.col('TUF_c').round(3).replace(0.0,'\\\\N'),\n",
    "        pl.col('plan_type').str.to_uppercase()\n",
    "    )\n",
    "    .rename(\n",
    "        {\n",
    "            'IID' : 'DOCTORID',\n",
    "            'IRWD_FGN_NAME' : 'PAYER',\n",
    "            'plan_type' : 'PAYERTYPE',\n",
    "            'plan_class' : 'COVERAGESTATUS',\n",
    "            'TUF_c' : 'VOL',\n",
    "            'product_id' : 'PRODUCT_ID',\n",
    "            'vol_growth_prc' : 'VOL_GROWTH_PRC',\n",
    "            'shr' : 'SHR',\n",
    "            'vol_growth_ind' : 'VOL_GROWTH_IND'\n",
    "        }\n",
    "    )\n",
    "    .select(['DOCTORID','PRODUCT_ID','PAYER','PAYERTYPE','COVERAGESTATUS','VOL','VOL_GROWTH_PRC','SHR','VOL_GROWTH_IND'])\n",
    ")"
   ]
  },
  {
   "cell_type": "markdown",
   "id": "ec346588-a6e6-4f54-afbb-9ba795bc67aa",
   "metadata": {},
   "source": [
    "###### Export -"
   ]
  },
  {
   "cell_type": "code",
   "execution_count": 15,
   "id": "0835afd2-1054-4ea6-b6aa-63769acb28d1",
   "metadata": {
    "jupyter": {
     "source_hidden": true
    }
   },
   "outputs": [
    {
     "name": "stdout",
     "output_type": "stream",
     "text": [
      "Doc360_ManagedCare_Feed.txt Exported !\n"
     ]
    }
   ],
   "source": [
    "#Exporting Feeds-\n",
    "OUT = 's3://vortex-staging-a65ced90/BIT/output/Doc360/'\n",
    "ln6.to_pandas().to_csv(f'{OUT}Doc360_ManagedCare_Feed.txt', sep='|',lineterminator='\\r\\n',index=False)\n",
    "print('Doc360_ManagedCare_Feed.txt Exported !')"
   ]
  },
  {
   "cell_type": "markdown",
   "id": "e6f06586-062c-47d2-b3f5-4c9d293e52c7",
   "metadata": {},
   "source": [
    "---"
   ]
  },
  {
   "cell_type": "markdown",
   "id": "f29cd768-1f06-44c6-9776-ca11b7e43c33",
   "metadata": {},
   "source": [
    "# To Do :\n",
    "    Investigate COVERAGESTATUS Diff - fixed logic but still mismatch\n",
    "    VOL_GROWTH_IND - Check formula | Values most likely wrong\n",
    "    check delta of 300k rows\n",
    "    "
   ]
  },
  {
   "cell_type": "code",
   "execution_count": 16,
   "id": "c02c1457-f134-43d6-a901-55278a6649a1",
   "metadata": {},
   "outputs": [],
   "source": [
    "#IID to check = 18113644"
   ]
  },
  {
   "cell_type": "code",
   "execution_count": 17,
   "id": "107059ed-4e30-47e1-b867-b74acc0c544a",
   "metadata": {},
   "outputs": [],
   "source": [
    "# s = 9030348\n",
    "# p = 9316872\n",
    "# delta = 286524 | 300k rows"
   ]
  },
  {
   "cell_type": "code",
   "execution_count": 21,
   "id": "049b6338-0a9b-468f-8102-1f386ef6c0fe",
   "metadata": {},
   "outputs": [
    {
     "data": {
      "text/html": [
       "<div><style>\n",
       ".dataframe > thead > tr,\n",
       ".dataframe > tbody > tr {\n",
       "  text-align: right;\n",
       "  white-space: pre-wrap;\n",
       "}\n",
       "</style>\n",
       "<small>shape: (5, 9)</small><table border=\"1\" class=\"dataframe\"><thead><tr><th>DOCTORID</th><th>PRODUCT_ID</th><th>PAYER</th><th>PAYERTYPE</th><th>COVERAGESTATUS</th><th>VOL</th><th>VOL_GROWTH_PRC</th><th>SHR</th><th>VOL_GROWTH_IND</th></tr><tr><td>i64</td><td>i64</td><td>str</td><td>str</td><td>str</td><td>str</td><td>str</td><td>str</td><td>str</td></tr></thead><tbody><tr><td>232</td><td>1</td><td>&quot;Singlecare Hlth Savings Card  …</td><td>&quot;COMMERICAL&quot;</td><td>&quot;N_a&quot;</td><td>&quot;1.01&quot;</td><td>&quot;\\N&quot;</td><td>&quot;1.0&quot;</td><td>&quot;\\N&quot;</td></tr><tr><td>232</td><td>2</td><td>&quot;Singlecare Hlth Savings Card  …</td><td>&quot;COMMERICAL&quot;</td><td>&quot;N_a&quot;</td><td>&quot;\\N&quot;</td><td>&quot;\\N&quot;</td><td>&quot;\\N&quot;</td><td>&quot;\\N&quot;</td></tr><tr><td>232</td><td>4</td><td>&quot;Singlecare Hlth Savings Card  …</td><td>&quot;COMMERICAL&quot;</td><td>&quot;N_a&quot;</td><td>&quot;\\N&quot;</td><td>&quot;\\N&quot;</td><td>&quot;\\N&quot;</td><td>&quot;\\N&quot;</td></tr><tr><td>232</td><td>5</td><td>&quot;Singlecare Hlth Savings Card  …</td><td>&quot;COMMERICAL&quot;</td><td>&quot;N_a&quot;</td><td>&quot;\\N&quot;</td><td>&quot;\\N&quot;</td><td>&quot;\\N&quot;</td><td>&quot;\\N&quot;</td></tr><tr><td>232</td><td>3</td><td>&quot;Singlecare Hlth Savings Card  …</td><td>&quot;COMMERICAL&quot;</td><td>&quot;N_a&quot;</td><td>&quot;\\N&quot;</td><td>&quot;\\N&quot;</td><td>&quot;\\N&quot;</td><td>&quot;\\N&quot;</td></tr></tbody></table></div>"
      ],
      "text/plain": [
       "shape: (5, 9)\n",
       "┌──────────┬────────────┬──────────────┬────────────┬───┬──────┬──────────────┬─────┬──────────────┐\n",
       "│ DOCTORID ┆ PRODUCT_ID ┆ PAYER        ┆ PAYERTYPE  ┆ … ┆ VOL  ┆ VOL_GROWTH_P ┆ SHR ┆ VOL_GROWTH_I │\n",
       "│ ---      ┆ ---        ┆ ---          ┆ ---        ┆   ┆ ---  ┆ RC           ┆ --- ┆ ND           │\n",
       "│ i64      ┆ i64        ┆ str          ┆ str        ┆   ┆ str  ┆ ---          ┆ str ┆ ---          │\n",
       "│          ┆            ┆              ┆            ┆   ┆      ┆ str          ┆     ┆ str          │\n",
       "╞══════════╪════════════╪══════════════╪════════════╪═══╪══════╪══════════════╪═════╪══════════════╡\n",
       "│ 232      ┆ 1          ┆ Singlecare   ┆ COMMERICAL ┆ … ┆ 1.01 ┆ \\N           ┆ 1.0 ┆ \\N           │\n",
       "│          ┆            ┆ Hlth Savings ┆            ┆   ┆      ┆              ┆     ┆              │\n",
       "│          ┆            ┆ Card  …      ┆            ┆   ┆      ┆              ┆     ┆              │\n",
       "│ 232      ┆ 2          ┆ Singlecare   ┆ COMMERICAL ┆ … ┆ \\N   ┆ \\N           ┆ \\N  ┆ \\N           │\n",
       "│          ┆            ┆ Hlth Savings ┆            ┆   ┆      ┆              ┆     ┆              │\n",
       "│          ┆            ┆ Card  …      ┆            ┆   ┆      ┆              ┆     ┆              │\n",
       "│ 232      ┆ 4          ┆ Singlecare   ┆ COMMERICAL ┆ … ┆ \\N   ┆ \\N           ┆ \\N  ┆ \\N           │\n",
       "│          ┆            ┆ Hlth Savings ┆            ┆   ┆      ┆              ┆     ┆              │\n",
       "│          ┆            ┆ Card  …      ┆            ┆   ┆      ┆              ┆     ┆              │\n",
       "│ 232      ┆ 5          ┆ Singlecare   ┆ COMMERICAL ┆ … ┆ \\N   ┆ \\N           ┆ \\N  ┆ \\N           │\n",
       "│          ┆            ┆ Hlth Savings ┆            ┆   ┆      ┆              ┆     ┆              │\n",
       "│          ┆            ┆ Card  …      ┆            ┆   ┆      ┆              ┆     ┆              │\n",
       "│ 232      ┆ 3          ┆ Singlecare   ┆ COMMERICAL ┆ … ┆ \\N   ┆ \\N           ┆ \\N  ┆ \\N           │\n",
       "│          ┆            ┆ Hlth Savings ┆            ┆   ┆      ┆              ┆     ┆              │\n",
       "│          ┆            ┆ Card  …      ┆            ┆   ┆      ┆              ┆     ┆              │\n",
       "└──────────┴────────────┴──────────────┴────────────┴───┴──────┴──────────────┴─────┴──────────────┘"
      ]
     },
     "execution_count": 21,
     "metadata": {},
     "output_type": "execute_result"
    }
   ],
   "source": [
    "ln6.head()"
   ]
  }
 ],
 "metadata": {
  "kernelspec": {
   "display_name": "Python 3 (ipykernel)",
   "language": "python",
   "name": "python3"
  },
  "language_info": {
   "codemirror_mode": {
    "name": "ipython",
    "version": 3
   },
   "file_extension": ".py",
   "mimetype": "text/x-python",
   "name": "python",
   "nbconvert_exporter": "python",
   "pygments_lexer": "ipython3",
   "version": "3.10.14"
  }
 },
 "nbformat": 4,
 "nbformat_minor": 5
}
