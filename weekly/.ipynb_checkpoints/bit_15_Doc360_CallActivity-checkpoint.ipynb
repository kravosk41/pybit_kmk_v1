{
 "cells": [
  {
   "cell_type": "markdown",
   "metadata": {},
   "source": [
    "### Doc 360 Call Activity"
   ]
  },
  {
   "cell_type": "code",
   "execution_count": 112,
   "metadata": {
    "jupyter": {
     "source_hidden": true
    }
   },
   "outputs": [],
   "source": [
    "import polars as pl\n",
    "import gc\n",
    "import pandas as pd\n",
    "from datetime import datetime, timedelta,date\n",
    "import json"
   ]
  },
  {
   "cell_type": "code",
   "execution_count": 113,
   "metadata": {
    "jupyter": {
     "source_hidden": true
    }
   },
   "outputs": [],
   "source": [
    "# load variables from JSON\n",
    "with open('vars_wk.json', 'r') as json_file:\n",
    "    js = json.load(json_file)\n",
    "roster_file = js['roster_file']\n",
    "num_weeks_calls = js['num_weeks_calls']\n",
    "quarter_start = datetime.strptime(js['quarter_start'], '%Y-%m-%d').date()\n",
    "bucket = js['bucket']\n",
    "\n",
    "\n",
    "dflib = f's3://{bucket}/BIT/dataframes/'\n",
    "rst = f's3://{bucket}/BIT/roster/'"
   ]
  },
  {
   "cell_type": "code",
   "execution_count": 114,
   "metadata": {
    "jupyter": {
     "source_hidden": true
    }
   },
   "outputs": [],
   "source": [
    "# Utility Functions -\n",
    "def load(df, lib=dflib):\n",
    "    globals()[df] = pl.read_parquet(f'{lib}{df}.parquet')"
   ]
  },
  {
   "cell_type": "code",
   "execution_count": 115,
   "metadata": {
    "jupyter": {
     "source_hidden": true
    }
   },
   "outputs": [],
   "source": [
    "# Importing Dependencies\n",
    "load('temp_calls')\n",
    "load('roster')\n",
    "load('temp_abbv')\n",
    "load('MASTER_UNI')\n",
    "#fixes for vortex import -> Probably caused by Polars Upgrades\n",
    "temp_calls = temp_calls.with_columns(pl.col('SalesRepIID').cast(pl.Int64))\n",
    "temp_abbv = temp_abbv.with_columns(pl.col('SalesRepIID').cast(pl.Int64))\n",
    "\n",
    "roster2 = (\n",
    "    pl.read_parquet(f'{rst}MasterRoster_{roster_file}.parquet')\n",
    "    .with_columns(\n",
    "        pl.col('SalesRepIID').cast(pl.Int64),\n",
    "        Rep = pl.col('EmpFName')+' '+pl.col('EmpLName')\n",
    "    ).select(['SalesRepIID','Rep'])\n",
    ")"
   ]
  },
  {
   "cell_type": "code",
   "execution_count": 116,
   "metadata": {
    "jupyter": {
     "source_hidden": true
    }
   },
   "outputs": [],
   "source": [
    "# Processing - \n",
    "# IW CALLS - \n",
    "iw_calls = (\n",
    "    temp_calls\n",
    "    .filter((pl.col('call_week')<=num_weeks_calls)).filter(pl.col('CallDate')>= quarter_start)\n",
    "    # .join(MASTER_UNI.select(['IID','Territory']),left_on = 'AttendeeIID', right_on = 'IID',how='left')\n",
    "    # .join(roster, on = 'SalesRepIID' , how = 'left')\n",
    "    # .filter(pl.col('Territory')==pl.col('GEO'))\n",
    "    # .drop(['Territory','GEO'])\n",
    ")\n",
    "\n",
    "# ABBV CALLS - \n",
    "ab_calls = (\n",
    "    temp_abbv\n",
    "    .filter((pl.col('call_week')<=num_weeks_calls)).filter(pl.col('CallDate')>= quarter_start)\n",
    ")\n",
    "\n",
    "# Only Keeping Abbv Calls for those HCPs who were also called in iw_calls - \n",
    "# ab_calls = (\n",
    "#     ab_calls.join(\n",
    "#         iw_calls.select(['AttendeeIID']).unique(),\n",
    "#         on = ['AttendeeIID'],\n",
    "#         how = 'inner'\n",
    "#     )\n",
    "# )\n",
    "\n",
    "# m2-\n",
    "# ab_calls = ab_calls.filter(\n",
    "#     pl.col('AttendeeIID').is_in(\n",
    "#         list(iw_calls.select(['AttendeeIID']).unique())\n",
    "#     )\n",
    "# )\n",
    "\n",
    "calls = (\n",
    "    iw_calls.vstack(ab_calls)\n",
    "    .with_columns(\n",
    "        pl.when(pl.col('source').is_in(['FRX','AEM'])).then(pl.lit(5)).otherwise(pl.lit(1)).alias('Salesforce_id')\n",
    "    )\n",
    ")"
   ]
  },
  {
   "cell_type": "code",
   "execution_count": 117,
   "metadata": {
    "jupyter": {
     "source_hidden": true
    }
   },
   "outputs": [],
   "source": [
    "temp1 = (\n",
    "    calls\n",
    "    .select(['CallID','AttendeeIID','CallDate','CallType','SalesRepIID','Salesforce_id'])\n",
    "    .join(roster2,on='SalesRepIID',how='left')\n",
    "    .drop('SalesRepIID')\n",
    "    .with_columns(\n",
    "        pl.col('CallID').cast(pl.Int64),\n",
    "        pl.lit('LINZESS').alias('P1'),\n",
    "        pl.lit('\\\\N').alias('P2'),\n",
    "        pl.lit('\\\\N').alias('P3'),\n",
    "        pl.col('CallDate').cast(pl.Date)\n",
    "    )\n",
    "    .select('CallID','AttendeeIID','Salesforce_id','CallDate','CallType','Rep','P1','P2','P3')\n",
    ")\n",
    "temp1.columns = ['CallId','DoctorId','Salesforce_id','Date','CallType','Rep','P1','P2','P3']\n",
    "temp1 = temp1.unique()"
   ]
  },
  {
   "cell_type": "code",
   "execution_count": 118,
   "metadata": {
    "jupyter": {
     "source_hidden": true
    }
   },
   "outputs": [
    {
     "name": "stdout",
     "output_type": "stream",
     "text": [
      "Doc360_CallActivity_Feed Exported !\n"
     ]
    }
   ],
   "source": [
    "#Exporting Feeds-\n",
    "OUT = 's3://vortex-staging-a65ced90/BIT/output/Doc360/'\n",
    "temp1.to_pandas().to_csv(f'{OUT}Doc360_CallActivity_Feed.txt', sep='|',lineterminator='\\r\\n',index=False)\n",
    "print('Doc360_CallActivity_Feed Exported !')"
   ]
  },
  {
   "cell_type": "markdown",
   "metadata": {},
   "source": [
    "---"
   ]
  }
 ],
 "metadata": {
  "kernelspec": {
   "display_name": "Python 3 (ipykernel)",
   "language": "python",
   "name": "python3"
  },
  "language_info": {
   "codemirror_mode": {
    "name": "ipython",
    "version": 3
   },
   "file_extension": ".py",
   "mimetype": "text/x-python",
   "name": "python",
   "nbconvert_exporter": "python",
   "pygments_lexer": "ipython3",
   "version": "3.10.14"
  }
 },
 "nbformat": 4,
 "nbformat_minor": 4
}
