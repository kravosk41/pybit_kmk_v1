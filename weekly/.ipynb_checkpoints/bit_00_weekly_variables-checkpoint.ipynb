{
 "cells": [
  {
   "cell_type": "markdown",
   "id": "2eb5da7f-dfd9-411a-93ce-6b7249828516",
   "metadata": {},
   "source": [
    "# BIT Weekly Variables - \n",
    "(add more as needed , make sure all have a unique name)"
   ]
  },
  {
   "cell_type": "code",
   "execution_count": 5,
   "id": "8b28afba-b0c1-4b01-ba71-4f354ff55a8a",
   "metadata": {},
   "outputs": [
    {
     "name": "stdout",
     "output_type": "stream",
     "text": [
      "DONE !\n"
     ]
    }
   ],
   "source": [
    "variables = {\n",
    "\n",
    "    'data_date': '20240913',                                    # xpn date (weekly)\n",
    "    'curr_date': '2024-09-27',                                  # call date (weekly)\n",
    "    'pr_13_wk_date': '2024-06-28',                              # 13 week prior from current call date (weekly)\n",
    "    'monthly_data_date': '202408',                              # Month For which you have full Rx and Plantrak Data Ready\n",
    "    'num_weeks_calls': 0,                                       # Number of weeks from qtr start to call date (weekly)\n",
    "    'num_weeks_rx': 11,                                         # Number of weeks from qtr start to xpn date (weekly)\n",
    "    'num_of_months': 0,                                         # monthly(depends on call month)\n",
    "\n",
    "    #########################################################################################################################\n",
    "\n",
    "    'working_day_file': '20240930',                             # Working Day File (weekly)\n",
    "    'roster_file': '20240708',                                  # Suffix for the roster file being used.\n",
    "\n",
    "    #########################################################################################################################\n",
    "\n",
    "    'qtr_data': '2024Q4',                                       # Current QTR\n",
    "    'qtr_ntnw': 'Q4',                                           # QTR Suffix code\n",
    "    'fir_nqrt': '2025-01-01',                                   # First Day of Next QTR (Y M D)\n",
    "    'targeting_folder': '2024 Q4',                              # Current QTR\n",
    "    'quarter_start': '2024-10-01',                              # First Day of Current QTR\n",
    "    'quarter_end': '2024-12-31',                                # Last Day of Current QTR\n",
    "    'IBSC_ptype_file': 'IBSC Primary Payer Type_2024Q1',        # Check for new file every QTR\n",
    "\n",
    "    #########################################################################################################################\n",
    "\n",
    "    'bucket': 'vortex-staging-a65ced90'                         # S3 Bucket Address [Where All the input and output is housed]\n",
    "}\n",
    "\n",
    "#########################################################################################################################\n",
    "\n",
    "import json\n",
    "json_str = json.dumps(variables)\n",
    "with open('vars_wk.json', 'w') as json_file:\n",
    "    json_file.write(json_str)\n",
    "print('DONE !')"
   ]
  }
 ],
 "metadata": {
  "kernelspec": {
   "display_name": "Python 3 (ipykernel)",
   "language": "python",
   "name": "python3"
  },
  "language_info": {
   "codemirror_mode": {
    "name": "ipython",
    "version": 3
   },
   "file_extension": ".py",
   "mimetype": "text/x-python",
   "name": "python",
   "nbconvert_exporter": "python",
   "pygments_lexer": "ipython3",
   "version": "3.10.14"
  }
 },
 "nbformat": 4,
 "nbformat_minor": 5
}
