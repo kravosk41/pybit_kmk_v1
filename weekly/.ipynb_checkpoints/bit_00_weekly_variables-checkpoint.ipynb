{
 "cells": [
  {
   "cell_type": "code",
   "execution_count": 4,
   "id": "b26252e5-ac7c-43c7-a41e-27384d750f24",
   "metadata": {
    "jupyter": {
     "source_hidden": true
    }
   },
   "outputs": [],
   "source": [
    "import json"
   ]
  },
  {
   "cell_type": "markdown",
   "id": "2eb5da7f-dfd9-411a-93ce-6b7249828516",
   "metadata": {},
   "source": [
    "#### Variables - \n",
    "(add more as needed , make sure all have a unique name)"
   ]
  },
  {
   "cell_type": "code",
   "execution_count": 5,
   "id": "4e03bbc4-987d-45b0-b801-0245db0653b2",
   "metadata": {
    "jupyter": {
     "source_hidden": true
    }
   },
   "outputs": [],
   "source": [
    "variables = {\n",
    "\n",
    "   'data_date': '20240802',#xpn(weekly)\n",
    "\n",
    "   'qtr_data': '2024Q3',\n",
    "\n",
    "   'qtr_ntnw': 'Q3',\n",
    "\n",
    "   'fir_nqrt': '2024-10-01',\n",
    "\n",
    "   'targeting_folder': '2024 Q3',\n",
    "\n",
    "   'bucket': 'vortex-staging-a65ced90',\n",
    "\n",
    "   'curr_date': '2024-08-16',#call(weekly)\n",
    "\n",
    "   'quarter_start': '2024-7-01',\n",
    "\n",
    "   'quarter_end': '2024-09-30',\n",
    "\n",
    "   'num_weeks_calls': 7,#(weekly)\n",
    "\n",
    "   'num_weeks_rx': 5,#weekly\n",
    "\n",
    "   'num_of_months': 2,#monthly\n",
    "\n",
    "   'monthly_data_date':'202407',\n",
    "\n",
    "   'working_day_file': '20240902',#weekly\n",
    "\n",
    "   'pr_13_wk_date': '2024-05-31',#weekly\n",
    "\n",
    "   'roster_file': '20240708',\n",
    "\n",
    "   'IBSC_ptype_file' : 'IBSC Primary Payer Type_2024Q1'\n",
    "\n",
    "}"
   ]
  },
  {
   "cell_type": "code",
   "execution_count": 6,
   "id": "ee15e839-f8fd-4125-b565-365c184e7076",
   "metadata": {
    "jupyter": {
     "source_hidden": true
    }
   },
   "outputs": [],
   "source": [
    "json_str = json.dumps(variables)\n",
    "with open('vars_wk.json', 'w') as json_file:\n",
    "    json_file.write(json_str)"
   ]
  },
  {
   "cell_type": "code",
   "execution_count": 7,
   "id": "c0c75085-aaa9-4f0c-8f6b-7473fc6bff87",
   "metadata": {},
   "outputs": [],
   "source": [
    "# DONE!"
   ]
  }
 ],
 "metadata": {
  "kernelspec": {
   "display_name": "Python 3 (ipykernel)",
   "language": "python",
   "name": "python3"
  },
  "language_info": {
   "codemirror_mode": {
    "name": "ipython",
    "version": 3
   },
   "file_extension": ".py",
   "mimetype": "text/x-python",
   "name": "python",
   "nbconvert_exporter": "python",
   "pygments_lexer": "ipython3",
   "version": "3.10.14"
  }
 },
 "nbformat": 4,
 "nbformat_minor": 5
}
