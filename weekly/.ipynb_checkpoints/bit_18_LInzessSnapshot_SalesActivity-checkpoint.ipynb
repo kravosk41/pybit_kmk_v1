{
 "cells": [
  {
   "cell_type": "markdown",
   "metadata": {},
   "source": [
    "### Weekly_LinzessSnapshot_SalesActivity_Feed"
   ]
  },
  {
   "cell_type": "code",
   "execution_count": 1,
   "metadata": {
    "execution": {
     "iopub.execute_input": "2024-06-25T12:01:03.303914Z",
     "iopub.status.busy": "2024-06-25T12:01:03.303150Z",
     "iopub.status.idle": "2024-06-25T12:01:03.785623Z",
     "shell.execute_reply": "2024-06-25T12:01:03.784809Z"
    },
    "jupyter": {
     "source_hidden": true
    }
   },
   "outputs": [],
   "source": [
    "import polars as pl\n",
    "import pandas as pd\n",
    "import gc\n",
    "import numpy as np\n",
    "import json"
   ]
  },
  {
   "cell_type": "code",
   "execution_count": 2,
   "metadata": {
    "execution": {
     "iopub.execute_input": "2024-06-25T12:01:03.791273Z",
     "iopub.status.busy": "2024-06-25T12:01:03.790628Z",
     "iopub.status.idle": "2024-06-25T12:01:03.795851Z",
     "shell.execute_reply": "2024-06-25T12:01:03.794838Z"
    },
    "jupyter": {
     "source_hidden": true
    }
   },
   "outputs": [],
   "source": [
    "# load variables from JSON\n",
    "with open('vars_wk.json', 'r') as json_file:\n",
    "    js = json.load(json_file)\n",
    "\n",
    "bucket = js['bucket']\n",
    "num_weeks_rx = js['num_weeks_rx']\n",
    "num_weeks_calls = js['num_weeks_calls']\n",
    "data_date = js['data_date']\n",
    "\n",
    "dflib = f's3://{bucket}/BIT/dataframes/'\n",
    "xpn = f's3://{bucket}/PYADM/weekly/archive/{data_date}/xponent/'"
   ]
  },
  {
   "cell_type": "code",
   "execution_count": 3,
   "metadata": {
    "execution": {
     "iopub.execute_input": "2024-06-25T12:01:03.799285Z",
     "iopub.status.busy": "2024-06-25T12:01:03.798864Z",
     "iopub.status.idle": "2024-06-25T12:01:03.803029Z",
     "shell.execute_reply": "2024-06-25T12:01:03.802054Z"
    }
   },
   "outputs": [],
   "source": [
    "# Utility Functions -\n",
    "def load(df, lib=dflib):\n",
    "    globals()[df] = pl.read_parquet(f'{lib}{df}.parquet')"
   ]
  },
  {
   "cell_type": "code",
   "execution_count": 4,
   "metadata": {
    "execution": {
     "iopub.execute_input": "2024-06-25T12:01:03.806532Z",
     "iopub.status.busy": "2024-06-25T12:01:03.806248Z",
     "iopub.status.idle": "2024-06-25T12:01:05.280176Z",
     "shell.execute_reply": "2024-06-25T12:01:05.278823Z"
    },
    "jupyter": {
     "source_hidden": true
    }
   },
   "outputs": [],
   "source": [
    "# Imporing Dependencies\n",
    "prod_mapping = pl.read_csv(f's3://{bucket}/BIT/docs/productmapping_pybit.txt',separator='|')\n",
    "geo_code_mapper = pl.from_pandas(pd.read_excel(f's3://{bucket}/BIT/docs/geo_id_full.xlsx'))\n",
    "load('mp_spec_seg_dec')\n",
    "load('temp_calls')\n",
    "load('temp_samples')\n",
    "load('temp_abbv')\n",
    "fetch_products = ['LI1','LI2','LI3','TRU','AMT','LAC','MOT','LUB','IRL']\n",
    "\n",
    "#fixes for vortex import -> Probably caused by Polars Upgrades\n",
    "temp_calls = temp_calls.with_columns(pl.col('SalesRepIID').cast(pl.Int64))\n",
    "temp_samples = temp_samples.with_columns(pl.col('SalesRepIID').cast(pl.Int64))\n",
    "temp_abbv = temp_abbv.with_columns(pl.col('SalesRepIID').cast(pl.Int64))\n",
    "\n"
   ]
  },
  {
   "cell_type": "markdown",
   "metadata": {},
   "source": [
    "### Functions -"
   ]
  },
  {
   "cell_type": "code",
   "execution_count": 5,
   "metadata": {
    "execution": {
     "iopub.execute_input": "2024-06-25T12:01:05.285815Z",
     "iopub.status.busy": "2024-06-25T12:01:05.284839Z",
     "iopub.status.idle": "2024-06-25T12:01:05.297048Z",
     "shell.execute_reply": "2024-06-25T12:01:05.295970Z"
    },
    "jupyter": {
     "source_hidden": true
    }
   },
   "outputs": [],
   "source": [
    "#13 wks IW Calls, QTD IW CALLS-\n",
    "def process_1(df,limit,name):\n",
    "    source_df = (\n",
    "        temp_calls.filter(pl.col('call_week')<=limit)\n",
    "        .group_by(['AttendeeIID'])\n",
    "        .agg(pl.col('CallID').n_unique().alias(name))\n",
    "    )\n",
    "\n",
    "    df = df.join(source_df,left_on='IID',right_on = 'AttendeeIID',how='left')\n",
    "\n",
    "    return(df)\n",
    "\n",
    "#abbv_visit\n",
    "def process_1_5(df):\n",
    "    source_df = (\n",
    "        temp_abbv.filter(pl.col('call_week')<=num_weeks_calls)\n",
    "        .group_by('AttendeeIID')\n",
    "        .agg(abbv_visit=pl.col('CallID').n_unique())\n",
    "    )\n",
    "\n",
    "    df = df.join(source_df,left_on='IID',right_on='AttendeeIID',how='left')\n",
    "    return (df)\n",
    "\n",
    "# Total IW Samples , Total Samples IW + ABBV (no samples for ABBV so its the same value)\n",
    "# NOTE : the samples are summed for all 3 dossages here\n",
    "def process_2(df):\n",
    "    source_df = (\n",
    "        temp_samples.filter(pl.col('sample_week')<=num_weeks_calls)\n",
    "        .group_by('AttendeeIID')\n",
    "        .agg(total_iw_samples = pl.col('CallProductQuantity').sum())\n",
    "        .with_columns(total_iw_abbv_samples = pl.col('total_iw_samples'))\n",
    "    )\n",
    "\n",
    "    df = df.join(source_df,left_on='IID',right_on='AttendeeIID',how='left')\n",
    "    return(df)\n",
    "\n",
    "# Trx Per Sample IW + ABBV -\n",
    "def process_3(df):\n",
    "    # getting Rx Data -\n",
    "    cols_to_read =['IID','PROD_CD'] + ['TUF'+str(i) for i in range(1,num_weeks_rx+1)]\n",
    "    lin_iid = (\n",
    "        pl.read_parquet(xpn+'LAX.parquet',columns=cols_to_read)\n",
    "        .filter(pl.col('PROD_CD').is_in(['LI1','LI2','LI3']))\n",
    "        .with_columns(rx_qtd = pl.sum_horizontal(cols_to_read[2:]))\n",
    "        .group_by('IID').agg(rx_qtd = pl.col('rx_qtd').sum())\n",
    "    )\n",
    "\n",
    "    df = (\n",
    "        df.join(lin_iid,on='IID',how='left')\n",
    "        .with_columns(trx_per_sample = pl.col('rx_qtd')/pl.col('total_iw_abbv_samples')).drop('rx_qtd')\n",
    "    )\n",
    "    return(df)\n"
   ]
  },
  {
   "cell_type": "code",
   "execution_count": 6,
   "metadata": {
    "execution": {
     "iopub.execute_input": "2024-06-25T12:01:05.301147Z",
     "iopub.status.busy": "2024-06-25T12:01:05.300496Z",
     "iopub.status.idle": "2024-06-25T12:01:05.306435Z",
     "shell.execute_reply": "2024-06-25T12:01:05.305441Z"
    },
    "jupyter": {
     "source_hidden": true
    }
   },
   "outputs": [],
   "source": [
    "def get_feed(temp1):\n",
    "    for col in ['iw_calls_13wks','qtd_iw_calls','total_iw_samples','total_iw_abbv_samples','trx_per_sample']:\n",
    "        globals()['temp1'] = globals()['temp1'].with_columns(pl.col(col).fill_null('\\\\N'))\n",
    "    #renaming columns according to feed\n",
    "    rnm_cols = {\n",
    "        'IID':'Physician_ID',\n",
    "        'geography_id':'Geography_id',\n",
    "        'iw_calls_13wks':'SA_NumberMetric6',\n",
    "        'qtd_iw_calls':'SA_NumberMetric1',\n",
    "        'abbv_visit':'SA_NumberMetric2',\n",
    "        'total_iw_samples':'SA_NumberMetric3',\n",
    "        'total_iw_abbv_samples':'SA_NumberMetric4',\n",
    "        'trx_per_sample':'SA_NumberMetric5'\n",
    "    }\n",
    "    final_feed = temp1.rename(rnm_cols)\n",
    "    return(final_feed)"
   ]
  },
  {
   "cell_type": "code",
   "execution_count": 7,
   "metadata": {
    "execution": {
     "iopub.execute_input": "2024-06-25T12:01:05.310166Z",
     "iopub.status.busy": "2024-06-25T12:01:05.309697Z",
     "iopub.status.idle": "2024-06-25T12:01:16.635764Z",
     "shell.execute_reply": "2024-06-25T12:01:16.634947Z"
    },
    "jupyter": {
     "source_hidden": true
    }
   },
   "outputs": [
    {
     "name": "stdout",
     "output_type": "stream",
     "text": [
      "LS Metric Performance 2 Exported !\n"
     ]
    },
    {
     "name": "stdout",
     "output_type": "stream",
     "text": [
      "LS Metric Performance 3 Exported !\n"
     ]
    }
   ],
   "source": [
    "# Processing and Exporting !\n",
    "OUT = 's3://vortex-staging-a65ced90/BIT/output/LinzessSnapshot/Weekly/'\n",
    "for wc,PN in zip([4,13],[2,3]):\n",
    "    # Function Calls-\n",
    "    temp1 = mp_spec_seg_dec.select(['IID','geography_id'])\n",
    "    temp1 = process_1(temp1,wc,'iw_calls_13wks')\n",
    "    temp1 = process_1(temp1,num_weeks_calls,'qtd_iw_calls')\n",
    "    temp1 = process_1_5(temp1)\n",
    "    temp1 = process_2(temp1)\n",
    "    temp1 = process_3(temp1)\n",
    "    feed_dataset = get_feed(temp1)\n",
    "    #Exporting Feeds-\n",
    "    feed_dataset.to_pandas().to_csv(f'{OUT}Weekly_LinzessSnapshot_MetricPerformance_P{PN}_Feed.txt', sep='|')\n",
    "    print(f'LS Metric Performance {PN} Exported !')"
   ]
  }
 ],
 "metadata": {
  "kernelspec": {
   "display_name": "Python 3 (ipykernel)",
   "language": "python",
   "name": "python3"
  },
  "language_info": {
   "codemirror_mode": {
    "name": "ipython",
    "version": 3
   },
   "file_extension": ".py",
   "mimetype": "text/x-python",
   "name": "python",
   "nbconvert_exporter": "python",
   "pygments_lexer": "ipython3",
   "version": "3.10.14"
  }
 },
 "nbformat": 4,
 "nbformat_minor": 4
}
