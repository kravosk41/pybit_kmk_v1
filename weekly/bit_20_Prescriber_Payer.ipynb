{
 "cells": [
  {
   "cell_type": "code",
   "execution_count": 1,
   "id": "289d2107-2aac-4fd4-8afc-b90b05626f6f",
   "metadata": {
    "execution": {
     "iopub.execute_input": "2024-09-11T09:39:44.124505Z",
     "iopub.status.busy": "2024-09-11T09:39:44.124248Z",
     "iopub.status.idle": "2024-09-11T09:39:44.762006Z",
     "shell.execute_reply": "2024-09-11T09:39:44.760995Z"
    }
   },
   "outputs": [],
   "source": [
    "import polars as pl\n",
    "import gc\n",
    "import pandas as pd\n",
    "from datetime import datetime, timedelta,date\n",
    "import json\n",
    "import numpy as np"
   ]
  },
  {
   "cell_type": "code",
   "execution_count": 2,
   "id": "8f79ead1-ed0d-495b-8be7-24e5950b87a1",
   "metadata": {
    "execution": {
     "iopub.execute_input": "2024-09-11T09:39:44.766792Z",
     "iopub.status.busy": "2024-09-11T09:39:44.766166Z",
     "iopub.status.idle": "2024-09-11T09:39:44.771398Z",
     "shell.execute_reply": "2024-09-11T09:39:44.770671Z"
    }
   },
   "outputs": [],
   "source": [
    "# load variables from JSON\n",
    "with open('vars_wk.json', 'r') as json_file:\n",
    "    js = json.load(json_file)\n",
    "\n",
    "bucket = js['bucket']\n",
    "data_date = js['data_date']\n",
    "monthly_data_date = js['monthly_data_date']\n",
    "num_wk_rx = js['num_weeks_rx']\n",
    "dflib = f's3://{bucket}/BIT/dataframes/'\n",
    "pln = f's3://{bucket}/PYADM/weekly/archive/{data_date}/plantrak/' \n",
    "mpln = f's3://{bucket}/PYADM/monthly/archive/{monthly_data_date}/plantrak/'\n",
    "OUT = 's3://vortex-staging-a65ced90/BIT/output/PrescriberPayer/Weekly/'"
   ]
  },
  {
   "cell_type": "code",
   "execution_count": 3,
   "id": "439b6928-9f7d-40f4-8061-266ae2b330e1",
   "metadata": {
    "execution": {
     "iopub.execute_input": "2024-09-11T09:39:44.775526Z",
     "iopub.status.busy": "2024-09-11T09:39:44.774888Z",
     "iopub.status.idle": "2024-09-11T09:39:44.778768Z",
     "shell.execute_reply": "2024-09-11T09:39:44.777948Z"
    }
   },
   "outputs": [],
   "source": [
    "# Utility Functions -\n",
    "def load(df, lib=dflib):\n",
    "    globals()[df] = pl.read_parquet(f'{lib}{df}.parquet')"
   ]
  },
  {
   "cell_type": "code",
   "execution_count": 4,
   "id": "cb6523af-2119-4846-9dc1-dca745d8b58c",
   "metadata": {
    "execution": {
     "iopub.execute_input": "2024-09-11T09:39:44.784277Z",
     "iopub.status.busy": "2024-09-11T09:39:44.783683Z",
     "iopub.status.idle": "2024-09-11T09:39:47.117143Z",
     "shell.execute_reply": "2024-09-11T09:39:47.116141Z"
    }
   },
   "outputs": [],
   "source": [
    "# Imporing Dependencies\n",
    "prod_mapping = pl.read_csv(f's3://{bucket}/BIT/docs/productmapping_pybit.txt',separator='|')\n",
    "geo_code_mapper = pl.from_pandas(pd.read_excel(f's3://{bucket}/BIT/docs/geo_id_full.xlsx'))\n",
    "load('mp_spec_seg_dec')\n",
    "load('MASTER_UNI')\n",
    "fetch_products = ['LI1','LI2','LI3','TRU','AMT','LAC','MOT','LUB','IRL']\n",
    "unique_iid = pl.read_parquet(dflib+'unique_iid.parquet')"
   ]
  },
  {
   "cell_type": "markdown",
   "id": "00df08cd-3de0-4c45-8bfd-66a7d8b86f4f",
   "metadata": {},
   "source": [
    "---"
   ]
  },
  {
   "cell_type": "markdown",
   "id": "d556fd26-51b3-4ab7-abf2-3109191f9a47",
   "metadata": {},
   "source": [
    "<h2><b>Profile_info</b></h2>"
   ]
  },
  {
   "cell_type": "code",
   "execution_count": 5,
   "id": "3953778d-01ee-49c6-b55d-e5fb694edb3c",
   "metadata": {
    "execution": {
     "iopub.execute_input": "2024-09-11T09:39:47.123887Z",
     "iopub.status.busy": "2024-09-11T09:39:47.123131Z",
     "iopub.status.idle": "2024-09-11T09:39:47.130854Z",
     "shell.execute_reply": "2024-09-11T09:39:47.129877Z"
    }
   },
   "outputs": [],
   "source": [
    "# Getting Utility Columns from main MP\n",
    "temp1 = MASTER_UNI.select(\n",
    "    [\n",
    "        'IID','FirstName','LastName','PDRPOptOutFlag','DECILE',\n",
    "        'AddressLine1','AddressLine2','AddressLine3','AddressLine4','CityName','StateCode','ZIP'\n",
    "    ]\n",
    ")"
   ]
  },
  {
   "cell_type": "code",
   "execution_count": 6,
   "id": "8da666ac-e8af-4254-9dc8-d591edc97a6b",
   "metadata": {
    "execution": {
     "iopub.execute_input": "2024-09-11T09:39:47.136890Z",
     "iopub.status.busy": "2024-09-11T09:39:47.135928Z",
     "iopub.status.idle": "2024-09-11T09:39:47.523474Z",
     "shell.execute_reply": "2024-09-11T09:39:47.522731Z"
    }
   },
   "outputs": [],
   "source": [
    "temp1 = MASTER_UNI.select(\n",
    "    [\n",
    "        'IID','FirstName','LastName','PDRPOptOutFlag','DECILE',\n",
    "        'AddressLine1','AddressLine2','AddressLine3','AddressLine4','CityName','StateCode','ZIP'\n",
    "    ]\n",
    ").with_columns(\n",
    "    pl.concat_str([pl.col('AddressLine1'),pl.col('AddressLine2'),pl.col('AddressLine3'),pl.col('AddressLine4')],separator=' ',ignore_nulls=True).alias('Address'),\n",
    "    pl.concat_str([pl.col('LastName'),pl.col('FirstName')],separator=', ',ignore_nulls=True).alias('Physician_Name'),\n",
    "    pl.when(pl.col('PDRPOptOutFlag')=='Y').then(1).otherwise(0).alias('PDRPOptOutFlag')\n",
    ").join(\n",
    "    mp_spec_seg_dec,on='IID',how='left'\n",
    ").join(\n",
    "    unique_iid,on='IID',how='inner'\n",
    ").drop(['AddressLine1','AddressLine2','AddressLine3','AddressLine4','FirstName','LastName','decile'])"
   ]
  },
  {
   "cell_type": "code",
   "execution_count": 7,
   "id": "1825be55-2cd1-4eee-a425-079cae22a61e",
   "metadata": {
    "execution": {
     "iopub.execute_input": "2024-09-11T09:39:47.527188Z",
     "iopub.status.busy": "2024-09-11T09:39:47.526593Z",
     "iopub.status.idle": "2024-09-11T09:39:47.530822Z",
     "shell.execute_reply": "2024-09-11T09:39:47.530207Z"
    }
   },
   "outputs": [],
   "source": [
    "#Adding Product id\n",
    "temp1 = temp1.with_columns(\n",
    "    pl.lit('1').alias('product_id'))\n"
   ]
  },
  {
   "cell_type": "code",
   "execution_count": 8,
   "id": "5f9256fb-543c-4652-97c0-9ffc3a54f416",
   "metadata": {
    "execution": {
     "iopub.execute_input": "2024-09-11T09:39:47.534066Z",
     "iopub.status.busy": "2024-09-11T09:39:47.533388Z",
     "iopub.status.idle": "2024-09-11T09:39:47.553517Z",
     "shell.execute_reply": "2024-09-11T09:39:47.552793Z"
    }
   },
   "outputs": [],
   "source": [
    "#feed generation\n",
    "final_feed = temp1\n",
    "col_mapping = {\n",
    "    'IID':'PHYSICIAN_ID',\n",
    "    'Physician_Name':'PHYSICIAN_NAME',\n",
    "    'specialty_group':'SPECIALTY',\n",
    "    'Address':'ADDRESS',\n",
    "    'CityName':'CITY',\n",
    "    'StateCode':'STATE',\n",
    "    'segment':'SEGMENT',\n",
    "    'geography_id':'GEOGRAPHY_ID',\n",
    "    'product_id':'PRODUCT_ID'}\n",
    "final_feed = final_feed.rename(col_mapping)\n",
    "\n",
    "# required columns for feed\n",
    "col_to_addrt = ['REPORTTYPE']\n",
    "col_to_addna = ['CATEGORY']\n",
    "col_to_addn = ['AOSEGMENT']\n",
    "# func to add columns with desired value\n",
    "def addcol(df,columns_to_add,wtl):\n",
    "    for my_col in columns_to_add:\n",
    "        df = df.with_columns(pl.lit(wtl).alias(my_col))\n",
    "    return df\n",
    "\n",
    "final_feed = addcol(final_feed,col_to_addrt,'WEEKLY')\n",
    "final_feed = addcol(final_feed,col_to_addna,'N/A')\n",
    "final_feed = addcol(final_feed,col_to_addn,'\\\\N')\n",
    "\n",
    "#rearranging columns\n",
    "req_col = ['PHYSICIAN_NAME', 'PHYSICIAN_ID', 'GEOGRAPHY_ID', 'PRODUCT_ID', 'REPORTTYPE', 'SPECIALTY', 'SEGMENT', \n",
    "           'DECILE', 'ADDRESS', 'CITY', 'STATE', 'ZIP', 'CATEGORY', 'AOSEGMENT']\n",
    "final_feed = final_feed.select(req_col)\n",
    "# changing value of column to match with sas\n",
    "final_feed = final_feed.with_columns(\n",
    "        pl.when(pl.col('SEGMENT')=='ALG-ONLY-TARGET')\n",
    "        .then(pl.lit('AGNT'))\n",
    "        .when(pl.col('SEGMENT')=='Target')\n",
    "        .then(pl.lit('T'))\n",
    "        .when(pl.col('SEGMENT')=='Non-Target')\n",
    "        .then(pl.lit('NT'))\n",
    "        .alias('SEGMENT'))"
   ]
  },
  {
   "cell_type": "code",
   "execution_count": 9,
   "id": "11af9106-2e9d-4f89-8da2-48fc51ae70a0",
   "metadata": {
    "execution": {
     "iopub.execute_input": "2024-09-11T09:39:47.557096Z",
     "iopub.status.busy": "2024-09-11T09:39:47.556404Z",
     "iopub.status.idle": "2024-09-11T09:39:53.252693Z",
     "shell.execute_reply": "2024-09-11T09:39:53.251854Z"
    }
   },
   "outputs": [
    {
     "name": "stdout",
     "output_type": "stream",
     "text": [
      "Presc Payer Profile Info Exported !\n"
     ]
    }
   ],
   "source": [
    "#Exporting Feeds-\n",
    "OUT = 's3://vortex-staging-a65ced90/BIT/output/PrescriberPayer/Weekly/'\n",
    " #===================================================\n",
    "final_feed = final_feed.to_pandas()\n",
    "# Select columns of type 'object' (string)\n",
    "string_columns = final_feed.select_dtypes(include=['object']).columns.tolist()\n",
    "final_feed[string_columns] = final_feed[string_columns].fillna('\\\\N')\n",
    "final_feed = final_feed.replace('NaN', '\\\\N')\n",
    "\n",
    "final_feed = final_feed.replace([np.nan, np.inf, -np.inf], '\\\\N')\n",
    "final_feed.to_csv(f'{OUT}Weekly_PrescriberPayer_ProfileInfo_Feed.txt', sep='|',lineterminator='\\r\\n',index=False)\n",
    "print('Presc Payer Profile Info Exported !')"
   ]
  },
  {
   "cell_type": "markdown",
   "id": "653e6ce8-d5de-45b7-83de-a331b4889e83",
   "metadata": {},
   "source": [
    "<h1><b>PayerInfo and SalesPerf</b></h1>"
   ]
  },
  {
   "cell_type": "markdown",
   "id": "d791f722-32a2-435d-9543-91ba00d616da",
   "metadata": {},
   "source": [
    "Formulary -\n",
    "---"
   ]
  },
  {
   "cell_type": "code",
   "execution_count": 10,
   "id": "1f8f6ab6-b898-496d-81a9-d9472d83eeda",
   "metadata": {
    "execution": {
     "iopub.execute_input": "2024-09-11T09:39:53.257183Z",
     "iopub.status.busy": "2024-09-11T09:39:53.256715Z",
     "iopub.status.idle": "2024-09-11T09:39:54.301132Z",
     "shell.execute_reply": "2024-09-11T09:39:54.300252Z"
    }
   },
   "outputs": [],
   "source": [
    "#FORMULARY\n",
    "group_type_mapping = {\n",
    "    'HIX' : 'Commerical','Com' : 'Commerical','Cash' : 'Cash','Voucher':'Voucher',\n",
    "    'FFS' : 'FFS','Mgd Medicaid' : 'Mgd Medicaid','Part D' : 'Part D','MAC A' : 'Others',\n",
    "}\n",
    "\n",
    "def classify_plan_class(status):\n",
    "    status = status.upper()\n",
    "    if status[:7] == \"COVERED\" or status[:6] == \"ON PDL\":\n",
    "        return \"COVERED\"\n",
    "    elif status[:9] == \"PREFERRED\":\n",
    "        return \"PREFERRED\"\n",
    "    elif status[:13] == \"NON-PREFERRED\":\n",
    "        return \"NON PREFERRED\"\n",
    "    elif status[:7] == \"NON-PDL\" or status[:11] == \"NOT COVERED\":\n",
    "        return \"NOT COVERED\"\n",
    "    else:\n",
    "        return \"N_A\"\n",
    "\n",
    "# Reading \n",
    "fm = pl.read_parquet(pln+'FORMULARY.parquet',columns = ['IMS_PLAN_ID','GROUP_TYPE','FORMULARY_GROUP_STATUS','PFAM_CD','PFAM_NAME','IRWD_FGN_NAME','BRAND'])\n",
    "fm = fm.with_columns(\n",
    "        pl.when(pl.col('BRAND')=='IBR')\n",
    "        .then(pl.lit('IRL'))\n",
    "        .otherwise(pl.col('BRAND'))\n",
    "        .alias('BRAND')\n",
    ")\n",
    "fm = fm.filter((pl.col('PFAM_CD')==(pl.col('BRAND'))) | (pl.col('BRAND')==''))\n",
    "fm = (\n",
    "    fm\n",
    "    .with_columns(\n",
    "        pl.col('GROUP_TYPE').map_elements(lambda x: group_type_mapping.get(x,'Others'), return_dtype=pl.Utf8) #NOTE : IF new plan types flow , they will go to Others by default\n",
    "        .fill_null('Others')\n",
    "        .alias('plan_type'),\n",
    "        pl.col('IMS_PLAN_ID').cast(pl.Int64)\n",
    "    )\n",
    "    .rename({'IMS_PLAN_ID':'PlanID'})\n",
    "    .drop('GROUP_TYPE')\n",
    "    .with_columns(pl.col('FORMULARY_GROUP_STATUS').fill_null(pl.lit('N_A')))\n",
    "    .with_columns(pl.col('FORMULARY_GROUP_STATUS').map_elements(classify_plan_class,return_dtype=pl.String).alias('plan_class'))\n",
    "    .drop('FORMULARY_GROUP_STATUS')\n",
    "    .unique()\n",
    ")\n",
    "#\n",
    "mfm = pl.read_parquet(mpln+'FORMULARY.parquet',columns=['IRWD_FGN_NAME'])\n",
    "\n",
    "payer_month = mfm['IRWD_FGN_NAME'].unique().sort().to_frame()# wfm = monthly formulary\n",
    "payer_week = fm['IRWD_FGN_NAME'].unique().sort().to_frame() # fm = weekly formulary\n",
    "delta_payer = payer_week.join(payer_month, on=\"IRWD_FGN_NAME\", how=\"anti\")\n",
    "payer_map_temp = payer_month.vstack(delta_payer)\n",
    "payer_map = payer_map_temp.select([\n",
    "    pl.col('IRWD_FGN_NAME'),\n",
    "    pl.arange(1, len(payer_map_temp) + 1).alias('payer_id')\n",
    "])\n",
    "fm = fm.join(payer_map,on='IRWD_FGN_NAME',how='left')\n",
    "###############\n",
    "# HARD CODED - \n",
    "fm = fm.with_columns(pl.when(pl.col(\"PlanID\") == 13670614).then(pl.lit('Others')).otherwise(pl.col(\"plan_type\")).alias(\"plan_type\"))\n",
    "###############\n",
    "\n",
    "#fm1 = fm.filter(pl.col('BRAND')=='LIN')\n",
    "fm2 = (\n",
    "    fm\n",
    "    .select('PFAM_CD','IRWD_FGN_NAME','plan_class').unique()\n",
    "    .group_by(['IRWD_FGN_NAME','PFAM_CD']) #,'PFAM_CD'\n",
    "    .agg(\n",
    "        pl.col('plan_class').unique().str.concat(' / ').alias('plan_class')\n",
    "    )\n",
    "    .with_columns(pl.col('plan_class').str.to_titlecase())\n",
    ")"
   ]
  },
  {
   "cell_type": "markdown",
   "id": "719cec0e-c228-492d-a793-bd6cf9f269d6",
   "metadata": {},
   "source": [
    "Plantrak -\n",
    "---"
   ]
  },
  {
   "cell_type": "code",
   "execution_count": 11,
   "id": "b66d5393-588d-46c9-9439-5cd1779f4ed0",
   "metadata": {
    "execution": {
     "iopub.execute_input": "2024-09-11T09:39:54.305619Z",
     "iopub.status.busy": "2024-09-11T09:39:54.305098Z",
     "iopub.status.idle": "2024-09-11T09:39:54.309258Z",
     "shell.execute_reply": "2024-09-11T09:39:54.308329Z"
    },
    "jupyter": {
     "source_hidden": true
    }
   },
   "outputs": [],
   "source": [
    "# #ranking\n",
    "# payer_info_sort = ln4.sort([\"IID\",'plan_type','TUF_c','product_id'], descending=True)\n",
    "# payer_info_sort = payer_info_sort.to_pandas()\n",
    "# # Calculate the rank within each group\n",
    "# payer_info_sort.loc[:, 'RANK'] = payer_info_sort.groupby([\"IID\", \"product_id\",'plan_type']).cumcount() + 1\n",
    "\n",
    "# # Filter the DataFrame to keep only rows where RANK is less than or equal to 5\n",
    "# payer_info_final = (payer_info_sort[payer_info_sort['RANK'] <= 5]).drop_duplicates(subset=[\"IID\", \"product_id\",'plan_type','IRWD_FGN_NAME'])\n",
    "\n",
    "# #Select the required columns (KEEP equivalent)\n",
    "# payer_info_final = payer_info_final[[\"IID\", \"product_id\",'IRWD_FGN_NAME','plan_type','plan_class','TUF_c','RANK']] #change IRWD_FGN_NAME,plan_class\n",
    "# payer_info_final = pl.from_pandas(payer_info_final).filter(pl.col('TUF_c')!=0)"
   ]
  },
  {
   "cell_type": "code",
   "execution_count": 12,
   "id": "62e14650-5f6a-4255-89d2-dae6631a8a85",
   "metadata": {
    "execution": {
     "iopub.execute_input": "2024-09-11T09:39:54.312601Z",
     "iopub.status.busy": "2024-09-11T09:39:54.312325Z",
     "iopub.status.idle": "2024-09-11T09:39:54.326271Z",
     "shell.execute_reply": "2024-09-11T09:39:54.324971Z"
    },
    "jupyter": {
     "source_hidden": true
    }
   },
   "outputs": [],
   "source": [
    "# # Output -> ln6\n",
    "# # Feed Creation -\n",
    "# ln6 = (\n",
    "#     ln5_f\n",
    "#     .drop(['TUF_p'])\n",
    "#     .with_columns(\n",
    "#         pl.col('vol_growth_prc').replace([np.nan, np.inf, -np.inf,None], '\\\\N'),\n",
    "#         pl.when(pl.col('vol_growth_prc').is_in([np.nan, np.inf, -np.inf,None])).then(pl.lit('\\\\N')).otherwise(pl.col('vol_growth_ind')).alias('vol_growth_ind'),\n",
    "#         pl.col('shr').replace([np.nan, np.inf, -np.inf,None,0], '\\\\N'),\n",
    "#         pl.col('TUF_c').round(3).replace(0.0,'\\\\N'),\n",
    "#         pl.col('plan_type').str.to_uppercase()\n",
    "#     )\n",
    "#     .rename(\n",
    "#         {\n",
    "#             'IID' : 'DOCTORID',\n",
    "#             'IRWD_FGN_NAME' : 'PAYER',\n",
    "#             'plan_type' : 'PAYERTYPE',\n",
    "#             'plan_class' : 'COVERAGESTATUS',\n",
    "#             'TUF_c' : 'VOL',\n",
    "#             'product_id' : 'PRODUCT_ID',\n",
    "#             'vol_growth_prc' : 'VOL_GROWTH_PRC',\n",
    "#             'shr' : 'SHR',\n",
    "#             'vol_growth_ind' : 'VOL_GROWTH_IND'\n",
    "#         }\n",
    "#     )\n",
    "#     .select(['DOCTORID','PRODUCT_ID','PAYER','PAYERTYPE','COVERAGESTATUS','VOL','VOL_GROWTH_PRC','SHR','VOL_GROWTH_IND'])\n",
    "# )\n",
    "\n",
    "# #PDRP override - \n",
    "# pdrp = MASTER_UNI.select(['IID','PDRPOptOutFlag'])\n",
    "# override_columns = ['VOL','VOL_GROWTH_PRC','SHR','VOL_GROWTH_IND']\n",
    "# expression_list = [\n",
    "#     pl.when(pl.col('PDRPOptOutFlag')=='Y').then(pl.lit('\\\\N')).otherwise(pl.col(c)).alias(c)\n",
    "#     for c in override_columns\n",
    "# ]\n",
    "# ln6 = (\n",
    "#     ln6\n",
    "#     .join(pdrp, left_on = 'DOCTORID',right_on='IID',how='left')\n",
    "#     .with_columns(expression_list)\n",
    "#     .drop('PDRPOptOutFlag')\n",
    "# )"
   ]
  },
  {
   "cell_type": "code",
   "execution_count": 13,
   "id": "8628ee5d-f655-42a1-8de3-59532abc1290",
   "metadata": {
    "execution": {
     "iopub.execute_input": "2024-09-11T09:39:54.335791Z",
     "iopub.status.busy": "2024-09-11T09:39:54.335350Z",
     "iopub.status.idle": "2024-09-11T09:40:06.935836Z",
     "shell.execute_reply": "2024-09-11T09:40:06.934063Z"
    }
   },
   "outputs": [],
   "source": [
    "# Output -> ln1\n",
    "\n",
    "#TUF at PROD , IID , PLAN LEVEL ->\n",
    "ln = (\n",
    "    pl.read_parquet(pln+'LAX_N.parquet',columns=['IID','WK_END_DATE','PFAM_CD','PROD_CD','PlanID','TUF']) #read req cols only\n",
    "    .rename({'WK_END_DATE':'PeriodKey'})\n",
    "    .filter(pl.col('PROD_CD').is_in(fetch_products)) #only keep data for BIT products\n",
    "    #.with_columns(pl.col('PeriodKey').cast(pl.Utf8).str.to_date(\"%Y%m%d\")) #Convert Categorical column Back to date\n",
    ")\n",
    "\n",
    "# Any PlanIds startign with -0000002 should be excluded\n",
    "ln = (\n",
    "    ln\n",
    "    .with_columns(pl.col('PlanID').cast(pl.Utf8).str.zfill(10).alias('planid_chr'))\n",
    "    .filter(~pl.col('planid_chr').str.starts_with('000002'))\n",
    "    .drop('planid_chr')\n",
    ")\n",
    "\n",
    "# Adding Payer from formulary -\n",
    "ln = (\n",
    "    ln\n",
    "    .join(fm.select(['PlanID','IRWD_FGN_NAME','payer_id']).unique(),on='PlanID',how='left') #.unique() PFAM_CD\n",
    "    #.rename({'IRWD_FGN_NAME':'PAYER'})\n",
    ")\n",
    "# NOTE : THIS WILL HAVE NULLS IN PAYER (NAME)\n",
    "\n",
    "date_list = ln['PeriodKey'].unique().sort(descending=True)\n",
    "\n",
    "#current 6 months -\n",
    "\n",
    "ln1_1 = (\n",
    "    ln\n",
    "    .filter(pl.col('PeriodKey') >= date_list[25])\n",
    "    .group_by(['IID','IRWD_FGN_NAME','PFAM_CD','PROD_CD','payer_id']).agg(TUF_P4 = pl.col('TUF').sum())\n",
    ")\n",
    "ln1_2 = (\n",
    "    ln\n",
    "    .filter(pl.col('PeriodKey') >= date_list[12])\n",
    "    .group_by(['IID','IRWD_FGN_NAME','PFAM_CD','PROD_CD','payer_id']).agg(TUF_P3 = pl.col('TUF').sum())\n",
    ")\n",
    "ln1_3 = (\n",
    "    ln\n",
    "    .filter(pl.col('PeriodKey') >= date_list[3])\n",
    "    .group_by(['IID','IRWD_FGN_NAME','PFAM_CD','PROD_CD','payer_id']).agg(TUF_P2 = pl.col('TUF').sum())\n",
    ")\n",
    "ln1_4 = (\n",
    "    ln\n",
    "    .filter(pl.col('PeriodKey') >= date_list[0])\n",
    "    .group_by(['IID','IRWD_FGN_NAME','PFAM_CD','PROD_CD','payer_id']).agg(TUF_P1 = pl.col('TUF').sum())\n",
    ")\n",
    "ln1_5 = (\n",
    "    ln\n",
    "    .filter(pl.col('PeriodKey') >= date_list[num_wk_rx - 1])\n",
    "    .group_by(['IID','IRWD_FGN_NAME','PFAM_CD','PROD_CD','payer_id']).agg(TUF_P5 = pl.col('TUF').sum())\n",
    ")\n",
    "# -----------------------\n",
    "\n",
    "ln1 = ln1_1.join(ln1_2, on=['IID', 'IRWD_FGN_NAME', 'PFAM_CD', 'PROD_CD','payer_id'], how='left')\n",
    "\n",
    "# Then join the result with ln1_3\n",
    "ln1 = ln1.join(ln1_3, on=['IID', 'IRWD_FGN_NAME', 'PFAM_CD', 'PROD_CD','payer_id'], how='left')\n",
    "\n",
    "# Continue joining with ln1_4\n",
    "ln1 = ln1.join(ln1_4, on=['IID', 'IRWD_FGN_NAME', 'PFAM_CD', 'PROD_CD','payer_id'], how='left')\n",
    "\n",
    "# Finally, join with ln1_5\n",
    "ln1 = ln1.join(ln1_5, on=['IID', 'IRWD_FGN_NAME', 'PFAM_CD', 'PROD_CD','payer_id'], how='left').fill_null(0)"
   ]
  },
  {
   "cell_type": "code",
   "execution_count": 14,
   "id": "29fca632-07e3-4b83-a310-15e7891bbf90",
   "metadata": {
    "execution": {
     "iopub.execute_input": "2024-09-11T09:40:06.940294Z",
     "iopub.status.busy": "2024-09-11T09:40:06.939765Z",
     "iopub.status.idle": "2024-09-11T09:40:07.191744Z",
     "shell.execute_reply": "2024-09-11T09:40:07.188557Z"
    }
   },
   "outputs": [],
   "source": [
    "# Output -> ln2\n",
    "# Pulling in Plan Type -\n",
    "ln2 = (\n",
    "    ln1\n",
    "    .join(\n",
    "        fm.select(['IRWD_FGN_NAME','PFAM_CD','plan_type']).unique(),\n",
    "        on = ['IRWD_FGN_NAME', 'PFAM_CD'], how = 'left' #, 'PFAM_CD'\n",
    "    )\n",
    "    .with_columns(\n",
    "        pl.col('plan_type').fill_null(pl.lit('Others')),\n",
    "    )\n",
    ")\n",
    "\n",
    "# Pulling in Plan Class\n",
    "ln2 = (\n",
    "    ln2.join(fm2, on=['IRWD_FGN_NAME', 'PFAM_CD'], how='left') #, 'PFAM_CD'\n",
    "    .with_columns(\n",
    "        pl.col('plan_class').fill_null(pl.lit('N_a'))\n",
    "    )\n",
    ")\n",
    "\n",
    "# Dropping Records with Voucher , FFS , Medicaid\n",
    "ln2 = ln2.filter(\n",
    "    ~(pl.col('plan_type').is_in(['Voucher','Mgd Medicaid','FFS']))\n",
    ")"
   ]
  },
  {
   "cell_type": "markdown",
   "id": "bfd0bea1-cebe-498b-a2b0-b16960b89cbd",
   "metadata": {},
   "source": [
    "<h2><b>PayerInfo</b></h2>"
   ]
  },
  {
   "cell_type": "code",
   "execution_count": 15,
   "id": "e95836ba-4f61-45a3-81cc-b8afbad2040d",
   "metadata": {
    "execution": {
     "iopub.execute_input": "2024-09-11T09:40:07.195756Z",
     "iopub.status.busy": "2024-09-11T09:40:07.195471Z",
     "iopub.status.idle": "2024-09-11T09:40:10.484420Z",
     "shell.execute_reply": "2024-09-11T09:40:10.478942Z"
    }
   },
   "outputs": [],
   "source": [
    "# For Payer Info\n",
    "ln3 = (\n",
    "    ln2\n",
    "    .group_by(['IID','IRWD_FGN_NAME','payer_id'])\n",
    "    .agg(\n",
    "        pl.col('TUF_P4').sum().alias('TUF_P4'),\n",
    "        pl.col('plan_type').first().alias('plan_type'),\n",
    "        pl.col('plan_class').unique().str.concat(' / ').alias('plan_class'),\n",
    "    )\n",
    "    #.with_columns(pl.lit('N_a').alias('plan_class')) #pl.lit(1).alias('product_id').cast(pl.Int64),\n",
    "   # .select(ln3_235.columns)\n",
    ")\n",
    "# for plan_type = total\n",
    "ln4 = ln3.group_by(['IID','IRWD_FGN_NAME','payer_id']).agg([\n",
    "    pl.col(\"TUF_P4\").sum().alias(\"TUF_P4\"), \n",
    "    pl.lit(\"TOTAL\").alias(\"plan_type\"),\n",
    "    pl.col('plan_class').first().alias('plan_class')\n",
    "]).select(ln3.columns)\n",
    "ln4 = ln3.vstack(ln4).with_columns(pl.lit(1).alias('product_id').cast(pl.Int64))"
   ]
  },
  {
   "cell_type": "code",
   "execution_count": 16,
   "id": "c07f62ff-3519-48ec-9fdd-28ab1617e496",
   "metadata": {
    "execution": {
     "iopub.execute_input": "2024-09-11T09:40:10.499000Z",
     "iopub.status.busy": "2024-09-11T09:40:10.498696Z",
     "iopub.status.idle": "2024-09-11T09:40:13.367679Z",
     "shell.execute_reply": "2024-09-11T09:40:13.366124Z"
    }
   },
   "outputs": [],
   "source": [
    "#ranking using pandas\n",
    "payer_info_sort = ln4.sort([\"IID\",'plan_type','TUF_P4','product_id'], descending=True)\n",
    "payer_info_sort = payer_info_sort.to_pandas()\n",
    "# Calculate the rank within each group\n",
    "payer_info_sort.loc[:, 'RANK'] = payer_info_sort.groupby([\"IID\", \"product_id\",'plan_type']).cumcount() + 1\n",
    "\n",
    "# Filter the DataFrame to keep only rows where RANK is less than or equal to 5\n",
    "payer_info_final = (payer_info_sort[payer_info_sort['RANK'] <= 5]).drop_duplicates(subset=[\"IID\", \"product_id\",'plan_type','IRWD_FGN_NAME','payer_id'])\n",
    "\n",
    "#Select the required columns (KEEP equivalent)\n",
    "payer_info_final = payer_info_final[[\"IID\", \"product_id\",'IRWD_FGN_NAME','payer_id','plan_type','plan_class','TUF_P4','RANK']] #change IRWD_FGN_NAME,plan_class\n",
    "payer_info_final = pl.from_pandas(payer_info_final).filter(pl.col('TUF_P4')!=0)"
   ]
  },
  {
   "cell_type": "code",
   "execution_count": 17,
   "id": "5715673c-36c7-429b-af36-04bb8f721cf2",
   "metadata": {
    "execution": {
     "iopub.execute_input": "2024-09-11T09:40:13.389691Z",
     "iopub.status.busy": "2024-09-11T09:40:13.389031Z",
     "iopub.status.idle": "2024-09-11T09:40:13.477253Z",
     "shell.execute_reply": "2024-09-11T09:40:13.476225Z"
    }
   },
   "outputs": [],
   "source": [
    "#Feed1 ready for export\n",
    "feed1_df = payer_info_final\n",
    "feed1_df = payer_info_final.drop('TUF_P4')\n",
    "#renaming column\n",
    "col_mapping = {'payer_id':'PAYER_ID',\n",
    "    'IID':'PHYSICIAN_ID',\n",
    "    'IRWD_FGN_NAME':'PAYER_NAME',\n",
    "    'plan_type':'PAYERTYPE',\n",
    "    'product_id':'PRODUCT_ID',\n",
    "    'plan_class':'FORMULARY'}\n",
    "\n",
    "final_feed1 = feed1_df.rename(col_mapping)\n",
    "# required columns for feed\n",
    "col_to_addrt = ['REPORTTYPE']\n",
    "col_to_addna = ['ACCESS','FORMULARY_BY_PROD','PA_REQUIRED']\n",
    "# func to add columns with desired value\n",
    "def addcol(df,columns_to_add,wtl):\n",
    "    for my_col in columns_to_add:\n",
    "        df = df.with_columns(pl.lit(wtl).alias(my_col))\n",
    "    return df\n",
    "\n",
    "final_feed1 = addcol(final_feed1,col_to_addrt,'WEEKLY')\n",
    "final_feed1 = addcol(final_feed1,col_to_addna,'\\\\N')\n",
    "#final_feed1 = addcol(final_feed1,col_to_addmkt,'1')\n",
    "final_feed1 = final_feed1.with_columns(\n",
    "    pl.when(pl.col('PAYERTYPE')=='Commerical')\n",
    "    .then(pl.lit('COMMERCIAL'))\n",
    "    .when(pl.col('PAYERTYPE')=='Cash')\n",
    "    .then(pl.lit('CASH'))\n",
    "    .when(pl.col('PAYERTYPE')=='Part D')\n",
    "    .then(pl.lit('PART D'))\n",
    "    .when(pl.col('PAYERTYPE')=='Others')\n",
    "    .then(pl.lit('ALL OTHERS'))\n",
    "    .otherwise(pl.col('PAYERTYPE'))\n",
    "    .alias('PAYERTYPE'))\n",
    "#rearranging col\n",
    "req_col =  ['PAYER_NAME','PAYER_ID', 'PAYERTYPE', 'PHYSICIAN_ID', 'PRODUCT_ID', 'REPORTTYPE', 'RANK', 'FORMULARY', \n",
    "            'ACCESS', 'FORMULARY_BY_PROD', 'PA_REQUIRED']\n",
    "final_feed1 = final_feed1.select(req_col)\n"
   ]
  },
  {
   "cell_type": "code",
   "execution_count": 18,
   "id": "084b4d68-3ec8-452f-86fb-a8d0ba7f4f4e",
   "metadata": {
    "execution": {
     "iopub.execute_input": "2024-09-11T09:40:13.482499Z",
     "iopub.status.busy": "2024-09-11T09:40:13.482103Z",
     "iopub.status.idle": "2024-09-11T09:40:31.715964Z",
     "shell.execute_reply": "2024-09-11T09:40:31.715215Z"
    }
   },
   "outputs": [
    {
     "name": "stdout",
     "output_type": "stream",
     "text": [
      "Weekly_PrescriberPayer_PayerInfo_Feed exported!!!!\n"
     ]
    }
   ],
   "source": [
    "#exporting\n",
    "final_feed1 = final_feed1.to_pandas()\n",
    "# Select columns of type 'object' (string)\n",
    "string_columns = final_feed1.select_dtypes(include=['object']).columns.tolist()\n",
    "final_feed1[string_columns] = final_feed1[string_columns].fillna('\\\\N')\n",
    "final_feed1 = final_feed1.replace('NaN', '\\\\N')\n",
    "\n",
    "final_feed1 = final_feed1.replace([np.nan, np.inf, -np.inf], '\\\\N')\n",
    "final_feed1.to_csv(f'{OUT}Weekly_PrescriberPayer_PayerInfo_Feed.txt', sep='|',lineterminator='\\r\\n',index=False)\n",
    "print('Weekly_PrescriberPayer_PayerInfo_Feed exported!!!!')"
   ]
  },
  {
   "cell_type": "markdown",
   "id": "6962715f-c81e-40c9-a9de-421715725d43",
   "metadata": {},
   "source": [
    "<h2><b>SalesPerf</b></h2>"
   ]
  },
  {
   "cell_type": "code",
   "execution_count": 19,
   "id": "9dc19ca0-0df9-4531-b037-31c27df1327d",
   "metadata": {
    "execution": {
     "iopub.execute_input": "2024-09-11T09:40:31.719622Z",
     "iopub.status.busy": "2024-09-11T09:40:31.718785Z",
     "iopub.status.idle": "2024-09-11T09:40:32.304526Z",
     "shell.execute_reply": "2024-09-11T09:40:32.303803Z"
    }
   },
   "outputs": [],
   "source": [
    "# for sales performance\n",
    "\n",
    "ln5 = (\n",
    "    ln2\n",
    "    .join(\n",
    "        prod_mapping.select(['code','product_id','parent_product_id']),\n",
    "        left_on = 'PROD_CD', right_on='code', how = 'left'\n",
    "    )\n",
    "    .select(['IID','IRWD_FGN_NAME','payer_id','product_id','parent_product_id','TUF_P5','TUF_P1','TUF_P2','TUF_P3','TUF_P4','plan_type','plan_class'])\n",
    ")\n",
    "\n",
    "#lin and amt-\n",
    "\n",
    "ln5_235 = (\n",
    "    ln5\n",
    "    .filter(pl.col('parent_product_id').is_in([2,35]))\n",
    "    .group_by(['IID','IRWD_FGN_NAME','payer_id','parent_product_id'])\n",
    "    .agg(\n",
    "        pl.col('TUF_P4').sum().alias('TUF_P4'),\n",
    "        pl.col('TUF_P3').sum().alias('TUF_P3'),\n",
    "        pl.col('TUF_P2').sum().alias('TUF_P2'),\n",
    "        pl.col('TUF_P1').sum().alias('TUF_P1'),\n",
    "        pl.col('TUF_P5').sum().alias('TUF_P5'),\n",
    "        pl.col('plan_type').first().alias('plan_type'),\n",
    "        pl.col('plan_class').first().alias('plan_class')\n",
    "    )\n",
    "    .rename({'parent_product_id':'product_id'})\n",
    ")\n",
    "\n",
    "#lax mkt-\n",
    "\n",
    "ln5_1 = (\n",
    "    ln5\n",
    "    .group_by(['IID','IRWD_FGN_NAME','payer_id'])\n",
    "    .agg(\n",
    "        pl.col('TUF_P4').sum().alias('TUF_P4'),\n",
    "        pl.col('TUF_P3').sum().alias('TUF_P3'),\n",
    "        pl.col('TUF_P2').sum().alias('TUF_P2'),\n",
    "        pl.col('TUF_P1').sum().alias('TUF_P1'),\n",
    "        pl.col('TUF_P5').sum().alias('TUF_P5'),\n",
    "        pl.col('plan_type').first().alias('plan_type'),\n",
    "    )\n",
    "    .with_columns(pl.lit(1).alias('product_id').cast(pl.Int64),pl.lit('N_a').alias('plan_class'))\n",
    "    .select(ln5_235.columns)\n",
    ")\n",
    "\n",
    "ln5 = (\n",
    "    ln5.drop('parent_product_id').select(ln5_235.columns)\n",
    "    .vstack(ln5_235)\n",
    "    .vstack(ln5_1)\n",
    ")"
   ]
  },
  {
   "cell_type": "code",
   "execution_count": 20,
   "id": "0ea09232-51c4-4c87-97f0-d4a4e732ab1b",
   "metadata": {
    "execution": {
     "iopub.execute_input": "2024-09-11T09:40:32.308872Z",
     "iopub.status.busy": "2024-09-11T09:40:32.308397Z",
     "iopub.status.idle": "2024-09-11T09:40:32.897200Z",
     "shell.execute_reply": "2024-09-11T09:40:32.896247Z"
    }
   },
   "outputs": [],
   "source": [
    "ln6 = (\n",
    "    ln5\n",
    "    .join(mp_spec_seg_dec, on='IID', how='left')\n",
    "    .filter(pl.col('geography_id').is_not_null())\n",
    "    .drop(['specialty_group', 'segment', 'decile', 'plan_class'])\n",
    ")\n",
    "\n",
    "ln7 = (\n",
    "    ln6\n",
    "    .join(prod_mapping[['product_id', 'code']], on='product_id', how='left')\n",
    "    .drop('product_id')\n",
    ")\n"
   ]
  },
  {
   "cell_type": "code",
   "execution_count": 21,
   "id": "939f8f74-5017-43ec-ae04-3f39653241d3",
   "metadata": {
    "execution": {
     "iopub.execute_input": "2024-09-11T09:40:32.901139Z",
     "iopub.status.busy": "2024-09-11T09:40:32.900518Z",
     "iopub.status.idle": "2024-09-11T09:40:37.433480Z",
     "shell.execute_reply": "2024-09-11T09:40:37.432617Z"
    }
   },
   "outputs": [],
   "source": [
    "ln8 = ln7.pivot(\n",
    "    values=[\"TUF_P4\",'TUF_P3','TUF_P2','TUF_P1','TUF_P5'],   \n",
    "    index=[\"geography_id\",'IRWD_FGN_NAME','payer_id','IID', 'plan_type'],  \n",
    "    columns=\"code\"   \n",
    ").unique(['geography_id','IRWD_FGN_NAME','IID','plan_type']).fill_null(0)\n",
    "\n",
    "ln8_1 = ln8.group_by(['geography_id', 'IRWD_FGN_NAME','payer_id','IID']).agg(\n",
    "    *[pl.col(col).sum() for col in ln8.columns[5:]],\n",
    "    pl.lit('TOTAL').alias('plan_type')\n",
    ").select(ln8.columns)\n",
    "ln9 = ln8.vstack(ln8_1)\n",
    "ln9 = ln9.filter(pl.col('TUF_P4_code_LAX')!=0)"
   ]
  },
  {
   "cell_type": "code",
   "execution_count": 22,
   "id": "6f8ff36f-c170-45a3-8e46-935d12adf0db",
   "metadata": {
    "execution": {
     "iopub.execute_input": "2024-09-11T09:40:37.437431Z",
     "iopub.status.busy": "2024-09-11T09:40:37.437156Z",
     "iopub.status.idle": "2024-09-11T09:40:37.445254Z",
     "shell.execute_reply": "2024-09-11T09:40:37.444519Z"
    }
   },
   "outputs": [],
   "source": [
    "# For Converting To feed ready Data\n",
    "def getfeed(df):\n",
    "    col_mapping = {\n",
    "    'IID':'PHYSICIAN_ID',\n",
    "    'plan_type':'PAYERTYPE',\n",
    "    'payer_id':'PAYER_ID',\n",
    "    'geography_id':'GEOGRAPHY_ID',\n",
    "    'LAX':'MARKET',\n",
    "    'LIN':'PRODUCT1',\n",
    "    'LI3':'PRODUCT2',\n",
    "    'LI1':'PRODUCT3',\n",
    "    'LI2':'PRODUCT4',\n",
    "    'TAMT':'PRODUCT5',\n",
    "    'AMT':'PRODUCT6',\n",
    "    'LUB':'PRODUCT7',\n",
    "    'TRU':'PRODUCT8',\n",
    "    'MOT':'PRODUCT9',\n",
    "    'IRL':'PRODUCT14',\n",
    "    'LAC':'PRODUCT11'}\n",
    "    df = df.rename(col_mapping)\n",
    "    # required columns for feed\n",
    "    col_to_addrt = ['REPORTTYPE']\n",
    "    col_to_addtrx = ['METRIC']\n",
    "    col_to_addprod = ['PRODUCT_ID']\n",
    "    col_to_addna = ['PRODUCT10', 'PRODUCT12', 'PRODUCT13', 'PRODUCT15', 'PRODUCT16', 'PRODUCT17', 'PRODUCT18', 'PRODUCT19', 'PRODUCT20', 'BENCHMARK']\n",
    "    # func to add columns with desired value\n",
    "    def addcol(df,columns_to_add,wtl):\n",
    "        for my_col in columns_to_add:\n",
    "            df = df.with_columns(pl.lit(wtl).alias(my_col))\n",
    "        return df\n",
    "    df = addcol(df,col_to_addrt,'WEEKLY')\n",
    "    df = addcol(df,col_to_addprod,'1')\n",
    "    df = addcol(df,col_to_addtrx,'TRX')\n",
    "    df = addcol(df,col_to_addna,'\\\\N')\n",
    "    df = df.with_columns(\n",
    "    pl.when(pl.col('PAYERTYPE')=='Commerical')\n",
    "    .then(pl.lit('COMMERCIAL'))\n",
    "    .when(pl.col('PAYERTYPE')=='Cash')\n",
    "    .then(pl.lit('CASH'))\n",
    "    .when(pl.col('PAYERTYPE')=='Part D')\n",
    "    .then(pl.lit('PART D'))\n",
    "    .when(pl.col('PAYERTYPE')=='Others')\n",
    "    .then(pl.lit('ALL OTHERS'))\n",
    "    .otherwise(pl.col('PAYERTYPE'))\n",
    "    .alias('PAYERTYPE'))\n",
    "    #rearranging columns\n",
    "    req_col = columns = [\"GEOGRAPHY_ID\", \"PRODUCT_ID\", \"METRIC\", \"PHYSICIAN_ID\", \"PAYER_ID\", \"PAYERTYPE\", \"REPORTTYPE\", \n",
    "                         \"MARKET\", \"PRODUCT1\", \"PRODUCT2\", \"PRODUCT3\", \"PRODUCT4\", \"PRODUCT5\", \"PRODUCT6\", \"PRODUCT7\", \n",
    "                         \"PRODUCT8\", \"PRODUCT9\", \"PRODUCT10\", \"PRODUCT11\", \"PRODUCT12\", \"PRODUCT13\", \"PRODUCT14\", \n",
    "                         \"PRODUCT15\", \"PRODUCT16\", \"PRODUCT17\", \"PRODUCT18\", \"PRODUCT19\", \"PRODUCT20\", \"BENCHMARK\", \"SHARE\"]\n",
    "\n",
    "    df = df.select(req_col)\n",
    "    return df\n",
    "\n"
   ]
  },
  {
   "cell_type": "code",
   "execution_count": 23,
   "id": "365a1294-fca7-4d14-854f-12d0fcd80c87",
   "metadata": {
    "execution": {
     "iopub.execute_input": "2024-09-11T09:40:37.449157Z",
     "iopub.status.busy": "2024-09-11T09:40:37.448558Z",
     "iopub.status.idle": "2024-09-11T09:43:30.024062Z",
     "shell.execute_reply": "2024-09-11T09:43:30.023144Z"
    }
   },
   "outputs": [
    {
     "name": "stdout",
     "output_type": "stream",
     "text": [
      "PrescriberPayer_SalesPerformance_P1_exported!\n"
     ]
    },
    {
     "name": "stdout",
     "output_type": "stream",
     "text": [
      "PrescriberPayer_SalesPerformance_P2_exported!\n"
     ]
    },
    {
     "name": "stdout",
     "output_type": "stream",
     "text": [
      "PrescriberPayer_SalesPerformance_P3_exported!\n"
     ]
    },
    {
     "name": "stdout",
     "output_type": "stream",
     "text": [
      "PrescriberPayer_SalesPerformance_P4_exported!\n"
     ]
    },
    {
     "name": "stdout",
     "output_type": "stream",
     "text": [
      "PrescriberPayer_SalesPerformance_P5_exported!\n"
     ]
    }
   ],
   "source": [
    "for i in range(1,6):\n",
    "    sales_perf_df1 = ln9.select(['geography_id', 'IRWD_FGN_NAME', 'payer_id', 'IID', 'plan_type'] + \n",
    "                    [pl.col(f\"^.*P{i}.*$\")]\n",
    "    )\n",
    "    renamed_columns = {\n",
    "    col: col.replace(f\"TUF_P{i}_code_\", \"\") if col.startswith(f\"TUF_P{i}_code_\") else col for col in sales_perf_df1.columns\n",
    "    }\n",
    "\n",
    "    sales_perf_df2 = sales_perf_df1.rename(renamed_columns)\n",
    "    sales_perf_df3 = sales_perf_df2.with_columns(\n",
    "        pl.when(pl.col('LAX') != 0)\n",
    "        .then(pl.col('LIN') / pl.col('LAX'))\n",
    "        .otherwise(pl.lit(\"0\"))\n",
    "        .alias(\"SHARE\")\n",
    "    )\n",
    "    sales_perf_final = getfeed(sales_perf_df3)\n",
    "     #===================================================\n",
    "    feed_dataset = sales_perf_final.to_pandas()\n",
    "    # Select columns of type 'object' (string)\n",
    "    string_columns = feed_dataset.select_dtypes(include=['object']).columns.tolist()\n",
    "    feed_dataset[string_columns] = feed_dataset[string_columns].fillna('\\\\N')\n",
    "    feed_dataset = feed_dataset.replace('NaN', '\\\\N')\n",
    "\n",
    "    feed_dataset = feed_dataset.replace([np.nan, np.inf, -np.inf], '\\\\N')\n",
    "    feed_dataset.to_csv(f'{OUT}Weekly_PrescriberPayer_SalesPerformance_P{i}_Feed.txt', sep='|',lineterminator='\\r\\n',index=False)\n",
    "    print(f'PrescriberPayer_SalesPerformance_P{i}_exported!')"
   ]
  }
 ],
 "metadata": {
  "kernelspec": {
   "display_name": "Python 3 (ipykernel)",
   "language": "python",
   "name": "python3"
  },
  "language_info": {
   "codemirror_mode": {
    "name": "ipython",
    "version": 3
   },
   "file_extension": ".py",
   "mimetype": "text/x-python",
   "name": "python",
   "nbconvert_exporter": "python",
   "pygments_lexer": "ipython3",
   "version": "3.10.14"
  }
 },
 "nbformat": 4,
 "nbformat_minor": 5
}
