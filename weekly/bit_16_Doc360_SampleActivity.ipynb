{
 "cells": [
  {
   "cell_type": "markdown",
   "metadata": {},
   "source": [
    "### Doc 360 Sample Activity"
   ]
  },
  {
   "cell_type": "code",
   "execution_count": 1,
   "metadata": {
    "execution": {
     "iopub.execute_input": "2024-10-04T09:51:54.689343Z",
     "iopub.status.busy": "2024-10-04T09:51:54.688325Z",
     "iopub.status.idle": "2024-10-04T09:51:55.142727Z",
     "shell.execute_reply": "2024-10-04T09:51:55.141992Z"
    },
    "jupyter": {
     "source_hidden": true
    }
   },
   "outputs": [],
   "source": [
    "import polars as pl\n",
    "import pandas as pd\n",
    "import gc\n",
    "from datetime import datetime, timedelta,date\n",
    "from dateutil.relativedelta import relativedelta\n",
    "import numpy as np\n",
    "import json"
   ]
  },
  {
   "cell_type": "code",
   "execution_count": 2,
   "metadata": {
    "execution": {
     "iopub.execute_input": "2024-10-04T09:51:55.146239Z",
     "iopub.status.busy": "2024-10-04T09:51:55.145696Z",
     "iopub.status.idle": "2024-10-04T09:51:55.150957Z",
     "shell.execute_reply": "2024-10-04T09:51:55.150190Z"
    },
    "jupyter": {
     "source_hidden": true
    }
   },
   "outputs": [],
   "source": [
    "# load variables from JSON\n",
    "with open('vars_wk.json', 'r') as json_file:\n",
    "    js = json.load(json_file)\n",
    "roster_file = js['roster_file']\n",
    "num_weeks_calls = js['num_weeks_calls']\n",
    "bucket = js['bucket']\n",
    "quarter_start = datetime.strptime(js['quarter_start'], '%Y-%m-%d').date()\n",
    "\n",
    "dflib = f's3://{bucket}/BIT/dataframes/'\n",
    "rst = f's3://{bucket}/BIT/roster/'"
   ]
  },
  {
   "cell_type": "code",
   "execution_count": 3,
   "metadata": {
    "execution": {
     "iopub.execute_input": "2024-10-04T09:51:55.153699Z",
     "iopub.status.busy": "2024-10-04T09:51:55.153427Z",
     "iopub.status.idle": "2024-10-04T09:51:55.159401Z",
     "shell.execute_reply": "2024-10-04T09:51:55.158665Z"
    },
    "jupyter": {
     "source_hidden": true
    }
   },
   "outputs": [],
   "source": [
    "# Utility Functions -\n",
    "def load(df, lib=dflib):\n",
    "    globals()[df] = pl.read_parquet(f'{lib}{df}.parquet')"
   ]
  },
  {
   "cell_type": "code",
   "execution_count": 4,
   "metadata": {
    "execution": {
     "iopub.execute_input": "2024-10-04T09:51:55.162966Z",
     "iopub.status.busy": "2024-10-04T09:51:55.162624Z",
     "iopub.status.idle": "2024-10-04T09:51:56.241479Z",
     "shell.execute_reply": "2024-10-04T09:51:56.240806Z"
    },
    "jupyter": {
     "source_hidden": true
    }
   },
   "outputs": [],
   "source": [
    "# Importing Dependencies\n",
    "load('temp_samples')\n",
    "load('roster')\n",
    "load('MASTER_UNI')\n",
    "roster2 = (\n",
    "    pl.read_parquet(f'{rst}MasterRoster_{roster_file}.parquet')\n",
    "    .with_columns(\n",
    "        pl.col('SalesRepIID').cast(pl.Int64),\n",
    "        Rep = pl.col('EmpFName')+' '+pl.col('EmpLName')\n",
    "    ).select(['SalesRepIID','Rep'])\n",
    ")\n",
    "\n",
    "#fixes for vortex import -> Probably caused by Polars Upgrades\n",
    "temp_samples = temp_samples.with_columns(pl.col('SalesRepIID').cast(pl.Int64))\n"
   ]
  },
  {
   "cell_type": "code",
   "execution_count": 5,
   "metadata": {
    "execution": {
     "iopub.execute_input": "2024-10-04T09:51:56.244903Z",
     "iopub.status.busy": "2024-10-04T09:51:56.244387Z",
     "iopub.status.idle": "2024-10-04T09:51:56.250565Z",
     "shell.execute_reply": "2024-10-04T09:51:56.249937Z"
    },
    "jupyter": {
     "source_hidden": true
    }
   },
   "outputs": [],
   "source": [
    "iw_samples = (\n",
    "    temp_samples\n",
    "    .filter(pl.col('sample_week')<=num_weeks_calls)\n",
    "    .filter(pl.col('CallDate')>= quarter_start)\n",
    "    # .join(MASTER_UNI.select(['IID','Territory']),left_on = 'AttendeeIID', right_on = 'IID',how='left')\n",
    "    # .join(roster, on = 'SalesRepIID' , how = 'left')\n",
    "    # .filter(pl.col('Territory')==pl.col('GEO'))\n",
    ")"
   ]
  },
  {
   "cell_type": "code",
   "execution_count": 6,
   "metadata": {
    "execution": {
     "iopub.execute_input": "2024-10-04T09:51:56.255152Z",
     "iopub.status.busy": "2024-10-04T09:51:56.254735Z",
     "iopub.status.idle": "2024-10-04T09:51:56.266568Z",
     "shell.execute_reply": "2024-10-04T09:51:56.265505Z"
    },
    "jupyter": {
     "source_hidden": true
    }
   },
   "outputs": [],
   "source": [
    "# Processing =\n",
    "def get_pid(desc):\n",
    "    if desc == '290 mcg':\n",
    "        return(5)\n",
    "    elif desc =='145 mcg':\n",
    "        return(4)\n",
    "    elif desc =='72 mcg':\n",
    "        return(3)\n",
    "    return(0)\n",
    "\n",
    "temp1 = (\n",
    "    iw_samples\n",
    "    .with_columns(pl.col('CallProductDescription').map_elements(get_pid,return_dtype=pl.Int64).alias('Product_id'))\n",
    "    .select(['CallID','AttendeeIID','CallDate','SalesRepIID','CallProductQuantity','Product_id'])\n",
    "    .join(roster2,on='SalesRepIID',how='left').drop('SalesRepIID')\n",
    "    .group_by(['CallID','AttendeeIID','CallDate','Product_id','Rep'])\n",
    "    .agg(Quantity=pl.col('CallProductQuantity').sum())\n",
    "    .with_columns(\n",
    "        pl.col('CallID').cast(pl.Int64),\n",
    "        pl.lit(1).alias('Salesforce_id'),\n",
    "    )\n",
    "    .select('CallID','Product_id','AttendeeIID','Salesforce_id','CallDate','Rep','Quantity')\n",
    ")\n",
    "temp1.columns = ['SampleId','Product_id','DoctorId','Salesforce_id','Date','Rep','Quantity']"
   ]
  },
  {
   "cell_type": "code",
   "execution_count": 7,
   "metadata": {
    "execution": {
     "iopub.execute_input": "2024-10-04T09:51:56.271454Z",
     "iopub.status.busy": "2024-10-04T09:51:56.270338Z",
     "iopub.status.idle": "2024-10-04T09:51:56.809834Z",
     "shell.execute_reply": "2024-10-04T09:51:56.808658Z"
    },
    "jupyter": {
     "source_hidden": true
    }
   },
   "outputs": [
    {
     "name": "stdout",
     "output_type": "stream",
     "text": [
      "Doc360_SampleActivity_Feed Exported !\n"
     ]
    }
   ],
   "source": [
    "#Exporting Feeds-\n",
    "OUT = 's3://vortex-staging-a65ced90/BIT/output/Doc360/'\n",
    "temp1.to_pandas().to_csv(f'{OUT}Doc360_SampleActivity_Feed.txt', sep='|',lineterminator='\\r\\n',index=False)\n",
    "print('Doc360_SampleActivity_Feed Exported !')"
   ]
  }
 ],
 "metadata": {
  "kernelspec": {
   "display_name": "Python 3 (ipykernel)",
   "language": "python",
   "name": "python3"
  },
  "language_info": {
   "codemirror_mode": {
    "name": "ipython",
    "version": 3
   },
   "file_extension": ".py",
   "mimetype": "text/x-python",
   "name": "python",
   "nbconvert_exporter": "python",
   "pygments_lexer": "ipython3",
   "version": "3.10.14"
  }
 },
 "nbformat": 4,
 "nbformat_minor": 4
}
