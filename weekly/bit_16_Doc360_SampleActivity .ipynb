{
 "cells": [
  {
   "cell_type": "markdown",
   "metadata": {},
   "source": [
    "### Doc 360 Sample Activity"
   ]
  },
  {
   "cell_type": "code",
   "execution_count": 1,
   "metadata": {
    "execution": {
     "iopub.execute_input": "2024-08-06T14:51:06.695625Z",
     "iopub.status.busy": "2024-08-06T14:51:06.694947Z",
     "iopub.status.idle": "2024-08-06T14:51:07.535247Z",
     "shell.execute_reply": "2024-08-06T14:51:07.534249Z"
    },
    "jupyter": {
     "source_hidden": true
    }
   },
   "outputs": [],
   "source": [
    "import polars as pl\n",
    "import gc\n",
    "import pandas as pd\n",
    "import json"
   ]
  },
  {
   "cell_type": "code",
   "execution_count": 2,
   "metadata": {
    "execution": {
     "iopub.execute_input": "2024-08-06T14:51:07.541777Z",
     "iopub.status.busy": "2024-08-06T14:51:07.541186Z",
     "iopub.status.idle": "2024-08-06T14:51:07.555663Z",
     "shell.execute_reply": "2024-08-06T14:51:07.554928Z"
    },
    "jupyter": {
     "source_hidden": true
    }
   },
   "outputs": [],
   "source": [
    "# load variables from JSON\n",
    "with open('vars_wk.json', 'r') as json_file:\n",
    "    js = json.load(json_file)\n",
    "roster_file = js['roster_file']\n",
    "num_weeks_calls = js['num_weeks_calls']\n",
    "bucket = js['bucket']\n",
    "\n",
    "dflib = f's3://{bucket}/BIT/dataframes/'\n",
    "rst = f's3://{bucket}/BIT/roster/'"
   ]
  },
  {
   "cell_type": "code",
   "execution_count": 3,
   "metadata": {
    "execution": {
     "iopub.execute_input": "2024-08-06T14:51:07.560577Z",
     "iopub.status.busy": "2024-08-06T14:51:07.558594Z",
     "iopub.status.idle": "2024-08-06T14:51:07.564439Z",
     "shell.execute_reply": "2024-08-06T14:51:07.563685Z"
    },
    "jupyter": {
     "source_hidden": true
    }
   },
   "outputs": [],
   "source": [
    "# Utility Functions -\n",
    "def load(df, lib=dflib):\n",
    "    globals()[df] = pl.read_parquet(f'{lib}{df}.parquet')"
   ]
  },
  {
   "cell_type": "code",
   "execution_count": 4,
   "metadata": {
    "execution": {
     "iopub.execute_input": "2024-08-06T14:51:07.567785Z",
     "iopub.status.busy": "2024-08-06T14:51:07.567054Z",
     "iopub.status.idle": "2024-08-06T14:51:07.888044Z",
     "shell.execute_reply": "2024-08-06T14:51:07.886895Z"
    },
    "jupyter": {
     "source_hidden": true
    }
   },
   "outputs": [],
   "source": [
    "# Importing Dependencies\n",
    "load('temp_samples')\n",
    "roster = (\n",
    "    pl.read_parquet(f'{rst}MasterRoster_{roster_file}.parquet')\n",
    "    .with_columns(\n",
    "        pl.col('SalesRepIID').cast(pl.Int64),\n",
    "        Rep = pl.col('EmpFName')+' '+pl.col('EmpLName')\n",
    "    ).select(['SalesRepIID','Rep'])\n",
    ")\n",
    "\n",
    "#fixes for vortex import -> Probably caused by Polars Upgrades\n",
    "temp_samples = temp_samples.with_columns(pl.col('SalesRepIID').cast(pl.Int64))\n"
   ]
  },
  {
   "cell_type": "code",
   "execution_count": 5,
   "metadata": {
    "execution": {
     "iopub.execute_input": "2024-08-06T14:51:07.891794Z",
     "iopub.status.busy": "2024-08-06T14:51:07.891444Z",
     "iopub.status.idle": "2024-08-06T14:51:07.920408Z",
     "shell.execute_reply": "2024-08-06T14:51:07.919550Z"
    },
    "jupyter": {
     "source_hidden": true
    }
   },
   "outputs": [],
   "source": [
    "# Processing =\n",
    "def get_pid(desc):\n",
    "    if desc == '290 mcg':\n",
    "        return(5)\n",
    "    elif desc =='145 mcg':\n",
    "        return(4)\n",
    "    elif desc =='72 mcg':\n",
    "        return(3)\n",
    "    return(0)\n",
    "\n",
    "temp1 = (\n",
    "    temp_samples\n",
    "    .filter(pl.col('sample_week')<=num_weeks_calls)\n",
    "    .with_columns(pl.col('CallProductDescription').map_elements(get_pid,return_dtype=pl.Int64).alias('Product_id'))\n",
    "    .select(['CallID','AttendeeIID','CallDate','SalesRepIID','CallProductQuantity','Product_id'])\n",
    "    .join(roster,on='SalesRepIID',how='left').drop('SalesRepIID')\n",
    "    .group_by(['CallID','AttendeeIID','CallDate','Product_id','Rep'])\n",
    "    .agg(Quantity=pl.col('CallProductQuantity').sum())\n",
    "    .with_columns(\n",
    "        pl.col('CallID').cast(pl.Int64),\n",
    "        pl.lit(1).alias('Salesforce_id'),\n",
    "    )\n",
    "    .select('CallID','Product_id','AttendeeIID','Salesforce_id','CallDate','Rep','Quantity')\n",
    ")\n",
    "temp1.columns = ['SampleId','Product_id','DoctorId','Salesforce_id','Date','Rep','Quantity']"
   ]
  },
  {
   "cell_type": "code",
   "execution_count": 6,
   "metadata": {
    "execution": {
     "iopub.execute_input": "2024-08-06T14:51:07.925528Z",
     "iopub.status.busy": "2024-08-06T14:51:07.924506Z",
     "iopub.status.idle": "2024-08-06T14:51:08.616148Z",
     "shell.execute_reply": "2024-08-06T14:51:08.615078Z"
    },
    "jupyter": {
     "source_hidden": true
    }
   },
   "outputs": [
    {
     "name": "stdout",
     "output_type": "stream",
     "text": [
      "Doc360_SampleActivity_Feed Exported !\n"
     ]
    }
   ],
   "source": [
    "#Exporting Feeds-\n",
    "OUT = 's3://vortex-staging-a65ced90/BIT/output/Doc360/'\n",
    "temp1.to_pandas().to_csv(f'{OUT}Doc360_SampleActivity_Feed.txt', sep='|')\n",
    "print('Doc360_SampleActivity_Feed Exported !')"
   ]
  }
 ],
 "metadata": {
  "kernelspec": {
   "display_name": "Python 3 (ipykernel)",
   "language": "python",
   "name": "python3"
  },
  "language_info": {
   "codemirror_mode": {
    "name": "ipython",
    "version": 3
   },
   "file_extension": ".py",
   "mimetype": "text/x-python",
   "name": "python",
   "nbconvert_exporter": "python",
   "pygments_lexer": "ipython3",
   "version": "3.10.14"
  }
 },
 "nbformat": 4,
 "nbformat_minor": 4
}
